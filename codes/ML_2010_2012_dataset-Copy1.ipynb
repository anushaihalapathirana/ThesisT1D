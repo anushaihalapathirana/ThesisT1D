{
 "cells": [
  {
   "cell_type": "markdown",
   "metadata": {},
   "source": [
    "# Models"
   ]
  },
  {
   "cell_type": "code",
   "execution_count": 109,
   "metadata": {},
   "outputs": [],
   "source": [
    "import pandas as pd  \n",
    "import matplotlib.pyplot as plt\n",
    "import seaborn as sns\n",
    "import numpy as np\n",
    "from functools import reduce\n",
    "import sys\n",
    "import numpy\n",
    "numpy.set_printoptions(threshold=sys.maxsize)"
   ]
  },
  {
   "cell_type": "code",
   "execution_count": 110,
   "metadata": {},
   "outputs": [],
   "source": [
    "# load pre porcessed data\n",
    "df = pd.read_csv('../prepross_data/data.csv')\n"
   ]
  },
  {
   "cell_type": "markdown",
   "metadata": {},
   "source": [
    "#### Filterout the paper described patient set"
   ]
  },
  {
   "cell_type": "code",
   "execution_count": 111,
   "metadata": {},
   "outputs": [
    {
     "name": "stdout",
     "output_type": "stream",
     "text": [
      "Number of patients whos age is 26+ and diabetics duration greater than 2  is -> 7155\n"
     ]
    }
   ],
   "source": [
    "# filter dataset as describe in paper\n",
    "def get_filter_by_age_diabDur(df, age, diabDur):\n",
    "    filter_patients = df[(df[\"AgeAtConsent\"] >= age) & (df[\"diagDuration\"] > diabDur)] \n",
    "#     filter_patients=filter_patients.drop_duplicates(subset=\"PtID\",keep=\"first\") \n",
    "    print(f'Number of patients whos age is {age}+ and diabetics duration greater than {diabDur}  is -> {filter_patients.PtID.size}')\n",
    "    return filter_patients\n",
    "\n",
    "df = get_filter_by_age_diabDur(df, 26, 2)"
   ]
  },
  {
   "cell_type": "code",
   "execution_count": 112,
   "metadata": {},
   "outputs": [],
   "source": [
    "\n",
    "# def get_missing_row_val_percentage(df):\n",
    "#     df['new'] = df.isnull().sum(axis=1)\n",
    "#     return df\n",
    "\n",
    "\n",
    "# df = get_missing_row_val_percentage(df)\n",
    "\n",
    "# filter_patients = df[(df[\"new\"] >= 85)] \n",
    "# filter_patients.PtID.size"
   ]
  },
  {
   "cell_type": "markdown",
   "metadata": {},
   "source": [
    "### for SH events prediction pre processing\n"
   ]
  },
  {
   "cell_type": "code",
   "execution_count": 113,
   "metadata": {},
   "outputs": [],
   "source": [
    "y_label = 'Pt_SevHypoEver' \n",
    "# possible labels Pt_SevHypoEver, SHSeizComaPast12mos, DKAPast12mos, Depression, DiabNeuro, DKADiag"
   ]
  },
  {
   "cell_type": "code",
   "execution_count": 114,
   "metadata": {},
   "outputs": [
    {
     "data": {
      "text/plain": [
       "array([ 1.,  0., nan,  2.])"
      ]
     },
     "execution_count": 114,
     "metadata": {},
     "output_type": "execute_result"
    }
   ],
   "source": [
    "df[y_label].unique()"
   ]
  },
  {
   "cell_type": "code",
   "execution_count": 115,
   "metadata": {},
   "outputs": [],
   "source": [
    "# get possible values in column including nan\n",
    "def get_possible_vals_with_nan(df, colName):\n",
    "    list_val =df[colName].unique().tolist()\n",
    "    return list_val\n",
    "\n",
    "\n",
    "# {'1.Yes': 0, '2.No': 1, \"3.Don't know\": 2}\n",
    "\n",
    "get_possible_vals_with_nan(df, y_label)\n",
    "\n",
    "if(y_label == 'SHSeizComaPast12mos' ):\n",
    "    df.drop(['NumSHSeizComaPast12mos','Pt_v3NumSHSeizComa','NumSHSeizComa', 'Pt_SevHypoEver'], inplace=True, axis=1) # add SHSeizComaPast12mos\n",
    "    df[y_label] = df[y_label].replace({2.0: 1.0})\n",
    "\n",
    "elif (y_label == 'DKADiag'):  # DKADiag {'1.Yes': 0, '2.Probably Yes': 1, '3.No': 2, '4.Unknown': 3}\n",
    "    df.drop(['Pt_NumHospDKA','Pt_HospDKASinceDiag','NumDKAOccur', 'DKAPast12mos'], inplace=True, axis=1)\n",
    "    df[y_label] = df[y_label].replace({1.0: 0, 2: 1, 3: 1 })\n",
    "    \n",
    "elif (y_label == 'Pt_SevHypoEver'):\n",
    "    df.drop(['NumSHSeizComaPast12mos','Pt_v3NumSHSeizComa','NumSHSeizComa', 'SHSeizComaPast12mos'], inplace=True, axis=1) # add SHSeizComaPast12mos\n",
    "    df[y_label] = df[y_label].replace({2.0: 1.0})\n",
    "\n",
    "elif (y_label == 'DKAPast12mos'):\n",
    "    df.drop(['Pt_NumHospDKA','Pt_HospDKASinceDiag','NumDKAOccur', 'DKADiag'], inplace=True, axis=1)\n",
    "    df[y_label] = df[y_label].replace({2.0: 1.0})\n",
    "\n",
    "# f_df = df[df['Pt_SevHypoEver'] == 0.0]\n",
    "# f_df.PtID.size\n",
    "\n",
    "# f2_df = df[df['Pt_SevHypoEver'] == 1.0]\n",
    "# f2_df.PtID.size"
   ]
  },
  {
   "cell_type": "code",
   "execution_count": 116,
   "metadata": {},
   "outputs": [
    {
     "data": {
      "text/plain": [
       "2080"
      ]
     },
     "execution_count": 116,
     "metadata": {},
     "output_type": "execute_result"
    }
   ],
   "source": [
    "# df.columns.to_numpy()\n",
    "\n",
    "df[y_label].isna().sum()"
   ]
  },
  {
   "cell_type": "markdown",
   "metadata": {},
   "source": [
    "# Divide Dataset"
   ]
  },
  {
   "cell_type": "code",
   "execution_count": 117,
   "metadata": {},
   "outputs": [],
   "source": [
    "# filter only the features used in paper diagDuration,\n",
    "\n",
    "selected_features = True\n",
    "\n",
    "if(selected_features):\n",
    "    df = df[['AgeAtConsent','diagDuration','HbA1c', 'Gender', 'Pt_RaceEth','Pt_AnnualInc', 'Pt_InsPriv', 'Pt_EduLevel',\n",
    "         'InsulinDeliv','Pt_InsCarbRat', 'relative_T1D', 'Pt_Smoke', y_label,\n",
    "         'MajorLifeStressEvent', 'Weight', 'Height']] # Pt_SevHypoEver ,SHSeizComaPast12mos, DKAPast12mos\n"
   ]
  },
  {
   "cell_type": "code",
   "execution_count": 118,
   "metadata": {},
   "outputs": [],
   "source": [
    "if(!selected_features):\n",
    "    df.drop('PtID', axis = 1)"
   ]
  },
  {
   "cell_type": "code",
   "execution_count": 119,
   "metadata": {},
   "outputs": [],
   "source": [
    "\n",
    "def divide_data(df,label):\n",
    "    Y = df[label]\n",
    "    X = df.drop(label, axis=1)\n",
    "    return X, Y\n",
    "\n",
    "\n",
    "X, Y = divide_data(df, y_label)\n"
   ]
  },
  {
   "cell_type": "markdown",
   "metadata": {},
   "source": [
    "# Correlation"
   ]
  },
  {
   "cell_type": "code",
   "execution_count": 120,
   "metadata": {},
   "outputs": [],
   "source": [
    "# # Correlation\n",
    "# X = pd.DataFrame(X)\n",
    "# corr = X.corr(method ='pearson')\n",
    "\n",
    "# corr = X.corr(method ='pearson').abs()\n",
    "# # avg_corr = corr.mean(axis = 1)\n"
   ]
  },
  {
   "cell_type": "code",
   "execution_count": 121,
   "metadata": {},
   "outputs": [],
   "source": [
    "# import seaborn as sn\n",
    "# plt.figure(figsize=(20,20))\n",
    "\n",
    "# sn.heatmap(corr,annot=True)\n",
    "# plt.title('Correlation Matrix', fontsize=16)\n",
    "# plt.show()"
   ]
  },
  {
   "cell_type": "code",
   "execution_count": null,
   "metadata": {},
   "outputs": [],
   "source": []
  },
  {
   "cell_type": "markdown",
   "metadata": {},
   "source": [
    "# Feature Selection"
   ]
  },
  {
   "cell_type": "code",
   "execution_count": 122,
   "metadata": {},
   "outputs": [],
   "source": [
    "from sklearn.preprocessing import OneHotEncoder, StandardScaler, MinMaxScaler\n",
    "from sklearn.feature_selection import SelectKBest, mutual_info_classif, SelectPercentile\n",
    "from sklearn.metrics import confusion_matrix, classification_report, f1_score, auc, roc_curve, roc_auc_score, precision_score, recall_score, balanced_accuracy_score\n",
    "from numpy.random import seed\n",
    "from sklearn.model_selection import GridSearchCV, train_test_split, cross_val_score\n",
    "seed(42)\n",
    "import tensorflow as tf\n",
    "tf.random.set_seed(38)\n",
    "from sklearn.impute import SimpleImputer, KNNImputer\n",
    "from sklearn.experimental import enable_iterative_imputer\n",
    "from sklearn.impute import IterativeImputer\n",
    "from sklearn.discriminant_analysis import LinearDiscriminantAnalysis\n",
    "\n",
    "\n",
    "from keras.callbacks import TensorBoard\n",
    "from keras.models import Sequential\n",
    "from keras.layers import Dense"
   ]
  },
  {
   "cell_type": "code",
   "execution_count": 123,
   "metadata": {},
   "outputs": [
    {
     "data": {
      "text/plain": [
       "15"
      ]
     },
     "execution_count": 123,
     "metadata": {},
     "output_type": "execute_result"
    }
   ],
   "source": [
    "shape = np.shape(X) \n",
    "feature = shape[1] \n",
    "n_classes = 2\n",
    "\n",
    "feature"
   ]
  },
  {
   "cell_type": "code",
   "execution_count": 124,
   "metadata": {},
   "outputs": [],
   "source": [
    "\n",
    "# fill with 0 - if data not available probably patient has not that medical condition\n",
    "if(y_label == 'SHSeizComaPast12mos' or y_label == 'DKADiag' or y_label == 'Pt_SevHypoEver' or y_label == 'DKAPast12mos'):\n",
    "    Y = Y.fillna(1)\n",
    "else:\n",
    "    Y = Y.fillna(0)\n"
   ]
  },
  {
   "cell_type": "code",
   "execution_count": 125,
   "metadata": {},
   "outputs": [],
   "source": [
    "\n",
    "seed(42)\n",
    "tf.random.set_seed(38)\n",
    "# Save original data set\n",
    "original_X = X\n",
    "\n",
    "# Split into training and testing sets\n",
    "X_train, X_test, Y_train, Y_test = train_test_split(X, Y, test_size=0.25, stratify=Y, random_state=123)\n",
    "# if variable y is a binary categorical variable with values 0 and 1 and there are 25% of zeros and 75% of ones, stratify=y will make sure that your random split has 25% of 0's and 75% of 1's.\n",
    "# X_train, X_test, Y_train, Y_test = train_test_split(X, Y, test_size=0.25)\n"
   ]
  },
  {
   "cell_type": "code",
   "execution_count": 126,
   "metadata": {},
   "outputs": [
    {
     "name": "stdout",
     "output_type": "stream",
     "text": [
      "[0. 1.] [1471 3895]\n",
      "[0. 1.] [ 491 1298]\n"
     ]
    }
   ],
   "source": [
    "len(Y_train == 0.0)\n",
    "unique, counts = numpy.unique(Y_train.to_numpy(), return_counts=True)\n",
    "print(unique, counts)\n",
    "\n",
    "\n",
    "unique_test, counts_test = numpy.unique(Y_test.to_numpy(), return_counts=True)\n",
    "print(unique_test, counts_test)\n"
   ]
  },
  {
   "cell_type": "markdown",
   "metadata": {},
   "source": [
    "## Model 1 - XGB - With missing data"
   ]
  },
  {
   "cell_type": "code",
   "execution_count": 127,
   "metadata": {
    "scrolled": false
   },
   "outputs": [
    {
     "name": "stdout",
     "output_type": "stream",
     "text": [
      "72.55449972051426\n",
      "              precision    recall  f1-score   support\n",
      "\n",
      "         0.0       0.50      0.09      0.15       491\n",
      "         1.0       0.74      0.97      0.84      1298\n",
      "\n",
      "    accuracy                           0.73      1789\n",
      "   macro avg       0.62      0.53      0.49      1789\n",
      "weighted avg       0.67      0.73      0.65      1789\n",
      "\n"
     ]
    },
    {
     "data": {
      "image/png": "[encoded data removed]",
      "text/plain": [
       "<Figure size 432x288 with 2 Axes>"
      ]
     },
     "metadata": {
      "needs_background": "light"
     },
     "output_type": "display_data"
    }
   ],
   "source": [
    "# xgboost - train with missing values\n",
    "from xgboost import XGBClassifier\n",
    "from sklearn.metrics import accuracy_score\n",
    "\n",
    "model=XGBClassifier(use_label_encoder=False, eta = 0.1,#eta between(0.01-0.2)\n",
    "        max_depth = 3, #values between(3-10)\n",
    "        max_delta_step = 1,\n",
    "        subsample = 0.5,#values between(0.5-1)\n",
    "        colsample_bytree = 0.7,#values between(0.5-1)\n",
    "        tree_method = \"auto\",\n",
    "        process_type = \"default\",\n",
    "        num_parallel_tree=7,\n",
    "        objective='multi:softmax',\n",
    "        min_child_weight = 3,\n",
    "        booster='gbtree',\n",
    "        eval_metric = \"mlogloss\",\n",
    "        num_class = n_classes)\n",
    "model.fit(X_train,Y_train)\n",
    "\n",
    "\n",
    "\n",
    "xgb_pred=model.predict(X_test)\n",
    "print(accuracy_score(Y_test, xgb_pred)*100)\n",
    "\n",
    "confusion_matrix_xgb = pd.DataFrame(confusion_matrix(Y_test, xgb_pred))\n",
    "sns.heatmap(confusion_matrix_xgb, annot=True)\n",
    "print(classification_report(Y_test, xgb_pred))"
   ]
  },
  {
   "cell_type": "code",
   "execution_count": null,
   "metadata": {},
   "outputs": [],
   "source": []
  },
  {
   "cell_type": "markdown",
   "metadata": {},
   "source": [
    "# Imputations"
   ]
  },
  {
   "cell_type": "code",
   "execution_count": 128,
   "metadata": {},
   "outputs": [],
   "source": [
    "# fill nan values in categorical dataset with frequent value\n",
    "\n",
    "# tested wuth mean and median - results is lower than most_frequent\n",
    "imputeX = SimpleImputer(missing_values=np.nan, strategy = \"most_frequent\")\n",
    "# imputeX = KNNImputer(missing_values=np.nan, n_neighbors = 3, weights='distance')\n",
    "# imputeX = IterativeImputer(max_iter=5, random_state=0)\n",
    "\n",
    "X_train = imputeX.fit_transform(X_train)\n"
   ]
  },
  {
   "cell_type": "code",
   "execution_count": 129,
   "metadata": {},
   "outputs": [],
   "source": [
    "# test data imputation\n",
    "\n",
    "Test = X_test.copy()\n",
    "Test.loc[:,y_label] = Y_test\n",
    "\n",
    "X_test = imputeX.transform(X_test)\n"
   ]
  },
  {
   "cell_type": "markdown",
   "metadata": {},
   "source": [
    "# Scale data"
   ]
  },
  {
   "cell_type": "code",
   "execution_count": 130,
   "metadata": {},
   "outputs": [],
   "source": [
    "# Normalize numeric features\n",
    "scaler = StandardScaler()\n",
    "# scaler = MinMaxScaler()\n",
    "select = {}\n",
    "select[0] = pd.DataFrame(scaler.fit_transform(X_train))\n",
    "select[1] = Y_train\n",
    "select[2] = pd.DataFrame(scaler.transform(X_test))"
   ]
  },
  {
   "cell_type": "code",
   "execution_count": null,
   "metadata": {},
   "outputs": [],
   "source": []
  },
  {
   "cell_type": "markdown",
   "metadata": {},
   "source": [
    "# Feature selection"
   ]
  },
  {
   "cell_type": "code",
   "execution_count": 131,
   "metadata": {},
   "outputs": [],
   "source": [
    "# TODO\n",
    "\n",
    "def select_features(select, feature):\n",
    "    selected = {}\n",
    "    fs = SelectKBest(score_func=mutual_info_classif, k=feature) # k=feature score_func SelectPercentile\n",
    "    selected[0] = fs.fit_transform(select[0], select[1])\n",
    "    selected[1] = fs.transform(select[2])\n",
    "        \n",
    "    idx = fs.get_support(indices=True)\n",
    "    \n",
    "    return selected, fs, idx\n",
    "\n"
   ]
  },
  {
   "cell_type": "code",
   "execution_count": 132,
   "metadata": {},
   "outputs": [],
   "source": [
    "from sklearn.feature_selection import RFE\n",
    "from sklearn.linear_model import LogisticRegression\n",
    "\n",
    "#Selecting the Best important features according to Logistic Regression\n",
    "# Give better performance than selectKBest \n",
    "# def select_features(select, feature):\n",
    "#     selected = {}\n",
    "#     fs = RFE(estimator=LogisticRegression(), n_features_to_select=feature, step = 10) #  step (the number of features eliminated each iteration) \n",
    "#     selected[0] = fs.fit_transform(select[0], select[1])\n",
    "#     selected[1] = fs.transform(select[2])\n",
    "        \n",
    "#     idx = fs.get_support(indices=True)\n",
    "    \n",
    "#     return selected, fs, idx\n"
   ]
  },
  {
   "cell_type": "code",
   "execution_count": 133,
   "metadata": {},
   "outputs": [],
   "source": [
    "# Feature selection\n",
    "selected, fs, idx = select_features(select, feature)\n",
    "X_train = pd.DataFrame(selected[0])\n",
    "X_test = pd.DataFrame(selected[1])"
   ]
  },
  {
   "cell_type": "code",
   "execution_count": 134,
   "metadata": {},
   "outputs": [
    {
     "name": "stdout",
     "output_type": "stream",
     "text": [
      "Index(['AgeAtConsent', 'diagDuration', 'HbA1c', 'Gender', 'Pt_RaceEth',\n",
      "       'Pt_AnnualInc', 'Pt_InsPriv', 'Pt_EduLevel', 'InsulinDeliv',\n",
      "       'Pt_InsCarbRat', 'relative_T1D', 'Pt_Smoke', 'MajorLifeStressEvent',\n",
      "       'Weight', 'Height'],\n",
      "      dtype='object')\n",
      "(7155, 15)\n"
     ]
    }
   ],
   "source": [
    "# Get columns to keep and create new dataframe with those only\n",
    "from pprint import pprint\n",
    "cols = fs.get_support(indices=True)\n",
    "features_df_new = original_X.iloc[:,cols]\n",
    "pprint(features_df_new.columns)\n",
    "print(features_df_new.shape)"
   ]
  },
  {
   "cell_type": "markdown",
   "metadata": {},
   "source": []
  },
  {
   "cell_type": "code",
   "execution_count": null,
   "metadata": {},
   "outputs": [],
   "source": []
  },
  {
   "cell_type": "markdown",
   "metadata": {},
   "source": [
    "## AdaBoost"
   ]
  },
  {
   "cell_type": "code",
   "execution_count": 135,
   "metadata": {},
   "outputs": [],
   "source": [
    "from sklearn.ensemble import AdaBoostClassifier\n",
    "from sklearn.model_selection import GridSearchCV\n",
    "from sklearn import svm\n",
    "\n",
    "C = [0.1,1.0,10.0,100.0]\n",
    "gamma = [0.1,0.25,0.5,0.75,1.0,2.0]\n",
    "n_estimators = [50,100,500,1000]\n",
    "learning_rate = [0.1,0.25,0.5,0.75,1.0]\n",
    "\n",
    "adaBoost_parameters = {'learning_rate': learning_rate,'n_estimators':n_estimators }\n",
    "ada_model = AdaBoostClassifier(random_state=0)\n",
    "adaBoost = GridSearchCV(ada_model, adaBoost_parameters, cv=10)"
   ]
  },
  {
   "cell_type": "code",
   "execution_count": 136,
   "metadata": {},
   "outputs": [
    {
     "name": "stdout",
     "output_type": "stream",
     "text": [
      "Best hyperparameters for AdaBoost training acc : {'learning_rate': 0.25, 'n_estimators': 500}\n"
     ]
    }
   ],
   "source": [
    "adaBoost.fit(X_train,Y_train)\n",
    "ada_best_params_acc = adaBoost.best_params_\n",
    "print('Best hyperparameters for AdaBoost training acc :', ada_best_params_acc)"
   ]
  },
  {
   "cell_type": "code",
   "execution_count": 137,
   "metadata": {},
   "outputs": [
    {
     "name": "stdout",
     "output_type": "stream",
     "text": [
      "72.61039686975964\n",
      "              precision    recall  f1-score   support\n",
      "\n",
      "         0.0       0.51      0.10      0.17       491\n",
      "         1.0       0.74      0.96      0.84      1298\n",
      "\n",
      "    accuracy                           0.73      1789\n",
      "   macro avg       0.62      0.53      0.50      1789\n",
      "weighted avg       0.67      0.73      0.65      1789\n",
      "\n"
     ]
    },
    {
     "data": {
      "image/png": "[encoded data removed]",
      "text/plain": [
       "<Figure size 432x288 with 2 Axes>"
      ]
     },
     "metadata": {
      "needs_background": "light"
     },
     "output_type": "display_data"
    }
   ],
   "source": [
    "adaBoost_best_acc = AdaBoostClassifier(random_state=0, learning_rate=ada_best_params_acc['learning_rate'], n_estimators=ada_best_params_acc['n_estimators'] )\n",
    "adaBoost_best_acc.fit(X_train, Y_train)\n",
    "\n",
    "pred=adaBoost_best_acc.predict(X_test)\n",
    "print(accuracy_score(Y_test, pred)*100)\n",
    "\n",
    "confusion_matrix_xgb = pd.DataFrame(confusion_matrix(Y_test, pred))\n",
    "sns.heatmap(confusion_matrix_xgb, annot=True)\n",
    "print(classification_report(Y_test, pred))"
   ]
  },
  {
   "cell_type": "code",
   "execution_count": null,
   "metadata": {},
   "outputs": [],
   "source": []
  },
  {
   "cell_type": "code",
   "execution_count": null,
   "metadata": {},
   "outputs": [],
   "source": []
  },
  {
   "cell_type": "code",
   "execution_count": null,
   "metadata": {},
   "outputs": [],
   "source": []
  },
  {
   "cell_type": "code",
   "execution_count": null,
   "metadata": {},
   "outputs": [],
   "source": []
  },
  {
   "cell_type": "code",
   "execution_count": null,
   "metadata": {},
   "outputs": [],
   "source": []
  },
  {
   "cell_type": "markdown",
   "metadata": {},
   "source": [
    "# Model - XGB"
   ]
  },
  {
   "cell_type": "code",
   "execution_count": 138,
   "metadata": {},
   "outputs": [
    {
     "name": "stdout",
     "output_type": "stream",
     "text": [
      "72.10732252655114\n",
      "              precision    recall  f1-score   support\n",
      "\n",
      "         0.0       0.48      0.17      0.25       491\n",
      "         1.0       0.75      0.93      0.83      1298\n",
      "\n",
      "    accuracy                           0.72      1789\n",
      "   macro avg       0.61      0.55      0.54      1789\n",
      "weighted avg       0.67      0.72      0.67      1789\n",
      "\n"
     ]
    },
    {
     "data": {
      "image/png": "[encoded data removed]",
      "text/plain": [
       "<Figure size 432x288 with 2 Axes>"
      ]
     },
     "metadata": {
      "needs_background": "light"
     },
     "output_type": "display_data"
    }
   ],
   "source": [
    "# xgboost - train with missing values\n",
    "from xgboost import XGBClassifier\n",
    "from sklearn.metrics import accuracy_score\n",
    "\n",
    "model=XGBClassifier(use_label_encoder=False, eta = 0.1,#eta between(0.01-0.2)\n",
    "        max_depth = 9, #values between(3-10)\n",
    "        max_delta_step = 3,\n",
    "        subsample = 0.9,#values between(0.5-1)\n",
    "        colsample_bytree = 0.7,#values between(0.5-1)\n",
    "        tree_method = \"auto\",\n",
    "        process_type = \"default\",\n",
    "        num_parallel_tree=7,\n",
    "        objective='multi:softmax',\n",
    "        min_child_weight = 3,\n",
    "        booster='gbtree',\n",
    "        eval_metric = \"mlogloss\",\n",
    "        num_class = n_classes)\n",
    "model.fit(X_train,Y_train)\n",
    "\n",
    "\n",
    "\n",
    "xgb_pred=model.predict(X_test)\n",
    "print(accuracy_score(Y_test, xgb_pred)*100)\n",
    "\n",
    "confusion_matrix_xgb = pd.DataFrame(confusion_matrix(Y_test, xgb_pred))\n",
    "sns.heatmap(confusion_matrix_xgb, annot=True)\n",
    "print(classification_report(Y_test, xgb_pred))"
   ]
  },
  {
   "cell_type": "code",
   "execution_count": 139,
   "metadata": {},
   "outputs": [
    {
     "data": {
      "text/plain": [
       "<AxesSubplot:>"
      ]
     },
     "execution_count": 139,
     "metadata": {},
     "output_type": "execute_result"
    },
    {
     "data": {
      "image/png": "[encoded data removed]",
      "text/plain": [
       "<Figure size 432x288 with 1 Axes>"
      ]
     },
     "metadata": {
      "needs_background": "light"
     },
     "output_type": "display_data"
    }
   ],
   "source": [
    "# feature importance graph of XGB\n",
    "feat_importances = pd.Series(model.feature_importances_, index=X.columns[0:feature])\n",
    "feat_importances.nlargest(20).plot(kind='barh')"
   ]
  },
  {
   "cell_type": "markdown",
   "metadata": {},
   "source": [
    "## Model 2 - Random forest"
   ]
  },
  {
   "cell_type": "code",
   "execution_count": 140,
   "metadata": {},
   "outputs": [
    {
     "name": "stdout",
     "output_type": "stream",
     "text": [
      "72.55449972051426\n",
      "              precision    recall  f1-score   support\n",
      "\n",
      "         0.0       0.00      0.00      0.00       491\n",
      "         1.0       0.73      1.00      0.84      1298\n",
      "\n",
      "    accuracy                           0.73      1789\n",
      "   macro avg       0.36      0.50      0.42      1789\n",
      "weighted avg       0.53      0.73      0.61      1789\n",
      "\n",
      "Accuracy of random forest classifier on training set: 0.73\n",
      "Accuracy of random forest classifier classifier on test set: 0.73\n"
     ]
    },
    {
     "name": "stderr",
     "output_type": "stream",
     "text": [
      "/home/kali/.local/lib/python3.9/site-packages/sklearn/metrics/_classification.py:1248: UndefinedMetricWarning: Precision and F-score are ill-defined and being set to 0.0 in labels with no predicted samples. Use `zero_division` parameter to control this behavior.\n",
      "  _warn_prf(average, modifier, msg_start, len(result))\n",
      "/home/kali/.local/lib/python3.9/site-packages/sklearn/metrics/_classification.py:1248: UndefinedMetricWarning: Precision and F-score are ill-defined and being set to 0.0 in labels with no predicted samples. Use `zero_division` parameter to control this behavior.\n",
      "  _warn_prf(average, modifier, msg_start, len(result))\n",
      "/home/kali/.local/lib/python3.9/site-packages/sklearn/metrics/_classification.py:1248: UndefinedMetricWarning: Precision and F-score are ill-defined and being set to 0.0 in labels with no predicted samples. Use `zero_division` parameter to control this behavior.\n",
      "  _warn_prf(average, modifier, msg_start, len(result))\n"
     ]
    },
    {
     "data": {
      "image/png": "[encoded data removed]",
      "text/plain": [
       "<Figure size 432x288 with 2 Axes>"
      ]
     },
     "metadata": {
      "needs_background": "light"
     },
     "output_type": "display_data"
    }
   ],
   "source": [
    "#  random forest classifier\n",
    "from sklearn.metrics import accuracy_score\n",
    "from sklearn.ensemble import RandomForestClassifier\n",
    "\n",
    "\n",
    "model=RandomForestClassifier(max_depth=5, random_state=0)\n",
    "\n",
    "\n",
    "model.fit(X_train,Y_train)\n",
    "\n",
    "\n",
    "pred=model.predict(X_test)\n",
    "print(accuracy_score(Y_test, pred)*100)\n",
    "\n",
    "confusion_matrix_rf = pd.DataFrame(confusion_matrix(Y_test, pred))\n",
    "sns.heatmap(confusion_matrix_rf, annot=True)\n",
    "print(classification_report(Y_test, pred))\n",
    "\n",
    "print('Accuracy of random forest classifier on training set: {:.2f}'\n",
    "     .format(model.score(X_train, Y_train)))\n",
    "print('Accuracy of random forest classifier classifier on test set: {:.2f}'\n",
    "     .format(model.score(X_test, Y_test)))"
   ]
  },
  {
   "cell_type": "code",
   "execution_count": 141,
   "metadata": {},
   "outputs": [
    {
     "data": {
      "text/plain": [
       "<AxesSubplot:>"
      ]
     },
     "execution_count": 141,
     "metadata": {},
     "output_type": "execute_result"
    },
    {
     "data": {
      "image/png": "[encoded data removed]",
      "text/plain": [
       "<Figure size 432x288 with 1 Axes>"
      ]
     },
     "metadata": {
      "needs_background": "light"
     },
     "output_type": "display_data"
    }
   ],
   "source": [
    "feat_importances = pd.Series(model.feature_importances_, index=X.columns[0:feature])\n",
    "feat_importances.nlargest(20).plot(kind='barh')"
   ]
  },
  {
   "cell_type": "markdown",
   "metadata": {},
   "source": [
    "## Model 3 LogisticRegression"
   ]
  },
  {
   "cell_type": "code",
   "execution_count": 142,
   "metadata": {},
   "outputs": [
    {
     "name": "stdout",
     "output_type": "stream",
     "text": [
      "62.82839575181666\n",
      "              precision    recall  f1-score   support\n",
      "\n",
      "         0.0       0.39      0.64      0.48       491\n",
      "         1.0       0.82      0.63      0.71      1298\n",
      "\n",
      "    accuracy                           0.63      1789\n",
      "   macro avg       0.61      0.63      0.60      1789\n",
      "weighted avg       0.70      0.63      0.65      1789\n",
      "\n",
      "Accuracy of logistic regression on training set: 0.63\n",
      "Accuracy of logistic regression on test set: 0.63\n"
     ]
    },
    {
     "data": {
      "image/png": "[encoded data removed]",
      "text/plain": [
       "<Figure size 432x288 with 2 Axes>"
      ]
     },
     "metadata": {
      "needs_background": "light"
     },
     "output_type": "display_data"
    }
   ],
   "source": [
    "from sklearn.linear_model import LogisticRegression\n",
    "\n",
    "#penalty{‘l1’, ‘l2’, ‘elasticnet’, ‘none’}, default=’l2’\n",
    "logreg = LogisticRegression(\n",
    "    penalty='l2',\n",
    "    tol = 0.5e-3,\n",
    "    C=2,\n",
    "    class_weight='balanced',  # balanced\n",
    "    random_state=0,\n",
    "    solver = 'saga' # saga, sag\n",
    ")\n",
    "logreg.fit(X_train, Y_train)\n",
    "\n",
    "\n",
    "pred=logreg.predict(X_test)\n",
    "print(accuracy_score(Y_test, pred)*100)\n",
    "\n",
    "confusion_matrix_lr = pd.DataFrame(confusion_matrix(Y_test, pred))\n",
    "sns.heatmap(confusion_matrix_lr, annot=True)\n",
    "print(classification_report(Y_test, pred))\n",
    "\n",
    "\n",
    "print('Accuracy of logistic regression on training set: {:.2f}'\n",
    "     .format(logreg.score(X_train, Y_train)))\n",
    "print('Accuracy of logistic regression on test set: {:.2f}'\n",
    "     .format(logreg.score(X_test, Y_test)))\n",
    "\n"
   ]
  },
  {
   "cell_type": "code",
   "execution_count": 143,
   "metadata": {},
   "outputs": [
    {
     "data": {
      "text/plain": [
       "<AxesSubplot:>"
      ]
     },
     "execution_count": 143,
     "metadata": {},
     "output_type": "execute_result"
    },
    {
     "data": {
      "image/png": "[encoded data removed]",
      "text/plain": [
       "<Figure size 432x288 with 1 Axes>"
      ]
     },
     "metadata": {
      "needs_background": "light"
     },
     "output_type": "display_data"
    }
   ],
   "source": [
    "\n",
    "feat_importances = pd.Series(logreg.coef_[0], index=X.columns[0:feature])\n",
    "feat_importances.nlargest(20).plot(kind='barh')"
   ]
  },
  {
   "cell_type": "code",
   "execution_count": null,
   "metadata": {},
   "outputs": [],
   "source": []
  },
  {
   "cell_type": "markdown",
   "metadata": {},
   "source": [
    "## Model 4 - Decision tree"
   ]
  },
  {
   "cell_type": "code",
   "execution_count": 144,
   "metadata": {},
   "outputs": [
    {
     "name": "stdout",
     "output_type": "stream",
     "text": [
      "69.8155394074902\n",
      "              precision    recall  f1-score   support\n",
      "\n",
      "         0.0       0.40      0.20      0.27       491\n",
      "         1.0       0.75      0.89      0.81      1298\n",
      "\n",
      "    accuracy                           0.70      1789\n",
      "   macro avg       0.57      0.54      0.54      1789\n",
      "weighted avg       0.65      0.70      0.66      1789\n",
      "\n",
      "Accuracy of DT on training set: 0.80\n",
      "Accuracy of DT on test set: 0.70\n"
     ]
    },
    {
     "data": {
      "image/png": "[encoded data removed]",
      "text/plain": [
       "<Figure size 432x288 with 2 Axes>"
      ]
     },
     "metadata": {
      "needs_background": "light"
     },
     "output_type": "display_data"
    }
   ],
   "source": [
    "from sklearn.tree import DecisionTreeClassifier\n",
    "clf = DecisionTreeClassifier(\n",
    "                        random_state=42,\n",
    "                        criterion='entropy',\n",
    "                        splitter = 'best',\n",
    "                        max_depth = 10,\n",
    "                        max_features = 15).fit(X_train, Y_train)\n",
    "\n",
    "\n",
    "pred=clf.predict(X_test)\n",
    "print(accuracy_score(Y_test, pred)*100)\n",
    "\n",
    "confusion_matrix_dt = pd.DataFrame(confusion_matrix(Y_test, pred))\n",
    "sns.heatmap(confusion_matrix_dt, annot=True)\n",
    "print(classification_report(Y_test, pred))\n",
    "\n",
    "print('Accuracy of DT on training set: {:.2f}'\n",
    "     .format(clf.score(X_train, Y_train)))\n",
    "print('Accuracy of DT on test set: {:.2f}'\n",
    "     .format(clf.score(X_test, Y_test)))\n",
    "\n"
   ]
  },
  {
   "cell_type": "code",
   "execution_count": 145,
   "metadata": {},
   "outputs": [
    {
     "data": {
      "text/plain": [
       "<AxesSubplot:>"
      ]
     },
     "execution_count": 145,
     "metadata": {},
     "output_type": "execute_result"
    },
    {
     "data": {
      "image/png": "[encoded data removed]",
      "text/plain": [
       "<Figure size 432x288 with 1 Axes>"
      ]
     },
     "metadata": {
      "needs_background": "light"
     },
     "output_type": "display_data"
    }
   ],
   "source": [
    "\n",
    "feat_importances = pd.Series(clf.feature_importances_, index=X.columns[0:feature])\n",
    "feat_importances.nlargest(20).plot(kind='barh')"
   ]
  },
  {
   "cell_type": "code",
   "execution_count": null,
   "metadata": {},
   "outputs": [],
   "source": []
  },
  {
   "cell_type": "markdown",
   "metadata": {},
   "source": [
    "## Model 5 - K-Nearest Neighbors"
   ]
  },
  {
   "cell_type": "code",
   "execution_count": 146,
   "metadata": {},
   "outputs": [
    {
     "name": "stdout",
     "output_type": "stream",
     "text": [
      "62.49301285634432\n",
      "              precision    recall  f1-score   support\n",
      "\n",
      "         0.0       0.31      0.31      0.31       491\n",
      "         1.0       0.74      0.74      0.74      1298\n",
      "\n",
      "    accuracy                           0.62      1789\n",
      "   macro avg       0.53      0.53      0.53      1789\n",
      "weighted avg       0.62      0.62      0.62      1789\n",
      "\n",
      "Accuracy of KNN on training set: 1.00\n",
      "Accuracy of KNN on test set: 0.62\n"
     ]
    },
    {
     "data": {
      "image/png": "[encoded data removed]",
      "text/plain": [
       "<Figure size 432x288 with 2 Axes>"
      ]
     },
     "metadata": {
      "needs_background": "light"
     },
     "output_type": "display_data"
    }
   ],
   "source": [
    "from sklearn.neighbors import KNeighborsClassifier\n",
    "knn = KNeighborsClassifier(\n",
    "    n_neighbors =1,\n",
    "    weights = \"distance\", # uniform, distance\n",
    "    algorithm =  'kd_tree', # {‘auto’, ‘ball_tree’, ‘kd_tree’, ‘brute’}, default=’auto’\n",
    ")\n",
    "knn.fit(X_train, Y_train)\n",
    "\n",
    "\n",
    "pred=knn.predict(X_test)\n",
    "print(accuracy_score(Y_test, pred)*100)\n",
    "\n",
    "confusion_matrix_knn = pd.DataFrame(confusion_matrix(Y_test, pred))\n",
    "sns.heatmap(confusion_matrix_knn, annot=True)\n",
    "print(classification_report(Y_test, pred))\n",
    "\n",
    "print('Accuracy of KNN on training set: {:.2f}'\n",
    "     .format(knn.score(X_train, Y_train)))\n",
    "print('Accuracy of KNN on test set: {:.2f}'\n",
    "     .format(knn.score(X_test, Y_test)))"
   ]
  },
  {
   "cell_type": "code",
   "execution_count": null,
   "metadata": {},
   "outputs": [],
   "source": []
  },
  {
   "cell_type": "markdown",
   "metadata": {},
   "source": [
    "## Model 6 - Linear Discriminant Analysis"
   ]
  },
  {
   "cell_type": "code",
   "execution_count": 147,
   "metadata": {},
   "outputs": [
    {
     "name": "stdout",
     "output_type": "stream",
     "text": [
      "72.66629401900502\n",
      "              precision    recall  f1-score   support\n",
      "\n",
      "         0.0       0.51      0.11      0.18       491\n",
      "         1.0       0.74      0.96      0.84      1298\n",
      "\n",
      "    accuracy                           0.73      1789\n",
      "   macro avg       0.62      0.53      0.51      1789\n",
      "weighted avg       0.68      0.73      0.66      1789\n",
      "\n",
      "Accuracy of LDA on training set: 0.73\n",
      "Accuracy of LDA on test set: 0.73\n"
     ]
    },
    {
     "data": {
      "image/png": "[encoded data removed]",
      "text/plain": [
       "<Figure size 432x288 with 2 Axes>"
      ]
     },
     "metadata": {
      "needs_background": "light"
     },
     "output_type": "display_data"
    }
   ],
   "source": [
    "from sklearn.discriminant_analysis import LinearDiscriminantAnalysis\n",
    "lda = LinearDiscriminantAnalysis(\n",
    "    solver = 'eigen', # solver{‘svd’, ‘lsqr’, ‘eigen’}, default=’svd’\n",
    "    shrinkage= 0.3, #shrinkage‘auto’ or float, default=None\n",
    "    n_components = 1,\n",
    "    tol = 1e-1                            \n",
    ")\n",
    "lda.fit(X_train, Y_train)\n",
    "\n",
    "\n",
    "pred=lda.predict(X_test)\n",
    "print(accuracy_score(Y_test, pred)*100)\n",
    "\n",
    "confusion_matrix_lda = pd.DataFrame(confusion_matrix(Y_test, pred))\n",
    "sns.heatmap(confusion_matrix_lda, annot=True)\n",
    "print(classification_report(Y_test, pred))\n",
    "\n",
    "print('Accuracy of LDA on training set: {:.2f}'\n",
    "     .format(lda.score(X_train, Y_train)))\n",
    "print('Accuracy of LDA on test set: {:.2f}'\n",
    "     .format(lda.score(X_test, Y_test)))"
   ]
  },
  {
   "cell_type": "code",
   "execution_count": null,
   "metadata": {},
   "outputs": [],
   "source": [
    "\n"
   ]
  },
  {
   "cell_type": "markdown",
   "metadata": {},
   "source": [
    "## Model 7- Gaussian Naive Bayes"
   ]
  },
  {
   "cell_type": "code",
   "execution_count": 148,
   "metadata": {},
   "outputs": [
    {
     "name": "stdout",
     "output_type": "stream",
     "text": [
      "70.15092230296254\n",
      "              precision    recall  f1-score   support\n",
      "\n",
      "         0.0       0.41      0.21      0.28       491\n",
      "         1.0       0.75      0.89      0.81      1298\n",
      "\n",
      "    accuracy                           0.70      1789\n",
      "   macro avg       0.58      0.55      0.55      1789\n",
      "weighted avg       0.66      0.70      0.67      1789\n",
      "\n",
      "Accuracy of gaussian naive bayes on training set: 0.70\n",
      "Accuracy of gaussian naive bayes on test set: 0.70\n"
     ]
    },
    {
     "data": {
      "image/png": "[encoded data removed]",
      "text/plain": [
       "<Figure size 432x288 with 2 Axes>"
      ]
     },
     "metadata": {
      "needs_background": "light"
     },
     "output_type": "display_data"
    }
   ],
   "source": [
    "from sklearn.naive_bayes import GaussianNB\n",
    "gnb = GaussianNB()\n",
    "gnb.fit(X_train, Y_train)\n",
    "\n",
    "\n",
    "pred=gnb.predict(X_test)\n",
    "print(accuracy_score(Y_test, pred)*100)\n",
    "\n",
    "confusion_matrix_gnb = pd.DataFrame(confusion_matrix(Y_test, pred))\n",
    "sns.heatmap(confusion_matrix_gnb, annot=True)\n",
    "print(classification_report(Y_test, pred))\n",
    "\n",
    "print('Accuracy of gaussian naive bayes on training set: {:.2f}'\n",
    "     .format(gnb.score(X_train, Y_train)))\n",
    "print('Accuracy of gaussian naive bayes on test set: {:.2f}'\n",
    "     .format(gnb.score(X_test, Y_test)))"
   ]
  },
  {
   "cell_type": "code",
   "execution_count": null,
   "metadata": {},
   "outputs": [],
   "source": []
  },
  {
   "cell_type": "markdown",
   "metadata": {},
   "source": [
    "## Model 8 - SVM"
   ]
  },
  {
   "cell_type": "code",
   "execution_count": 149,
   "metadata": {},
   "outputs": [
    {
     "name": "stdout",
     "output_type": "stream",
     "text": [
      "56.679709334823926\n",
      "              precision    recall  f1-score   support\n",
      "\n",
      "         0.0       0.25      0.28      0.26       491\n",
      "         1.0       0.71      0.67      0.69      1298\n",
      "\n",
      "    accuracy                           0.57      1789\n",
      "   macro avg       0.48      0.48      0.48      1789\n",
      "weighted avg       0.58      0.57      0.58      1789\n",
      "\n",
      "Accuracy ofsvm on training set: 0.56\n",
      "Accuracy of svm on test set: 0.57\n"
     ]
    },
    {
     "name": "stderr",
     "output_type": "stream",
     "text": [
      "/home/kali/.local/lib/python3.9/site-packages/sklearn/svm/_base.py:255: ConvergenceWarning: Solver terminated early (max_iter=8).  Consider pre-processing your data with StandardScaler or MinMaxScaler.\n",
      "  warnings.warn('Solver terminated early (max_iter=%i).'\n"
     ]
    },
    {
     "data": {
      "image/png": "[encoded data removed]",
      "text/plain": [
       "<Figure size 432x288 with 2 Axes>"
      ]
     },
     "metadata": {
      "needs_background": "light"
     },
     "output_type": "display_data"
    }
   ],
   "source": [
    "from sklearn.svm import SVC\n",
    "svm = SVC(\n",
    "    C = 0.1, # Cfloat, default=1.0\n",
    "    kernel = 'linear', #kernel{‘linear’, ‘poly’, ‘rbf’, ‘sigmoid’, ‘precomputed’}, default=’rbf’\n",
    "    degree = 3, #degree, default=3\n",
    "    gamma = 0.1, #gamma{‘scale’, ‘auto’} or float, default=’scale’\n",
    "    class_weight = None, # ‘balanced’, default=None\n",
    "    max_iter = 8,\n",
    "    decision_function_shape = 'ovo' # {‘ovo’, ‘ovr’}, default=’ovr’\n",
    ")\n",
    "\n",
    "svm.fit(X_train, Y_train)\n",
    "\n",
    "pred=svm.predict(X_test)\n",
    "print(accuracy_score(Y_test, pred)*100)\n",
    "\n",
    "confusion_matrix_svm = pd.DataFrame(confusion_matrix(Y_test, pred))\n",
    "sns.heatmap(confusion_matrix_svm, annot=True)\n",
    "print(classification_report(Y_test, pred))\n",
    "\n",
    "\n",
    "print('Accuracy ofsvm on training set: {:.2f}'\n",
    "     .format(svm.score(X_train, Y_train)))\n",
    "print('Accuracy of svm on test set: {:.2f}'\n",
    "     .format(svm.score(X_test, Y_test)))"
   ]
  },
  {
   "cell_type": "code",
   "execution_count": null,
   "metadata": {},
   "outputs": [],
   "source": []
  },
  {
   "cell_type": "code",
   "execution_count": null,
   "metadata": {},
   "outputs": [],
   "source": []
  },
  {
   "cell_type": "code",
   "execution_count": null,
   "metadata": {},
   "outputs": [],
   "source": []
  }
 ],
 "metadata": {
  "kernelspec": {
   "display_name": "Python 3 (ipykernel)",
   "language": "python",
   "name": "python3"
  },
  "language_info": {
   "codemirror_mode": {
    "name": "ipython",
    "version": 3
   },
   "file_extension": ".py",
   "mimetype": "text/x-python",
   "name": "python",
   "nbconvert_exporter": "python",
   "pygments_lexer": "ipython3",
   "version": "3.9.2"
  }
 },
 "nbformat": 4,
 "nbformat_minor": 4
}
