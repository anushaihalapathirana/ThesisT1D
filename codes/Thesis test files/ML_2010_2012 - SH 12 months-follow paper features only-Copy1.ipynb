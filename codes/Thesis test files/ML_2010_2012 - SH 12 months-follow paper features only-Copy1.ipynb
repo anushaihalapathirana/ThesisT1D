{
 "cells": [
  {
   "cell_type": "markdown",
   "metadata": {},
   "source": [
    "# Models"
   ]
  },
  {
   "cell_type": "code",
   "execution_count": 43,
   "metadata": {
    "scrolled": true
   },
   "outputs": [],
   "source": [
    "import pandas as pd  \n",
    "import matplotlib.pyplot as plt\n",
    "import seaborn as sns\n",
    "import numpy as np\n",
    "from functools import reduce\n",
    "import sys\n",
    "import numpy\n",
    "import math\n",
    "numpy.set_printoptions(threshold=sys.maxsize)\n",
    "\n",
    "from sklearn.metrics import accuracy_score\n",
    "import matplotlib.pyplot as plt\n",
    "from sklearn.model_selection import cross_val_score\n",
    "from sklearn import metrics\n",
    "\n",
    "from sklearn.feature_selection import RFE\n",
    "\n",
    "from xgboost import XGBClassifier\n",
    "from sklearn.linear_model import LogisticRegression\n",
    "from sklearn.tree import DecisionTreeClassifier\n",
    "from sklearn.ensemble import RandomForestClassifier\n",
    "from sklearn.ensemble import AdaBoostClassifier\n",
    "from sklearn.svm import SVC\n",
    "from sklearn.naive_bayes import GaussianNB\n",
    "from sklearn.discriminant_analysis import LinearDiscriminantAnalysis\n",
    "from sklearn.neighbors import KNeighborsClassifier\n",
    "import lightgbm as ltb\n",
    "\n",
    "from sklearn.model_selection import GridSearchCV\n",
    "\n",
    "from sklearn.preprocessing import OneHotEncoder, StandardScaler, MinMaxScaler\n",
    "from sklearn.feature_selection import SelectKBest, mutual_info_classif, SelectPercentile\n",
    "from sklearn.metrics import confusion_matrix, classification_report, f1_score, auc, roc_curve, roc_auc_score, precision_score, recall_score, balanced_accuracy_score\n",
    "from numpy.random import seed\n",
    "from sklearn.model_selection import GridSearchCV, train_test_split, cross_val_score, KFold, StratifiedKFold\n",
    "seed(42)\n",
    "import tensorflow as tf\n",
    "tf.random.set_seed(38)\n",
    "from sklearn.impute import SimpleImputer, KNNImputer\n",
    "from sklearn.experimental import enable_iterative_imputer\n",
    "from sklearn.impute import IterativeImputer\n",
    "from sklearn.discriminant_analysis import LinearDiscriminantAnalysis\n",
    "\n",
    "from keras.callbacks import TensorBoard\n",
    "from keras.models import Sequential\n",
    "from keras.layers import Dense\n",
    "\n",
    "import shap\n",
    "from xgboost import plot_importance"
   ]
  },
  {
   "cell_type": "code",
   "execution_count": 44,
   "metadata": {
    "scrolled": true
   },
   "outputs": [],
   "source": [
    "# load pre porcessed data\n",
    "df = pd.read_csv('../../prepross_data/data.csv')\n"
   ]
  },
  {
   "cell_type": "markdown",
   "metadata": {},
   "source": [
    "#### Filterout the paper described patient set"
   ]
  },
  {
   "cell_type": "code",
   "execution_count": 45,
   "metadata": {
    "scrolled": true
   },
   "outputs": [
    {
     "name": "stdout",
     "output_type": "stream",
     "text": [
      "Number of patients whos age is 26+ and diabetics duration greater than 2  is -> 7156\n"
     ]
    }
   ],
   "source": [
    "# filter dataset as describe in paper\n",
    "def get_filter_by_age_diabDur(df, age, diabDur):\n",
    "    filter_patients = df[(df[\"AgeAtConsent\"] >= age) & (df[\"diagDuration\"] >= diabDur)] \n",
    "#     filter_patients=filter_patients.drop_duplicates(subset=\"PtID\",keep=\"first\") \n",
    "    print(f'Number of patients whos age is {age}+ and diabetics duration greater than {diabDur}  is -> {filter_patients.PtID.size}')\n",
    "    return filter_patients\n",
    "\n",
    "df = get_filter_by_age_diabDur(df, 26, 2)\n"
   ]
  },
  {
   "cell_type": "code",
   "execution_count": 46,
   "metadata": {},
   "outputs": [],
   "source": [
    "# remove all unknown data\n",
    "df.drop(df[df.SHSeizComaPast12mos == '3.Unknown'].index, inplace=True)"
   ]
  },
  {
   "cell_type": "markdown",
   "metadata": {},
   "source": [
    "### for SH events prediction pre processing\n"
   ]
  },
  {
   "cell_type": "code",
   "execution_count": 47,
   "metadata": {
    "scrolled": true
   },
   "outputs": [
    {
     "data": {
      "text/plain": [
       "[False, True, nan]"
      ]
     },
     "execution_count": 47,
     "metadata": {},
     "output_type": "execute_result"
    }
   ],
   "source": [
    "y_label = 'SHSeizComaPast12mos' \n",
    "df[y_label]\n",
    "\n",
    "df['SHSeizComaPast12mos'] = df['SHSeizComaPast12mos'].replace({\n",
    "    'False': False,\n",
    "    'True': True\n",
    "})\n",
    "df[y_label].unique().tolist()\n"
   ]
  },
  {
   "cell_type": "code",
   "execution_count": 48,
   "metadata": {
    "scrolled": true
   },
   "outputs": [],
   "source": [
    "# fill null value according to the other parameters\n",
    "\n",
    "# fill with 0 - if data not available probably patient has not that medical condition\n",
    "def fill_y_label(row):\n",
    "    if(pd.isna(row[y_label])):\n",
    "        if(row['NumSHSeizComaPast12mos'] >= 1):\n",
    "            row[y_label] = True\n",
    "        else:\n",
    "            row[y_label] = False\n",
    "    return row\n",
    "\n",
    "\n",
    "df = df.apply(lambda row: fill_y_label(row), axis=1)\n",
    "\n",
    "df[y_label] = df[y_label].astype(int)"
   ]
  },
  {
   "cell_type": "code",
   "execution_count": 49,
   "metadata": {},
   "outputs": [],
   "source": [
    "df['Pt_SmokeAmt'] = df['Pt_SmokeAmt'].replace({\n",
    "    0: 0,1:0, 2:0, 3:0, 5:0, 6:0,\n",
    "    4: 1\n",
    "})"
   ]
  },
  {
   "cell_type": "code",
   "execution_count": 50,
   "metadata": {},
   "outputs": [
    {
     "data": {
      "text/plain": [
       "0    1.0\n",
       "dtype: float64"
      ]
     },
     "execution_count": 50,
     "metadata": {},
     "output_type": "execute_result"
    }
   ],
   "source": [
    "# Pt_SmokeAmt {'1 pack': 0, '2 - 3 packs': 1, '4 - 5 packs': 2, '6 - 7 packs': 3, \"Don't smoke at all anymore\": 4, 'Less than 1 pack': 5, 'more than 7 packs': 6}\n",
    "df['Pt_SmokeAmt'].mode()"
   ]
  },
  {
   "cell_type": "code",
   "execution_count": 51,
   "metadata": {
    "scrolled": true
   },
   "outputs": [
    {
     "name": "stdout",
     "output_type": "stream",
     "text": [
      "[0, 1]\n"
     ]
    }
   ],
   "source": [
    "# get possible values in column including nan\n",
    "def get_possible_vals_with_nan(df, colName):\n",
    "    list_val =df[colName].unique().tolist()\n",
    "    return list_val\n",
    "\n",
    "# {'1.Yes': 0, '2.No': 1, \"3.Don't know\": 2}\n",
    "\n",
    "print(get_possible_vals_with_nan(df, y_label))\n"
   ]
  },
  {
   "cell_type": "code",
   "execution_count": 52,
   "metadata": {},
   "outputs": [
    {
     "name": "stdout",
     "output_type": "stream",
     "text": [
      "variables missing vals < threshold\n",
      "['PtID', 'Pt_InitTrt', 'Pt_SevHypoEver', 'Pt_HospDKASinceDiag', 'Pt_NumHospDKA', 'Pt_InsulinRecMethod', 'Pt_InsLev1PerDay', 'Pt_InsLev2PerDay', 'Pt_InsLant1PerDay', 'Pt_InsLant2PerDay', 'Pt_InsUnk', 'Pt_MealBolusMethod', 'Pt_InsCarbRat', 'Pt_InsCarbRatBrkfst', 'Pt_InsCarbRatLunch', 'Pt_InsCarbRatDinn', 'Pt_BolusDecCntCarb', 'Pt_BolusDaySnackFreq', 'Pt_BedtimeSnack', 'Pt_ChkBldSugPriBolus', 'Pt_MissInsDoseFreq', 'Pt_NumBolusDayUnk', 'Pt_InjLongActDayNotUsed', 'Pt_InjShortActDayNotUsed', 'Pt_LongActInsDayNotUsed', 'Pt_NumMeterCheckDay', 'Pt_DLoadHGMFreq', 'Pt_LogBook', 'Pt_ChkKetones', 'Pt_CGMUse', 'Pt_CGMStopUse', 'Pt_LastEyeExamPart', 'Pt_DiabRetTrtPart', 'Pt_LegBlind', 'Pt_HealthProfDiabEdu', 'Pt_GlutFreeDiet', 'Pt_CeliacDr', 'Pt_HighBldPrTrt', 'Pt_Smoke', 'Pt_GenHealth', 'Pt_StressDiab', 'Pt_EduLevel', 'Pt_AnnualInc', 'Pt_HouseholdCnt', 'Pt_InsPriv', 'Pt_MaritalStatus', 'Pt_EmployStatus', 'Pt_RaceEth', 'HyperglyCritHbA1c', 'HyperglyCritRandGluc', 'ReqInsulinCrit', 'DKADiag', 'OralAgnTrt', 'ExamDaysFromConsent', 'Gender', 'Weight', 'Height', 'BldPrSys', 'BldPrDia', 'TannerNotDone', 'InsulinDeliv', 'Lypohyper', 'Lipoatrophy', 'AcanNigrDiag', 'PulseRate', 'AcanNigrPres', 'FootUlcerPres', 'NumOfficeVisits', 'CGMUsed', 'LastEyeExam', 'DiabRetTrt', 'AlbuminStatus', 'PrevMicroalbuminCurrNone', 'GFRBelow60', 'RenalFailDial', 'PostKidneyTrans', 'NephropOthCause', 'ACEARB', 'DKAPast12mos', 'SHSeizComaPast12mos', 'InsHumalog', 'InsNovolog', 'InsApidra', 'InsRegular', 'InsNPH', 'InsPremix7030', 'InsPremix5050', 'InsPremix7525', 'InsLevemir', 'InsLantus', 'InsOther', 'InsNotTaking', 'AgeAtConsent', 'DiagAge', 'Pt_v3NumERVisOthReas', 'Pt_v3NumHospOthReas', 'Pt_v3NumSHSeizComa', 'MajorLifeStressEvent', 'HbA1c', 'HbA1C_SH', 'bmi', 'relative_T1D', 'CardiacAngio', 'CoronaryBypass', 'Hypertension', 'HighTrig', 'HighLDL', 'LowHDL', 'Stroke', 'Celiac', 'Cardiomyopathy', 'CongHeartFail', 'AtrialFib', 'CardiacArrhyth', 'Hemoglob', 'RheumArth', 'Osteo', 'Depression', 'Anxiety', 'Psychosis', 'DiabNeuro', 'diagDuration', 'Diab_dur_greater']\n",
      "Length:  123\n",
      "\n",
      "variables missing vals > threshold\n",
      "['Pt_BolusBedtimeSnackFreq', 'Pt_InsPumpStartAge', 'Pt_PumpManuf', 'Pt_PumpModel', 'Pt_DaysLeavePumpIns', 'Pt_BasInsRateChgDay', 'Pt_NumBolusDay', 'Pt_ReturnPump', 'Pt_InjMethod', 'Pt_InjLongActDay', 'Pt_InjShortActDay', 'Pt_LongActInsDay', 'Pt_ShortActInsDay', 'Pt_PumpStopUse', 'Pt_SmokeAmt', 'Pt_DaysWkEx', 'Pt_MenarcheAge', 'Pt_RegMenstCyc', 'Pt_IrregMenstCycReas', 'Pt_CurrPreg', 'Pt_MiscarriageNum', 'Pt_EduLevelMother', 'Pt_EduLevelFather', 'WeightDiag', 'NumDKAOccur', 'PumpTotBasIns', 'HGMNumDays', 'HGMTestCntAvg', 'HGMGlucMean', 'CGMGlucPctBelow70', 'CGMGlucPctBelow60', 'InsCarbRatBrkfst', 'InsCarbRatLunch', 'InsCarbRatDinn', 'InsCarbRatDinnNotUsed', 'CGMPctBelow55', 'CGMPctBelow80', 'NumSHSeizComaPast12mos']\n",
      "Length:  38\n"
     ]
    }
   ],
   "source": [
    "pd.options.display.max_rows = 100\n",
    "\n",
    "def get_missing_val_percentage(df):\n",
    "    return (df.isnull().sum()* 100 / len(df))\n",
    "\n",
    "\n",
    "missing_per = get_missing_val_percentage(df)\n",
    "\n",
    "# get missing values < threshold feature name list\n",
    "variables = df.columns\n",
    "thresh = 40\n",
    "variable = [ ]\n",
    "var = []\n",
    "for i in range(df.columns.shape[0]):\n",
    "    if missing_per[i]<= thresh: #setting the threshold as 40%\n",
    "        variable.append(variables[i])\n",
    "    else :\n",
    "        var.append(variables[i])\n",
    "        \n",
    "print(\"variables missing vals < threshold\")     \n",
    "print(variable)\n",
    "print(\"Length: \", len(variable))\n",
    "\n",
    "print()\n",
    "print(\"variables missing vals > threshold\")     \n",
    "print(var)\n",
    "print(\"Length: \", len(var))"
   ]
  },
  {
   "cell_type": "code",
   "execution_count": null,
   "metadata": {},
   "outputs": [],
   "source": []
  },
  {
   "cell_type": "code",
   "execution_count": 53,
   "metadata": {},
   "outputs": [
    {
     "data": {
      "text/html": [
       "<div>\n",
       "<style scoped>\n",
       "    .dataframe tbody tr th:only-of-type {\n",
       "        vertical-align: middle;\n",
       "    }\n",
       "\n",
       "    .dataframe tbody tr th {\n",
       "        vertical-align: top;\n",
       "    }\n",
       "\n",
       "    .dataframe thead th {\n",
       "        text-align: right;\n",
       "    }\n",
       "</style>\n",
       "<table border=\"1\" class=\"dataframe\">\n",
       "  <thead>\n",
       "    <tr style=\"text-align: right;\">\n",
       "      <th></th>\n",
       "      <th>PtID</th>\n",
       "      <th>Pt_InitTrt</th>\n",
       "      <th>Pt_SevHypoEver</th>\n",
       "      <th>Pt_HospDKASinceDiag</th>\n",
       "      <th>Pt_NumHospDKA</th>\n",
       "      <th>Pt_InsulinRecMethod</th>\n",
       "      <th>Pt_InsLev1PerDay</th>\n",
       "      <th>Pt_InsLev2PerDay</th>\n",
       "      <th>Pt_InsLant1PerDay</th>\n",
       "      <th>Pt_InsLant2PerDay</th>\n",
       "      <th>...</th>\n",
       "      <th>AtrialFib</th>\n",
       "      <th>CardiacArrhyth</th>\n",
       "      <th>Hemoglob</th>\n",
       "      <th>RheumArth</th>\n",
       "      <th>Osteo</th>\n",
       "      <th>Depression</th>\n",
       "      <th>Anxiety</th>\n",
       "      <th>Psychosis</th>\n",
       "      <th>DiabNeuro</th>\n",
       "      <th>diagDuration</th>\n",
       "    </tr>\n",
       "  </thead>\n",
       "  <tbody>\n",
       "    <tr>\n",
       "      <th>0</th>\n",
       "      <td>3963</td>\n",
       "      <td>1.0</td>\n",
       "      <td>1.0</td>\n",
       "      <td>1.0</td>\n",
       "      <td>0.0</td>\n",
       "      <td>0.0</td>\n",
       "      <td>0.0</td>\n",
       "      <td>0.0</td>\n",
       "      <td>0.0</td>\n",
       "      <td>0.0</td>\n",
       "      <td>...</td>\n",
       "      <td>0</td>\n",
       "      <td>0</td>\n",
       "      <td>0</td>\n",
       "      <td>0</td>\n",
       "      <td>0</td>\n",
       "      <td>0</td>\n",
       "      <td>0</td>\n",
       "      <td>0</td>\n",
       "      <td>0</td>\n",
       "      <td>12.0876</td>\n",
       "    </tr>\n",
       "    <tr>\n",
       "      <th>4</th>\n",
       "      <td>12505</td>\n",
       "      <td>0.0</td>\n",
       "      <td>0.0</td>\n",
       "      <td>1.0</td>\n",
       "      <td>0.0</td>\n",
       "      <td>0.0</td>\n",
       "      <td>0.0</td>\n",
       "      <td>0.0</td>\n",
       "      <td>0.0</td>\n",
       "      <td>0.0</td>\n",
       "      <td>...</td>\n",
       "      <td>0</td>\n",
       "      <td>0</td>\n",
       "      <td>0</td>\n",
       "      <td>0</td>\n",
       "      <td>0</td>\n",
       "      <td>0</td>\n",
       "      <td>0</td>\n",
       "      <td>0</td>\n",
       "      <td>0</td>\n",
       "      <td>34.1684</td>\n",
       "    </tr>\n",
       "    <tr>\n",
       "      <th>7</th>\n",
       "      <td>26063</td>\n",
       "      <td>1.0</td>\n",
       "      <td>1.0</td>\n",
       "      <td>1.0</td>\n",
       "      <td>0.0</td>\n",
       "      <td>0.0</td>\n",
       "      <td>0.0</td>\n",
       "      <td>0.0</td>\n",
       "      <td>0.0</td>\n",
       "      <td>0.0</td>\n",
       "      <td>...</td>\n",
       "      <td>0</td>\n",
       "      <td>0</td>\n",
       "      <td>0</td>\n",
       "      <td>0</td>\n",
       "      <td>0</td>\n",
       "      <td>0</td>\n",
       "      <td>0</td>\n",
       "      <td>0</td>\n",
       "      <td>0</td>\n",
       "      <td>14.0507</td>\n",
       "    </tr>\n",
       "    <tr>\n",
       "      <th>14</th>\n",
       "      <td>553</td>\n",
       "      <td>0.0</td>\n",
       "      <td>1.0</td>\n",
       "      <td>1.0</td>\n",
       "      <td>0.0</td>\n",
       "      <td>1.0</td>\n",
       "      <td>0.0</td>\n",
       "      <td>0.0</td>\n",
       "      <td>0.0</td>\n",
       "      <td>1.0</td>\n",
       "      <td>...</td>\n",
       "      <td>0</td>\n",
       "      <td>0</td>\n",
       "      <td>0</td>\n",
       "      <td>0</td>\n",
       "      <td>0</td>\n",
       "      <td>0</td>\n",
       "      <td>0</td>\n",
       "      <td>0</td>\n",
       "      <td>0</td>\n",
       "      <td>20.8549</td>\n",
       "    </tr>\n",
       "    <tr>\n",
       "      <th>15</th>\n",
       "      <td>13365</td>\n",
       "      <td>0.0</td>\n",
       "      <td>0.0</td>\n",
       "      <td>1.0</td>\n",
       "      <td>0.0</td>\n",
       "      <td>0.0</td>\n",
       "      <td>0.0</td>\n",
       "      <td>0.0</td>\n",
       "      <td>0.0</td>\n",
       "      <td>0.0</td>\n",
       "      <td>...</td>\n",
       "      <td>0</td>\n",
       "      <td>0</td>\n",
       "      <td>0</td>\n",
       "      <td>0</td>\n",
       "      <td>0</td>\n",
       "      <td>0</td>\n",
       "      <td>0</td>\n",
       "      <td>0</td>\n",
       "      <td>0</td>\n",
       "      <td>56.3915</td>\n",
       "    </tr>\n",
       "    <tr>\n",
       "      <th>20</th>\n",
       "      <td>15799</td>\n",
       "      <td>3.0</td>\n",
       "      <td>1.0</td>\n",
       "      <td>2.0</td>\n",
       "      <td>0.0</td>\n",
       "      <td>1.0</td>\n",
       "      <td>0.0</td>\n",
       "      <td>0.0</td>\n",
       "      <td>1.0</td>\n",
       "      <td>0.0</td>\n",
       "      <td>...</td>\n",
       "      <td>0</td>\n",
       "      <td>0</td>\n",
       "      <td>0</td>\n",
       "      <td>0</td>\n",
       "      <td>0</td>\n",
       "      <td>0</td>\n",
       "      <td>0</td>\n",
       "      <td>0</td>\n",
       "      <td>0</td>\n",
       "      <td>17.1739</td>\n",
       "    </tr>\n",
       "    <tr>\n",
       "      <th>24</th>\n",
       "      <td>15966</td>\n",
       "      <td>0.0</td>\n",
       "      <td>1.0</td>\n",
       "      <td>1.0</td>\n",
       "      <td>0.0</td>\n",
       "      <td>0.0</td>\n",
       "      <td>0.0</td>\n",
       "      <td>0.0</td>\n",
       "      <td>0.0</td>\n",
       "      <td>0.0</td>\n",
       "      <td>...</td>\n",
       "      <td>0</td>\n",
       "      <td>0</td>\n",
       "      <td>0</td>\n",
       "      <td>0</td>\n",
       "      <td>0</td>\n",
       "      <td>0</td>\n",
       "      <td>0</td>\n",
       "      <td>0</td>\n",
       "      <td>0</td>\n",
       "      <td>2.0999</td>\n",
       "    </tr>\n",
       "    <tr>\n",
       "      <th>27</th>\n",
       "      <td>6426</td>\n",
       "      <td>1.0</td>\n",
       "      <td>1.0</td>\n",
       "      <td>0.0</td>\n",
       "      <td>1.0</td>\n",
       "      <td>0.0</td>\n",
       "      <td>0.0</td>\n",
       "      <td>0.0</td>\n",
       "      <td>0.0</td>\n",
       "      <td>0.0</td>\n",
       "      <td>...</td>\n",
       "      <td>0</td>\n",
       "      <td>0</td>\n",
       "      <td>0</td>\n",
       "      <td>0</td>\n",
       "      <td>0</td>\n",
       "      <td>0</td>\n",
       "      <td>0</td>\n",
       "      <td>0</td>\n",
       "      <td>0</td>\n",
       "      <td>10.1704</td>\n",
       "    </tr>\n",
       "    <tr>\n",
       "      <th>34</th>\n",
       "      <td>10659</td>\n",
       "      <td>0.0</td>\n",
       "      <td>1.0</td>\n",
       "      <td>1.0</td>\n",
       "      <td>0.0</td>\n",
       "      <td>0.0</td>\n",
       "      <td>0.0</td>\n",
       "      <td>0.0</td>\n",
       "      <td>0.0</td>\n",
       "      <td>0.0</td>\n",
       "      <td>...</td>\n",
       "      <td>0</td>\n",
       "      <td>0</td>\n",
       "      <td>0</td>\n",
       "      <td>0</td>\n",
       "      <td>0</td>\n",
       "      <td>0</td>\n",
       "      <td>0</td>\n",
       "      <td>0</td>\n",
       "      <td>0</td>\n",
       "      <td>36.9979</td>\n",
       "    </tr>\n",
       "    <tr>\n",
       "      <th>40</th>\n",
       "      <td>19861</td>\n",
       "      <td>1.0</td>\n",
       "      <td>0.0</td>\n",
       "      <td>1.0</td>\n",
       "      <td>0.0</td>\n",
       "      <td>0.0</td>\n",
       "      <td>0.0</td>\n",
       "      <td>0.0</td>\n",
       "      <td>0.0</td>\n",
       "      <td>0.0</td>\n",
       "      <td>...</td>\n",
       "      <td>0</td>\n",
       "      <td>0</td>\n",
       "      <td>0</td>\n",
       "      <td>1</td>\n",
       "      <td>0</td>\n",
       "      <td>0</td>\n",
       "      <td>0</td>\n",
       "      <td>0</td>\n",
       "      <td>0</td>\n",
       "      <td>42.6872</td>\n",
       "    </tr>\n",
       "  </tbody>\n",
       "</table>\n",
       "<p>10 rows × 159 columns</p>\n",
       "</div>"
      ],
      "text/plain": [
       "     PtID  Pt_InitTrt  Pt_SevHypoEver  Pt_HospDKASinceDiag  Pt_NumHospDKA  \\\n",
       "0    3963         1.0             1.0                  1.0            0.0   \n",
       "4   12505         0.0             0.0                  1.0            0.0   \n",
       "7   26063         1.0             1.0                  1.0            0.0   \n",
       "14    553         0.0             1.0                  1.0            0.0   \n",
       "15  13365         0.0             0.0                  1.0            0.0   \n",
       "20  15799         3.0             1.0                  2.0            0.0   \n",
       "24  15966         0.0             1.0                  1.0            0.0   \n",
       "27   6426         1.0             1.0                  0.0            1.0   \n",
       "34  10659         0.0             1.0                  1.0            0.0   \n",
       "40  19861         1.0             0.0                  1.0            0.0   \n",
       "\n",
       "    Pt_InsulinRecMethod  Pt_InsLev1PerDay  Pt_InsLev2PerDay  \\\n",
       "0                   0.0               0.0               0.0   \n",
       "4                   0.0               0.0               0.0   \n",
       "7                   0.0               0.0               0.0   \n",
       "14                  1.0               0.0               0.0   \n",
       "15                  0.0               0.0               0.0   \n",
       "20                  1.0               0.0               0.0   \n",
       "24                  0.0               0.0               0.0   \n",
       "27                  0.0               0.0               0.0   \n",
       "34                  0.0               0.0               0.0   \n",
       "40                  0.0               0.0               0.0   \n",
       "\n",
       "    Pt_InsLant1PerDay  Pt_InsLant2PerDay  ...  AtrialFib  CardiacArrhyth  \\\n",
       "0                 0.0                0.0  ...          0               0   \n",
       "4                 0.0                0.0  ...          0               0   \n",
       "7                 0.0                0.0  ...          0               0   \n",
       "14                0.0                1.0  ...          0               0   \n",
       "15                0.0                0.0  ...          0               0   \n",
       "20                1.0                0.0  ...          0               0   \n",
       "24                0.0                0.0  ...          0               0   \n",
       "27                0.0                0.0  ...          0               0   \n",
       "34                0.0                0.0  ...          0               0   \n",
       "40                0.0                0.0  ...          0               0   \n",
       "\n",
       "    Hemoglob  RheumArth  Osteo  Depression  Anxiety  Psychosis  DiabNeuro  \\\n",
       "0          0          0      0           0        0          0          0   \n",
       "4          0          0      0           0        0          0          0   \n",
       "7          0          0      0           0        0          0          0   \n",
       "14         0          0      0           0        0          0          0   \n",
       "15         0          0      0           0        0          0          0   \n",
       "20         0          0      0           0        0          0          0   \n",
       "24         0          0      0           0        0          0          0   \n",
       "27         0          0      0           0        0          0          0   \n",
       "34         0          0      0           0        0          0          0   \n",
       "40         0          1      0           0        0          0          0   \n",
       "\n",
       "    diagDuration  \n",
       "0        12.0876  \n",
       "4        34.1684  \n",
       "7        14.0507  \n",
       "14       20.8549  \n",
       "15       56.3915  \n",
       "20       17.1739  \n",
       "24        2.0999  \n",
       "27       10.1704  \n",
       "34       36.9979  \n",
       "40       42.6872  \n",
       "\n",
       "[10 rows x 159 columns]"
      ]
     },
     "execution_count": 53,
     "metadata": {},
     "output_type": "execute_result"
    }
   ],
   "source": [
    "# cols_to_del = ['Diab_dur_greater','HbA1C_SH', 'Pt_InsHumalog', 'Pt_InsNovolog', 'Pt_BolusDecCntCarb', \n",
    "#                'Pt_BolusBedtimeSnackFreq', 'Pt_InsPumpStartAge', 'Pt_PumpManuf', 'Pt_PumpModel',\n",
    "#                'Pt_DaysLeavePumpIns', 'Pt_BasInsRateChgDay', 'Pt_NumBolusDay', 'Pt_ReturnPump', \n",
    "#                'Pt_InjMethod', 'Pt_InjLongActDay', 'Pt_InjShortActDay', 'Pt_LongActInsDay', \n",
    "#                'Pt_ShortActInsDay', 'Pt_PumpStopUse', 'Pt_HealthProfDiabEdu', 'Pt_SmokeAmt', \n",
    "#                'Pt_DaysWkEx', 'Pt_MenarcheAge', 'Pt_RegMenstCyc', 'Pt_IrregMenstCycReas',\n",
    "#                'Pt_CurrPreg', 'Pt_MiscarriageNum', 'Pt_v3NumHospOthReas',\n",
    "#                'HyperglyCritRandGluc', 'WeightDiag', 'NumDKAOccur', 'TannerNotDone', 'PumpTotBasIns',\n",
    "#                'HGMNumDays', 'HGMTestCntAvg', 'HGMGlucMean', 'CGMGlucPctBelow70', 'CGMGlucPctBelow60', \n",
    "#                'PulseRate', 'InsCarbRatBrkfst', 'InsCarbRatLunch', 'InsCarbRatDinn', 'InsCarbRatDinnNotUsed', \n",
    "#                'CGMPctBelow55', 'CGMPctBelow80']\n",
    "\n",
    "cols_to_del = ['Diab_dur_greater', 'ExamDaysFromConsent']\n",
    "\n",
    "df.drop(cols_to_del, inplace=True, axis=1)\n",
    "df.head(10)"
   ]
  },
  {
   "cell_type": "code",
   "execution_count": 54,
   "metadata": {},
   "outputs": [
    {
     "data": {
      "text/plain": [
       "0        NaN\n",
       "4        1.0\n",
       "7        1.0\n",
       "14       1.0\n",
       "15       NaN\n",
       "        ... \n",
       "25736    NaN\n",
       "25738    0.0\n",
       "25748    NaN\n",
       "25757    1.0\n",
       "25758    NaN\n",
       "Name: Pt_SmokeAmt, Length: 6656, dtype: float64"
      ]
     },
     "execution_count": 54,
     "metadata": {},
     "output_type": "execute_result"
    }
   ],
   "source": [
    "df['Pt_SmokeAmt']"
   ]
  },
  {
   "cell_type": "markdown",
   "metadata": {},
   "source": [
    "# Divide Dataset"
   ]
  },
  {
   "cell_type": "code",
   "execution_count": 55,
   "metadata": {},
   "outputs": [],
   "source": [
    "df = df[['AgeAtConsent','diagDuration','HbA1c','Gender','Pt_RaceEth',\n",
    "         'Pt_AnnualInc', 'Pt_InsPriv', 'Pt_EduLevel','bmi',\n",
    "         'Pt_NumBolusDay',\n",
    "         'Pt_InsulinRecMethod',\n",
    "#          'InsulinDeliv', \n",
    "         'Pt_SmokeAmt',\n",
    "             'relative_T1D',y_label\n",
    "            ]]\n"
   ]
  },
  {
   "cell_type": "code",
   "execution_count": 56,
   "metadata": {},
   "outputs": [],
   "source": [
    "def corrX_orig(df, cut = 0.8) :\n",
    "        \n",
    "    # Get correlation matrix and upper triagle\n",
    "    corr_mtx = df.corr().abs()\n",
    "    avg_corr = corr_mtx.mean(axis = 1)\n",
    "    up = corr_mtx.where(np.triu(np.ones(corr_mtx.shape), k=1).astype(np.bool))\n",
    "    \n",
    "    drop = list()\n",
    "    for row in range(len(up)-1):\n",
    "        col_idx = row + 1\n",
    "        for col in range (col_idx, len(up)):\n",
    "            if(corr_mtx.iloc[row, col] > cut):\n",
    "                if(avg_corr.iloc[row] > avg_corr.iloc[col]): \n",
    "                    drop.append(row)\n",
    "                else: \n",
    "                    drop.append(col)\n",
    "    \n",
    "    drop_set = list(set(drop))\n",
    "    dropcols_names = list(df.columns[[item for item in drop_set]])\n",
    "    \n",
    "    return(dropcols_names)\n",
    "\n",
    "cols_to_drop = corrX_orig(df)\n"
   ]
  },
  {
   "cell_type": "code",
   "execution_count": 57,
   "metadata": {},
   "outputs": [
    {
     "data": {
      "image/png": "[encoded data removed]",
      "text/plain": [
       "<Figure size 1152x432 with 2 Axes>"
      ]
     },
     "metadata": {
      "needs_background": "light"
     },
     "output_type": "display_data"
    }
   ],
   "source": [
    "\n",
    "# df.drop(['Lipoatrophy',\n",
    "#  'AgeAtConsent',\n",
    "#  'InsCarbRatDinn',\n",
    "#  'InsNovolog',\n",
    "#  'CGMGlucPctBelow60'], inplace=True, axis=1)\n",
    "# df.head(10)\n",
    "plt.figure(figsize=(16, 6))\n",
    "mask = np.triu(np.ones_like(df.corr(), dtype=np.bool))\n",
    "\n",
    "heatmap = sns.heatmap(df.corr(), mask=mask, vmin=-1, vmax=1, annot=True)\n",
    "heatmap.set_title('Correlation Heatmap', fontdict={'fontsize':12}, pad=12);\n",
    "plt.savefig('heatmap.png', dpi=300, bbox_inches='tight')\n"
   ]
  },
  {
   "cell_type": "code",
   "execution_count": 58,
   "metadata": {
    "scrolled": true
   },
   "outputs": [],
   "source": [
    "\n",
    "def divide_data(df,label):\n",
    "    Y = df[label]\n",
    "    X = df.drop(label, axis=1)\n",
    "    return X, Y\n",
    "\n",
    "X, Y = divide_data(df, y_label)\n"
   ]
  },
  {
   "cell_type": "code",
   "execution_count": 59,
   "metadata": {
    "scrolled": true
   },
   "outputs": [
    {
     "data": {
      "text/plain": [
       "array([0, 1])"
      ]
     },
     "execution_count": 59,
     "metadata": {},
     "output_type": "execute_result"
    }
   ],
   "source": [
    "Y.unique()"
   ]
  },
  {
   "cell_type": "markdown",
   "metadata": {},
   "source": [
    "# Feature Selection"
   ]
  },
  {
   "cell_type": "code",
   "execution_count": 60,
   "metadata": {
    "scrolled": true
   },
   "outputs": [],
   "source": [
    "shape = np.shape(X) \n",
    "feature = shape[1] \n",
    "n_classes = 2\n"
   ]
  },
  {
   "cell_type": "code",
   "execution_count": 61,
   "metadata": {
    "scrolled": true
   },
   "outputs": [],
   "source": [
    "seed(42)\n",
    "tf.random.set_seed(38)\n",
    "# Save original data set\n",
    "original_X = X\n",
    "\n",
    "# Split into training and testing sets\n",
    "X_train, X_test, Y_train, Y_test = train_test_split(X, Y, test_size=0.25, stratify=Y, random_state=123)\n"
   ]
  },
  {
   "cell_type": "code",
   "execution_count": 62,
   "metadata": {
    "scrolled": true
   },
   "outputs": [
    {
     "name": "stdout",
     "output_type": "stream",
     "text": [
      "Train -  [0 1] [4838  154]\n",
      "Test -  [0 1] [1613   51]\n"
     ]
    }
   ],
   "source": [
    "len(Y_train == 0.0)\n",
    "unique, counts = numpy.unique(Y_train.to_numpy(), return_counts=True)\n",
    "print(\"Train - \", unique, counts)\n",
    "\n",
    "unique_test, counts_test = numpy.unique(Y_test.to_numpy(), return_counts=True)\n",
    "print(\"Test - \", unique_test, counts_test)\n"
   ]
  },
  {
   "cell_type": "markdown",
   "metadata": {},
   "source": [
    "# Imputations"
   ]
  },
  {
   "cell_type": "code",
   "execution_count": 63,
   "metadata": {},
   "outputs": [
    {
     "data": {
      "text/plain": [
       "<AxesSubplot:>"
      ]
     },
     "execution_count": 63,
     "metadata": {},
     "output_type": "execute_result"
    },
    {
     "data": {
      "image/png": "[encoded data removed]",
      "text/plain": [
       "<Figure size 1800x720 with 3 Axes>"
      ]
     },
     "metadata": {
      "needs_background": "light"
     },
     "output_type": "display_data"
    }
   ],
   "source": [
    "import missingno as msno\n",
    "msno.bar(X_train)"
   ]
  },
  {
   "cell_type": "markdown",
   "metadata": {},
   "source": [
    "### XGB with missing values"
   ]
  },
  {
   "cell_type": "code",
   "execution_count": 64,
   "metadata": {
    "scrolled": true
   },
   "outputs": [],
   "source": [
    "def plot_roc_curve(fpr, tpr, optimal_idx):\n",
    "    plt.figure(figsize=(10,5))\n",
    "    plt.plot(fpr, tpr, color='orange', label='ROC')\n",
    "    plt.plot([0, 1], [0, 1], color='darkblue', linestyle='--')\n",
    "    plt.scatter(fpr[optimal_idx], tpr[optimal_idx], marker='o', color='black', label='Best') \n",
    "    plt.xlabel('False Positive Rate')\n",
    "    plt.ylabel('True Positive Rate')\n",
    "    plt.title('Receiver Operating Characteristic (ROC) Curve')\n",
    "    plt.legend()\n",
    "    plt.show()"
   ]
  },
  {
   "cell_type": "code",
   "execution_count": 65,
   "metadata": {
    "scrolled": true
   },
   "outputs": [],
   "source": [
    "# use only for XGB classifier with missing values\n",
    "X_train_copy = X_train.copy()\n",
    "X_test_copy = X_test.copy()\n"
   ]
  },
  {
   "cell_type": "code",
   "execution_count": 70,
   "metadata": {},
   "outputs": [],
   "source": [
    "kf = KFold(n_splits= 10, shuffle=False)\n",
    "train = X_train_copy.copy()\n",
    "train[y_label] = Y_train.values\n",
    "\n",
    "from sklearn.model_selection import LeaveOneOut\n",
    "\n",
    "cv = LeaveOneOut()\n",
    "\n",
    "def cross_val_with_missing_val(model,n_splits=5):\n",
    "\n",
    "    dfs = []\n",
    "    kf = StratifiedKFold(n_splits=n_splits, shuffle=True, random_state=123)\n",
    "    i = 1\n",
    "    for train_index, test_index in kf.split(train, Y_train):\n",
    "        X_train1 = train.iloc[train_index].loc[:, X_train_copy.columns]\n",
    "        X_test1 = train.iloc[test_index].loc[:,X_train_copy.columns]\n",
    "        y_train1 = train.iloc[train_index].loc[:,y_label]\n",
    "        y_test1 = train.iloc[test_index].loc[:,y_label]\n",
    "\n",
    "        \n",
    "        #Train the model\n",
    "        model.fit(X_train1, y_train1) #Training the model\n",
    "        print(f\"Accuracy for the fold no. {i} on the test set: {accuracy_score(y_test1, model.predict(X_test1))}, doublecheck: {model.score(X_test1,y_test1)}\")\n",
    "\n",
    "        # how many occurances appear in the train set\n",
    "        s_train = train.iloc[train_index].loc[:,y_label].value_counts()\n",
    "        s_train.name = f\"train {i}\"\n",
    "        s_test = train.iloc[test_index].loc[:,y_label].value_counts()\n",
    "        s_test.name = f\"test {i}\"\n",
    "        df = pd.concat([s_train, s_test], axis=1, sort=False)\n",
    "        df[\"|\"] = \"|\"\n",
    "        dfs.append(df)\n",
    "\n",
    "        i += 1\n",
    "\n",
    "    return model\n",
    "\n"
   ]
  },
  {
   "cell_type": "code",
   "execution_count": 71,
   "metadata": {},
   "outputs": [
    {
     "name": "stdout",
     "output_type": "stream",
     "text": [
      "Accuracy for the fold no. 1 on the test set: 0.968968968968969, doublecheck: 0.968968968968969\n",
      "Accuracy for the fold no. 2 on the test set: 0.968968968968969, doublecheck: 0.968968968968969\n",
      "Accuracy for the fold no. 3 on the test set: 0.969939879759519, doublecheck: 0.969939879759519\n",
      "Accuracy for the fold no. 4 on the test set: 0.968937875751503, doublecheck: 0.968937875751503\n",
      "Accuracy for the fold no. 5 on the test set: 0.968937875751503, doublecheck: 0.968937875751503\n",
      "\n",
      " \n",
      " ===========   Train Dataset    =============\n",
      "train ROC score 0.906881667319865\n",
      "Threshold value is: 0.047747587084197934\n"
     ]
    },
    {
     "data": {
      "image/png": "[encoded data removed]",
      "text/plain": [
       "<Figure size 720x360 with 1 Axes>"
      ]
     },
     "metadata": {
      "needs_background": "light"
     },
     "output_type": "display_data"
    },
    {
     "name": "stdout",
     "output_type": "stream",
     "text": [
      "accuracy score:  90.52483974358975\n",
      "              precision    recall  f1-score   support\n",
      "\n",
      "           0       0.99      0.91      0.95      4838\n",
      "           1       0.22      0.81      0.34       154\n",
      "\n",
      "    accuracy                           0.91      4992\n",
      "   macro avg       0.61      0.86      0.65      4992\n",
      "weighted avg       0.97      0.91      0.93      4992\n",
      "\n"
     ]
    },
    {
     "data": {
      "image/png": "[encoded data removed]",
      "text/plain": [
       "<Figure size 432x288 with 2 Axes>"
      ]
     },
     "metadata": {
      "needs_background": "light"
     },
     "output_type": "display_data"
    },
    {
     "name": "stdout",
     "output_type": "stream",
     "text": [
      "Accuracy of XGB on training set: 0.97\n",
      "\n",
      "\n",
      " ===========   Test Dataset    =============\n",
      "Threshold value is: 0.02244333767354065\n"
     ]
    },
    {
     "data": {
      "image/png": "[encoded data removed]",
      "text/plain": [
       "<Figure size 720x360 with 1 Axes>"
      ]
     },
     "metadata": {
      "needs_background": "light"
     },
     "output_type": "display_data"
    },
    {
     "name": "stdout",
     "output_type": "stream",
     "text": [
      "accuracy score:  51.862980769230774\n",
      "              precision    recall  f1-score   support\n",
      "\n",
      "           0       0.99      0.51      0.67      1613\n",
      "           1       0.05      0.76      0.09        51\n",
      "\n",
      "    accuracy                           0.52      1664\n",
      "   macro avg       0.52      0.64      0.38      1664\n",
      "weighted avg       0.96      0.52      0.66      1664\n",
      "\n"
     ]
    },
    {
     "data": {
      "image/png": "[encoded data removed]",
      "text/plain": [
       "<Figure size 432x288 with 2 Axes>"
      ]
     },
     "metadata": {
      "needs_background": "light"
     },
     "output_type": "display_data"
    },
    {
     "name": "stdout",
     "output_type": "stream",
     "text": [
      "Accuracy of XGB classifier on test set: 0.97\n",
      "\n",
      "\n",
      " ===========   ROC    =============\n",
      "roc_auc = 0.6661\n",
      "\n",
      "\n",
      " ===========   Class-wise test accuracy    =============\n",
      "classwise accuracy [class 0, class 1]:  [0.51084935 0.76470588]\n",
      "average accuracy:  0.6377776156959993\n"
     ]
    }
   ],
   "source": [
    "# HistGradientBoostingClassifier - train with missing values\n",
    "from sklearn.experimental import enable_hist_gradient_boosting\n",
    "from sklearn.ensemble import HistGradientBoostingClassifier\n",
    "\n",
    "\n",
    "model= HistGradientBoostingClassifier(loss= 'binary_crossentropy',\n",
    "                                     learning_rate = 0.01,\n",
    "                                     max_iter= 100,\n",
    "                                     )          \n",
    "# model.fit(X_train_copy,Y_train)\n",
    "model = cross_val_with_missing_val(model)\n",
    "\n",
    "# xgb_pred=model.predict(X_test_copy)\n",
    "# xgb_pred_train=model.predict(X_train_copy)\n",
    "\n",
    "print(\"\\n \\n ===========   Train Dataset    =============\")\n",
    "\n",
    "\n",
    "y_scores1 = model.predict_proba(X_train_copy)[:,1]\n",
    "\n",
    "fpr, tpr, thresholds = roc_curve(Y_train, y_scores1)\n",
    "print(\"train ROC score\", roc_auc_score(Y_train, y_scores1))\n",
    "optimal_idx = np.argmax(tpr - fpr)\n",
    "optimal_threshold = thresholds[optimal_idx]\n",
    "print(\"Threshold value is:\", optimal_threshold)\n",
    "plot_roc_curve(fpr, tpr, optimal_idx)\n",
    "xgb_pred_train = (model.predict_proba(X_train_copy)[:,1] >= optimal_threshold).astype(int)\n",
    "\n",
    "\n",
    "print(\"accuracy score: \", accuracy_score(Y_train, xgb_pred_train)*100)\n",
    "\n",
    "confusion_matrix_xgb_train = pd.DataFrame(confusion_matrix(Y_train, xgb_pred_train))\n",
    "sns.heatmap(confusion_matrix_xgb_train, annot=True,fmt='g')\n",
    "\n",
    "print(classification_report(Y_train, xgb_pred_train))\n",
    "plt.show()\n",
    "\n",
    "train_acc = model.score(X_train_copy, Y_train)\n",
    "print('Accuracy of XGB on training set: {:.2f}'.format(train_acc))\n",
    "\n",
    "\n",
    "\n",
    "print(\"\\n\\n ===========   Test Dataset    =============\")\n",
    "# find optimal threshold\n",
    "y_scores = model.predict_proba(X_test_copy)[:,1]\n",
    "\n",
    "fpr, tpr, thresholds = roc_curve(Y_test, y_scores)\n",
    "optimal_idx = np.argmax(tpr - fpr)\n",
    "optimal_threshold = thresholds[optimal_idx]\n",
    "print(\"Threshold value is:\", optimal_threshold)\n",
    "plot_roc_curve(fpr, tpr, optimal_idx)\n",
    "\n",
    "xgb_pred = (model.predict_proba(X_test_copy)[:,1] >= optimal_threshold).astype(int)\n",
    "\n",
    "\n",
    "\n",
    "print(\"accuracy score: \", accuracy_score(Y_test, xgb_pred)*100)\n",
    "\n",
    "confusion_matrix_xgb = confusion_matrix(Y_test, xgb_pred)\n",
    "sns.heatmap(confusion_matrix_xgb, annot=True, fmt='g')\n",
    "\n",
    "print(classification_report(Y_test, xgb_pred))\n",
    "plt.show()\n",
    "\n",
    "test_acc = model.score(X_test_copy, Y_test)\n",
    "print('Accuracy of XGB classifier on test set: {:.2f}'\n",
    "     .format(test_acc))\n",
    "\n",
    "# ROC\n",
    "print(\"\\n\\n ===========   ROC    =============\")\n",
    "\n",
    "y_scores = model.predict_proba(X_test_copy)\n",
    "score = roc_auc_score(Y_test, y_scores[:, 1])\n",
    "score = round(score,4)\n",
    "print(f'roc_auc = {score}')\n",
    "\n",
    "\n",
    "print(\"\\n\\n ===========   Class-wise test accuracy    =============\")\n",
    "acc = confusion_matrix_xgb.diagonal()/confusion_matrix_xgb.sum(axis=1)\n",
    "print('classwise accuracy [class 0, class 1]: ', acc)\n",
    "print('average accuracy: ',  np.sum(acc)/2)\n",
    "\n"
   ]
  },
  {
   "cell_type": "code",
   "execution_count": null,
   "metadata": {},
   "outputs": [],
   "source": []
  },
  {
   "cell_type": "code",
   "execution_count": 26,
   "metadata": {
    "scrolled": false
   },
   "outputs": [
    {
     "name": "stdout",
     "output_type": "stream",
     "text": [
      "Accuracy for the fold no. 1 on the test set: 0.968, doublecheck: 0.968\n",
      "Accuracy for the fold no. 2 on the test set: 0.968, doublecheck: 0.968\n",
      "Accuracy for the fold no. 3 on the test set: 0.969939879759519, doublecheck: 0.969939879759519\n",
      "Accuracy for the fold no. 4 on the test set: 0.969939879759519, doublecheck: 0.969939879759519\n",
      "Accuracy for the fold no. 5 on the test set: 0.969939879759519, doublecheck: 0.969939879759519\n",
      "Accuracy for the fold no. 6 on the test set: 0.969939879759519, doublecheck: 0.969939879759519\n",
      "Accuracy for the fold no. 7 on the test set: 0.969939879759519, doublecheck: 0.969939879759519\n",
      "Accuracy for the fold no. 8 on the test set: 0.969939879759519, doublecheck: 0.969939879759519\n",
      "Accuracy for the fold no. 9 on the test set: 0.9679358717434869, doublecheck: 0.9679358717434869\n",
      "Accuracy for the fold no. 10 on the test set: 0.9679358717434869, doublecheck: 0.9679358717434869\n",
      "\n",
      " \n",
      " ===========   Train Dataset    =============\n",
      "train ROC score 0.939852520360995\n",
      "Threshold value is: -1.0496032\n"
     ]
    },
    {
     "data": {
      "image/png": "[encoded data removed]",
      "text/plain": [
       "<Figure size 720x360 with 1 Axes>"
      ]
     },
     "metadata": {
      "needs_background": "light"
     },
     "output_type": "display_data"
    },
    {
     "name": "stdout",
     "output_type": "stream",
     "text": [
      "accuracy score:  84.47516025641025\n",
      "              precision    recall  f1-score   support\n",
      "\n",
      "           0       1.00      0.84      0.91      4838\n",
      "           1       0.15      0.90      0.26       154\n",
      "\n",
      "    accuracy                           0.84      4992\n",
      "   macro avg       0.58      0.87      0.59      4992\n",
      "weighted avg       0.97      0.84      0.89      4992\n",
      "\n"
     ]
    },
    {
     "data": {
      "image/png": "[encoded data removed]",
      "text/plain": [
       "<Figure size 432x288 with 2 Axes>"
      ]
     },
     "metadata": {
      "needs_background": "light"
     },
     "output_type": "display_data"
    },
    {
     "name": "stdout",
     "output_type": "stream",
     "text": [
      "Accuracy of XGB on training set: 0.97\n",
      "\n",
      "\n",
      " ===========   Test Dataset    =============\n",
      "Threshold value is: -1.4620051\n"
     ]
    },
    {
     "data": {
      "image/png": "[encoded data removed]",
      "text/plain": [
       "<Figure size 720x360 with 1 Axes>"
      ]
     },
     "metadata": {
      "needs_background": "light"
     },
     "output_type": "display_data"
    },
    {
     "name": "stdout",
     "output_type": "stream",
     "text": [
      "accuracy score:  55.64903846153846\n",
      "              precision    recall  f1-score   support\n",
      "\n",
      "           0       0.98      0.55      0.71      1613\n",
      "           1       0.05      0.71      0.09        51\n",
      "\n",
      "    accuracy                           0.56      1664\n",
      "   macro avg       0.52      0.63      0.40      1664\n",
      "weighted avg       0.95      0.56      0.69      1664\n",
      "\n"
     ]
    },
    {
     "data": {
      "image/png": "[encoded data removed]",
      "text/plain": [
       "<Figure size 432x288 with 2 Axes>"
      ]
     },
     "metadata": {
      "needs_background": "light"
     },
     "output_type": "display_data"
    },
    {
     "name": "stdout",
     "output_type": "stream",
     "text": [
      "Accuracy of XGB classifier on test set: 0.97\n",
      "\n",
      "\n",
      " ===========   ROC    =============\n",
      "roc_auc = 0.6582\n",
      "\n",
      "\n",
      " ===========   Class-wise test accuracy    =============\n",
      "classwise accuracy [class 0, class 1]:  [0.55176689 0.70588235]\n",
      "average accuracy:  0.6288246234637687\n",
      "f1 0.08888888888888889\n"
     ]
    }
   ],
   "source": [
    "# xgboost - train with missing values\n",
    "\n",
    "model=XGBClassifier(\n",
    "        use_label_encoder=False, eta = 0.1,#eta between(0.01-0.2)\n",
    "        max_depth = 4, #values between(3-10)\n",
    "        max_delta_step = 10,\n",
    "#         scale_pos_weight = 0.4,\n",
    "        n_jobs = 0,\n",
    "        subsample = 0.5,#values between(0.5-1)\n",
    "        colsample_bytree = 1,#values between(0.5-1)\n",
    "        tree_method = \"auto\",\n",
    "        process_type = \"default\",\n",
    "        num_parallel_tree=7,\n",
    "#         objective = 'binary:logistic', \n",
    "        objective='multi:softmax',\n",
    "        min_child_weight = 4,\n",
    "        booster='gbtree',\n",
    "        eval_metric = \"mlogloss\",\n",
    "        num_class = n_classes\n",
    "    )\n",
    "\n",
    "# model.fit(X_train_copy,Y_train)\n",
    "model = cross_val_with_missing_val(model, 10)\n",
    "\n",
    "# xgb_pred=model.predict(X_test_copy)\n",
    "# xgb_pred_train=model.predict(X_train_copy)\n",
    "\n",
    "print(\"\\n \\n ===========   Train Dataset    =============\")\n",
    "\n",
    "\n",
    "y_scores1 = model.predict_proba(X_train_copy)[:,1]\n",
    "\n",
    "fpr, tpr, thresholds = roc_curve(Y_train, y_scores1)\n",
    "print(\"train ROC score\", roc_auc_score(Y_train, y_scores1))\n",
    "optimal_idx = np.argmax(tpr - fpr)\n",
    "optimal_threshold = thresholds[optimal_idx]\n",
    "print(\"Threshold value is:\", optimal_threshold)\n",
    "plot_roc_curve(fpr, tpr, optimal_idx)\n",
    "xgb_pred_train = (model.predict_proba(X_train_copy)[:,1] >= optimal_threshold).astype(int)\n",
    "\n",
    "\n",
    "print(\"accuracy score: \", accuracy_score(Y_train, xgb_pred_train)*100)\n",
    "\n",
    "confusion_matrix_xgb_train = pd.DataFrame(confusion_matrix(Y_train, xgb_pred_train))\n",
    "sns.heatmap(confusion_matrix_xgb_train, annot=True,fmt='g')\n",
    "\n",
    "print(classification_report(Y_train, xgb_pred_train))\n",
    "plt.show()\n",
    "\n",
    "train_acc = model.score(X_train_copy, Y_train)\n",
    "print('Accuracy of XGB on training set: {:.2f}'.format(train_acc))\n",
    "\n",
    "\n",
    "print(\"\\n\\n ===========   Test Dataset    =============\")\n",
    "# find optimal threshold\n",
    "y_scores = model.predict_proba(X_test_copy)[:,1]\n",
    "\n",
    "fpr, tpr, thresholds = roc_curve(Y_test, y_scores)\n",
    "optimal_idx = np.argmax(tpr - fpr)\n",
    "optimal_threshold = thresholds[optimal_idx]\n",
    "print(\"Threshold value is:\", optimal_threshold)\n",
    "plot_roc_curve(fpr, tpr, optimal_idx)\n",
    "\n",
    "xgb_pred = (model.predict_proba(X_test_copy)[:,1] >= optimal_threshold).astype(int)\n",
    "\n",
    "\n",
    "print(\"accuracy score: \", accuracy_score(Y_test, xgb_pred)*100)\n",
    "\n",
    "confusion_matrix_xgb = confusion_matrix(Y_test, xgb_pred)\n",
    "sns.heatmap(confusion_matrix_xgb, annot=True, fmt='g')\n",
    "\n",
    "print(classification_report(Y_test, xgb_pred))\n",
    "plt.show()\n",
    "\n",
    "test_acc = model.score(X_test_copy, Y_test)\n",
    "print('Accuracy of XGB classifier on test set: {:.2f}'\n",
    "     .format(test_acc))\n",
    "\n",
    "# ROC\n",
    "print(\"\\n\\n ===========   ROC    =============\")\n",
    "\n",
    "y_scores = model.predict_proba(X_test_copy)\n",
    "score = roc_auc_score(Y_test, y_scores[:, 1])\n",
    "score = round(score,4)\n",
    "print(f'roc_auc = {score}')\n",
    "\n",
    "\n",
    "print(\"\\n\\n ===========   Class-wise test accuracy    =============\")\n",
    "acc = confusion_matrix_xgb.diagonal()/confusion_matrix_xgb.sum(axis=1)\n",
    "print('classwise accuracy [class 0, class 1]: ', acc)\n",
    "print('average accuracy: ',  np.sum(acc)/2)\n",
    "\n",
    "\n",
    "print('f1', metrics.f1_score(xgb_pred, Y_test))\n"
   ]
  },
  {
   "cell_type": "code",
   "execution_count": 27,
   "metadata": {},
   "outputs": [
    {
     "data": {
      "text/plain": [
       "<AxesSubplot:>"
      ]
     },
     "execution_count": 27,
     "metadata": {},
     "output_type": "execute_result"
    },
    {
     "data": {
      "image/png": "[encoded data removed]",
      "text/plain": [
       "<Figure size 432x288 with 1 Axes>"
      ]
     },
     "metadata": {
      "needs_background": "light"
     },
     "output_type": "display_data"
    }
   ],
   "source": [
    "# feature importance graph of XGB\n",
    "feat_importances = pd.Series(model.feature_importances_, index=X_train_copy.columns[0:204])\n",
    "feat_importances.nlargest(20).plot(kind='barh')\n"
   ]
  },
  {
   "cell_type": "code",
   "execution_count": 28,
   "metadata": {},
   "outputs": [
    {
     "name": "stdout",
     "output_type": "stream",
     "text": [
      "Accuracy for the fold no. 1 on the test set: 0.968, doublecheck: 0.968\n",
      "Accuracy for the fold no. 2 on the test set: 0.968, doublecheck: 0.968\n",
      "Accuracy for the fold no. 3 on the test set: 0.969939879759519, doublecheck: 0.969939879759519\n",
      "Accuracy for the fold no. 4 on the test set: 0.969939879759519, doublecheck: 0.969939879759519\n",
      "Accuracy for the fold no. 5 on the test set: 0.969939879759519, doublecheck: 0.969939879759519\n",
      "Accuracy for the fold no. 6 on the test set: 0.969939879759519, doublecheck: 0.969939879759519\n",
      "Accuracy for the fold no. 7 on the test set: 0.969939879759519, doublecheck: 0.969939879759519\n",
      "Accuracy for the fold no. 8 on the test set: 0.969939879759519, doublecheck: 0.969939879759519\n",
      "Accuracy for the fold no. 9 on the test set: 0.9679358717434869, doublecheck: 0.9679358717434869\n",
      "Accuracy for the fold no. 10 on the test set: 0.9679358717434869, doublecheck: 0.9679358717434869\n",
      "\n",
      " \n",
      " ===========   Train Dataset    =============\n",
      "train ROC score 0.7788013454094478\n",
      "Threshold value is: 0.0362353491585637\n"
     ]
    },
    {
     "data": {
      "image/png": "[encoded data removed]",
      "text/plain": [
       "<Figure size 720x360 with 1 Axes>"
      ]
     },
     "metadata": {
      "needs_background": "light"
     },
     "output_type": "display_data"
    },
    {
     "name": "stdout",
     "output_type": "stream",
     "text": [
      "accuracy score:  79.54727564102564\n",
      "              precision    recall  f1-score   support\n",
      "\n",
      "           0       0.99      0.80      0.88      4838\n",
      "           1       0.09      0.63      0.16       154\n",
      "\n",
      "    accuracy                           0.80      4992\n",
      "   macro avg       0.54      0.72      0.52      4992\n",
      "weighted avg       0.96      0.80      0.86      4992\n",
      "\n"
     ]
    },
    {
     "data": {
      "image/png": "[encoded data removed]",
      "text/plain": [
       "<Figure size 432x288 with 2 Axes>"
      ]
     },
     "metadata": {
      "needs_background": "light"
     },
     "output_type": "display_data"
    },
    {
     "name": "stdout",
     "output_type": "stream",
     "text": [
      "Accuracy of XGB on training set: 0.97\n",
      "\n",
      "\n",
      " ===========   Test Dataset    =============\n",
      "Threshold value is: 0.026640570246534854\n"
     ]
    },
    {
     "data": {
      "image/png": "[encoded data removed]",
      "text/plain": [
       "<Figure size 720x360 with 1 Axes>"
      ]
     },
     "metadata": {
      "needs_background": "light"
     },
     "output_type": "display_data"
    },
    {
     "name": "stdout",
     "output_type": "stream",
     "text": [
      "accuracy score:  50.78125\n",
      "              precision    recall  f1-score   support\n",
      "\n",
      "           0       0.99      0.50      0.66      1613\n",
      "           1       0.05      0.80      0.09        51\n",
      "\n",
      "    accuracy                           0.51      1664\n",
      "   macro avg       0.52      0.65      0.38      1664\n",
      "weighted avg       0.96      0.51      0.65      1664\n",
      "\n"
     ]
    },
    {
     "data": {
      "image/png": "[encoded data removed]",
      "text/plain": [
       "<Figure size 432x288 with 2 Axes>"
      ]
     },
     "metadata": {
      "needs_background": "light"
     },
     "output_type": "display_data"
    },
    {
     "name": "stdout",
     "output_type": "stream",
     "text": [
      "\n",
      "\n",
      " ===========   ROC    =============\n",
      "roc_auc = 0.69\n",
      "\n",
      "\n",
      " ===========   Class-wise test accuracy    =============\n",
      "classwise accuracy [class 0, class 1]:  [0.49845009 0.80392157]\n",
      "average accuracy:  0.6511858308109357\n",
      "f1 0.09100998890122086\n"
     ]
    }
   ],
   "source": [
    "\n",
    "# xgboost - train with missing values\n",
    "\n",
    "model=ltb.LGBMClassifier(use_missing = True,\n",
    "                         learning_rate = 0.01, \n",
    "                         max_depth =3, random_state=0 )\n",
    "                   \n",
    "# model.fit(X_train_copy,Y_train)\n",
    "model = cross_val_with_missing_val(model,10)\n",
    "\n",
    "# xgb_pred=model.predict(X_test_copy)\n",
    "# xgb_pred_train=model.predict(X_train_copy)\n",
    "\n",
    "print(\"\\n \\n ===========   Train Dataset    =============\")\n",
    "\n",
    "\n",
    "y_scores1 = model.predict_proba(X_train_copy)[:,1]\n",
    "\n",
    "fpr, tpr, thresholds = roc_curve(Y_train, y_scores1)\n",
    "print(\"train ROC score\", roc_auc_score(Y_train, y_scores1))\n",
    "optimal_idx = np.argmax(tpr - fpr)\n",
    "optimal_threshold = thresholds[optimal_idx]\n",
    "print(\"Threshold value is:\", optimal_threshold)\n",
    "plot_roc_curve(fpr, tpr, optimal_idx)\n",
    "xgb_pred_train = (model.predict_proba(X_train_copy)[:,1] >= optimal_threshold).astype(int)\n",
    "\n",
    "\n",
    "print(\"accuracy score: \", accuracy_score(Y_train, xgb_pred_train)*100)\n",
    "\n",
    "confusion_matrix_xgb_train = pd.DataFrame(confusion_matrix(Y_train, xgb_pred_train))\n",
    "sns.heatmap(confusion_matrix_xgb_train, annot=True,fmt='g')\n",
    "\n",
    "print(classification_report(Y_train, xgb_pred_train))\n",
    "plt.show()\n",
    "\n",
    "train_acc = model.score(X_train_copy, Y_train)\n",
    "print('Accuracy of XGB on training set: {:.2f}'.format(train_acc))\n",
    "\n",
    "\n",
    "print(\"\\n\\n ===========   Test Dataset    =============\")\n",
    "# find optimal threshold\n",
    "y_scores = model.predict_proba(X_test_copy)[:,1]\n",
    "\n",
    "fpr, tpr, thresholds = roc_curve(Y_test, y_scores)\n",
    "optimal_idx = np.argmax(tpr - fpr)\n",
    "optimal_threshold = thresholds[optimal_idx]\n",
    "print(\"Threshold value is:\", optimal_threshold)\n",
    "plot_roc_curve(fpr, tpr, optimal_idx)\n",
    "\n",
    "xgb_pred = (model.predict_proba(X_test_copy)[:,1] >= optimal_threshold).astype(int)\n",
    "\n",
    "\n",
    "print(\"accuracy score: \", accuracy_score(Y_test, xgb_pred)*100)\n",
    "\n",
    "confusion_matrix_xgb = confusion_matrix(Y_test, xgb_pred)\n",
    "sns.heatmap(confusion_matrix_xgb, annot=True, fmt='g')\n",
    "\n",
    "print(classification_report(Y_test, xgb_pred))\n",
    "plt.show()\n",
    "\n",
    "# test_acc = model.score(X_test_copy, Y_test)\n",
    "# print('Accuracy of XGB classifier on test set: {:.2f}'\n",
    "#      .format(test_acc))\n",
    "\n",
    "# ROC\n",
    "print(\"\\n\\n ===========   ROC    =============\")\n",
    "\n",
    "y_scores = model.predict_proba(X_test_copy)\n",
    "score = roc_auc_score(Y_test, y_scores[:, 1])\n",
    "score = round(score,4)\n",
    "print(f'roc_auc = {score}')\n",
    "\n",
    "\n",
    "print(\"\\n\\n ===========   Class-wise test accuracy    =============\")\n",
    "acc = confusion_matrix_xgb.diagonal()/confusion_matrix_xgb.sum(axis=1)\n",
    "print('classwise accuracy [class 0, class 1]: ', acc)\n",
    "print('average accuracy: ',  np.sum(acc)/2)\n",
    "\n",
    "\n",
    "print('f1', metrics.f1_score(xgb_pred, Y_test))"
   ]
  },
  {
   "cell_type": "code",
   "execution_count": 29,
   "metadata": {
    "scrolled": true
   },
   "outputs": [
    {
     "data": {
      "text/plain": [
       "<AxesSubplot:>"
      ]
     },
     "execution_count": 29,
     "metadata": {},
     "output_type": "execute_result"
    },
    {
     "data": {
      "image/png": "[encoded data removed]",
      "text/plain": [
       "<Figure size 432x288 with 1 Axes>"
      ]
     },
     "metadata": {
      "needs_background": "light"
     },
     "output_type": "display_data"
    }
   ],
   "source": [
    "# feature importance graph of XGB\n",
    "feat_importances = pd.Series(model.feature_importances_, index=X_train_copy.columns[0:204])\n",
    "feat_importances.nlargest(20).plot(kind='barh')\n"
   ]
  },
  {
   "cell_type": "code",
   "execution_count": 30,
   "metadata": {
    "scrolled": true
   },
   "outputs": [],
   "source": [
    "# fill nan values in categorical dataset with frequent value\n",
    "\n",
    "# tested wuth mean and median - results is lower than most_frequent\n",
    "# imputeX = SimpleImputer(missing_values=np.nan, strategy = \"most_frequent\")\n",
    "# imputeX = KNNImputer(missing_values=np.nan, n_neighbors = 3, weights='distance')\n",
    "\n",
    "\n",
    "imputeX = IterativeImputer(missing_values=np.nan,sample_posterior= True,max_iter=15,\n",
    "                           initial_strategy='most_frequent', random_state=0)\n",
    "\n",
    "X_train = imputeX.fit_transform(X_train)"
   ]
  },
  {
   "cell_type": "code",
   "execution_count": 31,
   "metadata": {
    "scrolled": true
   },
   "outputs": [],
   "source": [
    "# test data imputation\n",
    "\n",
    "Test = X_test.copy()\n",
    "Test.loc[:,y_label] = Y_test\n",
    "\n",
    "X_test = imputeX.transform(X_test)\n"
   ]
  },
  {
   "cell_type": "markdown",
   "metadata": {},
   "source": [
    "# Scale data"
   ]
  },
  {
   "cell_type": "code",
   "execution_count": 32,
   "metadata": {
    "scrolled": true
   },
   "outputs": [],
   "source": [
    "# Normalize numeric features\n",
    "scaler = StandardScaler()\n",
    "# scaler = MinMaxScaler()\n",
    "select = {}\n",
    "select[0] = pd.DataFrame(scaler.fit_transform(X_train))\n",
    "select[1] = Y_train\n",
    "select[2] = pd.DataFrame(scaler.transform(X_test))\n"
   ]
  },
  {
   "cell_type": "markdown",
   "metadata": {},
   "source": [
    "## Feature Selection"
   ]
  },
  {
   "cell_type": "code",
   "execution_count": 33,
   "metadata": {
    "scrolled": true
   },
   "outputs": [],
   "source": [
    "#Selecting the Best important features according to Logistic Regression\n",
    "# Give better performance than selectKBest \n",
    "def select_features(select, feature):\n",
    "    selected = {}\n",
    "#     fs = RFE(estimator=LogisticRegression(), n_features_to_select=feature, step = 1) #  step (the number of features eliminated each iteration) \n",
    "    fs = RFE(estimator=XGBClassifier(), n_features_to_select=feature, step = 5) #  step (the number of features eliminated each iteration) \n",
    "#     fs = RFE(estimator=RandomForestClassifier(), n_features_to_select=feature, step = 1) #  step (the number of features eliminated each iteration) \n",
    "    \n",
    "    \n",
    "    selected[0] = fs.fit_transform(select[0], select[1])\n",
    "    selected[1] = fs.transform(select[2])\n",
    "\n",
    "    idx = fs.get_support(indices=True)\n",
    "    \n",
    "    return selected, fs, idx\n"
   ]
  },
  {
   "cell_type": "code",
   "execution_count": 34,
   "metadata": {},
   "outputs": [
    {
     "name": "stderr",
     "output_type": "stream",
     "text": [
      "The use of label encoder in XGBClassifier is deprecated and will be removed in a future release. To remove this warning, do the following: 1) Pass option use_label_encoder=False when constructing XGBClassifier object; and 2) Encode your labels (y) as integers starting with 0, i.e. 0, 1, 2, ..., [num_class - 1].\n"
     ]
    },
    {
     "name": "stdout",
     "output_type": "stream",
     "text": [
      "[14:05:33] WARNING: ../src/learner.cc:1115: Starting in XGBoost 1.3.0, the default evaluation metric used with the objective 'binary:logistic' was changed from 'error' to 'logloss'. Explicitly set eval_metric if you'd like to restore the old behavior.\n"
     ]
    }
   ],
   "source": [
    "# Feature selection\n",
    "selected, fs, idx = select_features(select, feature)\n"
   ]
  },
  {
   "cell_type": "code",
   "execution_count": 35,
   "metadata": {},
   "outputs": [
    {
     "name": "stdout",
     "output_type": "stream",
     "text": [
      "Index(['AgeAtConsent', 'diagDuration', 'HbA1c', 'Gender', 'Pt_RaceEth',\n",
      "       'Pt_AnnualInc', 'Pt_InsPriv', 'Pt_EduLevel', 'bmi', 'Pt_NumBolusDay',\n",
      "       'Pt_InsulinRecMethod', 'Pt_SmokeAmt', 'relative_T1D', 'DKAPast12mos'],\n",
      "      dtype='object')\n",
      "(6656, 14)\n"
     ]
    }
   ],
   "source": [
    "# Get columns to keep and create new dataframe with those only\n",
    "from pprint import pprint\n",
    "cols = fs.get_support(indices=True)\n",
    "features_df_new = original_X.iloc[:,cols]\n",
    "pprint(features_df_new.columns)\n",
    "print(features_df_new.shape)\n",
    "\n"
   ]
  },
  {
   "cell_type": "code",
   "execution_count": 36,
   "metadata": {
    "scrolled": true
   },
   "outputs": [],
   "source": [
    "X_train = pd.DataFrame(selected[0], columns = features_df_new.columns)\n",
    "X_test = pd.DataFrame(selected[1], columns = features_df_new.columns)\n"
   ]
  },
  {
   "cell_type": "markdown",
   "metadata": {
    "scrolled": true
   },
   "source": [
    "### Common functions"
   ]
  },
  {
   "cell_type": "code",
   "execution_count": 37,
   "metadata": {
    "scrolled": true
   },
   "outputs": [],
   "source": [
    "# kf = KFold(n_splits= 3, shuffle=False)\n",
    "train = X_train.copy()\n",
    "train[y_label] = Y_train.values\n",
    "\n",
    "def cross_val(model, n_splits=10):\n",
    "\n",
    "    dfs = []\n",
    "    kf = StratifiedKFold(n_splits=n_splits, shuffle=True, random_state=123)\n",
    "    i = 1\n",
    "    for train_index, test_index in kf.split(train, Y_train):\n",
    "        X_train1 = train.iloc[train_index].loc[:, X_train.columns]\n",
    "        X_test1 = train.iloc[test_index].loc[:,X_train.columns]\n",
    "        y_train1 = train.iloc[train_index].loc[:,y_label]\n",
    "        y_test1 = train.iloc[test_index].loc[:,y_label]\n",
    "\n",
    "        #Train the model\n",
    "        model.fit(X_train1, y_train1) #Training the model\n",
    "        print(f\"Accuracy for the fold no. {i} on the test set: {accuracy_score(y_test1, model.predict(X_test1))}, doublecheck: {model.score(X_test1,y_test1)}\")\n",
    "\n",
    "        # how many occurances appear in the train set\n",
    "        s_train = train.iloc[train_index].loc[:,y_label].value_counts()\n",
    "        s_train.name = f\"train {i}\"\n",
    "        s_test = train.iloc[test_index].loc[:,y_label].value_counts()\n",
    "        s_test.name = f\"test {i}\"\n",
    "        df = pd.concat([s_train, s_test], axis=1, sort=False)\n",
    "        df[\"|\"] = \"|\"\n",
    "        dfs.append(df)\n",
    "\n",
    "        i += 1\n",
    "    return model\n",
    "\n"
   ]
  },
  {
   "cell_type": "code",
   "execution_count": 38,
   "metadata": {},
   "outputs": [],
   "source": [
    "def optimal_thresh(model, X, Y):\n",
    "    y_scores = model.predict_proba(X)[:,1]\n",
    "\n",
    "    fpr, tpr, thresholds = roc_curve(Y, y_scores)\n",
    "    print(roc_auc_score(Y, y_scores))\n",
    "#     optimal_idx = np.argmax(sqrt(tpr * (1-fpr)))\n",
    "    optimal_idx = np.argmax(tpr - fpr)\n",
    "    optimal_threshold = thresholds[optimal_idx]\n",
    "    print(\"Threshold value is:\", optimal_threshold)\n",
    "    plot_roc_curve(fpr, tpr, optimal_idx)\n",
    "    plt.show()\n",
    "    return optimal_threshold"
   ]
  },
  {
   "cell_type": "code",
   "execution_count": 39,
   "metadata": {},
   "outputs": [],
   "source": [
    "def train_results(model, X_train, Y_train, pred_train):\n",
    "    print(\"\\n \\n =====================   Train Dataset    ======================\")\n",
    "\n",
    "    print(accuracy_score(Y_train, pred_train)*100)\n",
    "\n",
    "    confusion_matrix_train = pd.DataFrame(confusion_matrix(Y_train, pred_train))\n",
    "    sns.heatmap(confusion_matrix_train, annot=True,fmt='g')\n",
    "    print(classification_report(Y_train, pred_train))\n",
    "    plt.show()\n",
    "    \n",
    "    train_acc = model.score(X_train, Y_train)\n",
    "    print('Accuracy of on training set: {:.2f}'.format(train_acc))\n",
    "\n",
    "def test_results(model, X_test, Y_test, pred):\n",
    "    print(\"\\n\\n =====================   Test Dataset    =======================\")\n",
    "\n",
    "    print(accuracy_score(Y_test, pred)*100)\n",
    "\n",
    "    confusion_matrix_model = confusion_matrix(Y_test, pred)\n",
    "    sns.heatmap(confusion_matrix_model, annot=True,fmt='g')\n",
    "    print(classification_report(Y_test, pred))\n",
    "    plt.show()\n",
    "    \n",
    "    test_acc = model.score(X_test, Y_test)\n",
    "    print('Accuracy of classifier on test set: {:.2f}'\n",
    "         .format(test_acc))\n",
    "\n",
    "def ROC_results(model, X_test, Y_test):\n",
    "    print(\"\\n\\n =======================   Test-ROC    =========================\")\n",
    "\n",
    "    y_scores = model.predict_proba(X_test)\n",
    "    score = roc_auc_score(Y_test, y_scores[:, 1])\n",
    "    score = round(score,4)\n",
    "    print(f'roc_auc = {score}')\n",
    "    \n",
    "def class_wise_test_accuracy(model, Y_test, pred):\n",
    "    print(\"\\n\\n =======================   Class-wise test accuracy    =====================\")\n",
    "    confusion_matrix_model = confusion_matrix(Y_test, pred)\n",
    "    acc = confusion_matrix_model.diagonal()/confusion_matrix_model.sum(axis=1)\n",
    "    print('classwise accuracy [class 0, class 1]: ',(acc))\n",
    "    print('average accuracy: ',( np.sum(acc)/2))\n",
    "    \n",
    "    print('f1', metrics.f1_score(pred, Y_test, average='macro'))    "
   ]
  },
  {
   "cell_type": "code",
   "execution_count": 40,
   "metadata": {},
   "outputs": [
    {
     "ename": "KeyboardInterrupt",
     "evalue": "",
     "output_type": "error",
     "traceback": [
      "\u001b[0;31m---------------------------------------------------------------------------\u001b[0m",
      "\u001b[0;31mKeyboardInterrupt\u001b[0m                         Traceback (most recent call last)",
      "\u001b[0;32m/tmp/ipykernel_13899/3871827171.py\u001b[0m in \u001b[0;36m<module>\u001b[0;34m\u001b[0m\n\u001b[1;32m      5\u001b[0m                          max_depth =4, random_state=0 )\n\u001b[1;32m      6\u001b[0m \u001b[0;31m# adaboost.fit(X_train, Y_train)\u001b[0m\u001b[0;34m\u001b[0m\u001b[0;34m\u001b[0m\u001b[0;34m\u001b[0m\u001b[0m\n\u001b[0;32m----> 7\u001b[0;31m \u001b[0mltb_model\u001b[0m \u001b[0;34m=\u001b[0m \u001b[0mcross_val\u001b[0m\u001b[0;34m(\u001b[0m\u001b[0mltb_model\u001b[0m\u001b[0;34m,\u001b[0m \u001b[0;36m10\u001b[0m\u001b[0;34m)\u001b[0m\u001b[0;34m\u001b[0m\u001b[0;34m\u001b[0m\u001b[0m\n\u001b[0m\u001b[1;32m      8\u001b[0m \u001b[0;34m\u001b[0m\u001b[0m\n\u001b[1;32m      9\u001b[0m \u001b[0;31m# pred=adaboost.predict(X_test)\u001b[0m\u001b[0;34m\u001b[0m\u001b[0;34m\u001b[0m\u001b[0;34m\u001b[0m\u001b[0m\n",
      "\u001b[0;32m/tmp/ipykernel_13899/1314880766.py\u001b[0m in \u001b[0;36mcross_val\u001b[0;34m(model, n_splits)\u001b[0m\n\u001b[1;32m     15\u001b[0m \u001b[0;34m\u001b[0m\u001b[0m\n\u001b[1;32m     16\u001b[0m         \u001b[0;31m#Train the model\u001b[0m\u001b[0;34m\u001b[0m\u001b[0;34m\u001b[0m\u001b[0;34m\u001b[0m\u001b[0m\n\u001b[0;32m---> 17\u001b[0;31m         \u001b[0mmodel\u001b[0m\u001b[0;34m.\u001b[0m\u001b[0mfit\u001b[0m\u001b[0;34m(\u001b[0m\u001b[0mX_train1\u001b[0m\u001b[0;34m,\u001b[0m \u001b[0my_train1\u001b[0m\u001b[0;34m)\u001b[0m \u001b[0;31m#Training the model\u001b[0m\u001b[0;34m\u001b[0m\u001b[0;34m\u001b[0m\u001b[0m\n\u001b[0m\u001b[1;32m     18\u001b[0m         \u001b[0mprint\u001b[0m\u001b[0;34m(\u001b[0m\u001b[0;34mf\"Accuracy for the fold no. {i} on the test set: {accuracy_score(y_test1, model.predict(X_test1))}, doublecheck: {model.score(X_test1,y_test1)}\"\u001b[0m\u001b[0;34m)\u001b[0m\u001b[0;34m\u001b[0m\u001b[0;34m\u001b[0m\u001b[0m\n\u001b[1;32m     19\u001b[0m \u001b[0;34m\u001b[0m\u001b[0m\n",
      "\u001b[0;32m~/.local/lib/python3.9/site-packages/lightgbm/sklearn.py\u001b[0m in \u001b[0;36mfit\u001b[0;34m(self, X, y, sample_weight, init_score, eval_set, eval_names, eval_sample_weight, eval_class_weight, eval_init_score, eval_metric, early_stopping_rounds, verbose, feature_name, categorical_feature, callbacks, init_model)\u001b[0m\n\u001b[1;32m    965\u001b[0m                     \u001b[0mvalid_sets\u001b[0m\u001b[0;34m[\u001b[0m\u001b[0mi\u001b[0m\u001b[0;34m]\u001b[0m \u001b[0;34m=\u001b[0m \u001b[0;34m(\u001b[0m\u001b[0mvalid_x\u001b[0m\u001b[0;34m,\u001b[0m \u001b[0mself\u001b[0m\u001b[0;34m.\u001b[0m\u001b[0m_le\u001b[0m\u001b[0;34m.\u001b[0m\u001b[0mtransform\u001b[0m\u001b[0;34m(\u001b[0m\u001b[0mvalid_y\u001b[0m\u001b[0;34m)\u001b[0m\u001b[0;34m)\u001b[0m\u001b[0;34m\u001b[0m\u001b[0;34m\u001b[0m\u001b[0m\n\u001b[1;32m    966\u001b[0m \u001b[0;34m\u001b[0m\u001b[0m\n\u001b[0;32m--> 967\u001b[0;31m         super().fit(X, _y, sample_weight=sample_weight, init_score=init_score, eval_set=valid_sets,\n\u001b[0m\u001b[1;32m    968\u001b[0m                     \u001b[0meval_names\u001b[0m\u001b[0;34m=\u001b[0m\u001b[0meval_names\u001b[0m\u001b[0;34m,\u001b[0m \u001b[0meval_sample_weight\u001b[0m\u001b[0;34m=\u001b[0m\u001b[0meval_sample_weight\u001b[0m\u001b[0;34m,\u001b[0m\u001b[0;34m\u001b[0m\u001b[0;34m\u001b[0m\u001b[0m\n\u001b[1;32m    969\u001b[0m                     \u001b[0meval_class_weight\u001b[0m\u001b[0;34m=\u001b[0m\u001b[0meval_class_weight\u001b[0m\u001b[0;34m,\u001b[0m \u001b[0meval_init_score\u001b[0m\u001b[0;34m=\u001b[0m\u001b[0meval_init_score\u001b[0m\u001b[0;34m,\u001b[0m\u001b[0;34m\u001b[0m\u001b[0;34m\u001b[0m\u001b[0m\n",
      "\u001b[0;32m~/.local/lib/python3.9/site-packages/lightgbm/sklearn.py\u001b[0m in \u001b[0;36mfit\u001b[0;34m(self, X, y, sample_weight, init_score, group, eval_set, eval_names, eval_sample_weight, eval_class_weight, eval_init_score, eval_group, eval_metric, early_stopping_rounds, verbose, feature_name, categorical_feature, callbacks, init_model)\u001b[0m\n\u001b[1;32m    746\u001b[0m         \u001b[0mcallbacks\u001b[0m\u001b[0;34m.\u001b[0m\u001b[0mappend\u001b[0m\u001b[0;34m(\u001b[0m\u001b[0mrecord_evaluation\u001b[0m\u001b[0;34m(\u001b[0m\u001b[0mevals_result\u001b[0m\u001b[0;34m)\u001b[0m\u001b[0;34m)\u001b[0m\u001b[0;34m\u001b[0m\u001b[0;34m\u001b[0m\u001b[0m\n\u001b[1;32m    747\u001b[0m \u001b[0;34m\u001b[0m\u001b[0m\n\u001b[0;32m--> 748\u001b[0;31m         self._Booster = train(\n\u001b[0m\u001b[1;32m    749\u001b[0m             \u001b[0mparams\u001b[0m\u001b[0;34m=\u001b[0m\u001b[0mparams\u001b[0m\u001b[0;34m,\u001b[0m\u001b[0;34m\u001b[0m\u001b[0;34m\u001b[0m\u001b[0m\n\u001b[1;32m    750\u001b[0m             \u001b[0mtrain_set\u001b[0m\u001b[0;34m=\u001b[0m\u001b[0mtrain_set\u001b[0m\u001b[0;34m,\u001b[0m\u001b[0;34m\u001b[0m\u001b[0;34m\u001b[0m\u001b[0m\n",
      "\u001b[0;32m~/.local/lib/python3.9/site-packages/lightgbm/engine.py\u001b[0m in \u001b[0;36mtrain\u001b[0;34m(params, train_set, num_boost_round, valid_sets, valid_names, fobj, feval, init_model, feature_name, categorical_feature, early_stopping_rounds, evals_result, verbose_eval, learning_rates, keep_training_booster, callbacks)\u001b[0m\n\u001b[1;32m    290\u001b[0m                                     evaluation_result_list=None))\n\u001b[1;32m    291\u001b[0m \u001b[0;34m\u001b[0m\u001b[0m\n\u001b[0;32m--> 292\u001b[0;31m         \u001b[0mbooster\u001b[0m\u001b[0;34m.\u001b[0m\u001b[0mupdate\u001b[0m\u001b[0;34m(\u001b[0m\u001b[0mfobj\u001b[0m\u001b[0;34m=\u001b[0m\u001b[0mfobj\u001b[0m\u001b[0;34m)\u001b[0m\u001b[0;34m\u001b[0m\u001b[0;34m\u001b[0m\u001b[0m\n\u001b[0m\u001b[1;32m    293\u001b[0m \u001b[0;34m\u001b[0m\u001b[0m\n\u001b[1;32m    294\u001b[0m         \u001b[0mevaluation_result_list\u001b[0m \u001b[0;34m=\u001b[0m \u001b[0;34m[\u001b[0m\u001b[0;34m]\u001b[0m\u001b[0;34m\u001b[0m\u001b[0;34m\u001b[0m\u001b[0m\n",
      "\u001b[0;32m~/.local/lib/python3.9/site-packages/lightgbm/basic.py\u001b[0m in \u001b[0;36mupdate\u001b[0;34m(self, train_set, fobj)\u001b[0m\n\u001b[1;32m   3019\u001b[0m             \u001b[0;32mif\u001b[0m \u001b[0mself\u001b[0m\u001b[0;34m.\u001b[0m\u001b[0m__set_objective_to_none\u001b[0m\u001b[0;34m:\u001b[0m\u001b[0;34m\u001b[0m\u001b[0;34m\u001b[0m\u001b[0m\n\u001b[1;32m   3020\u001b[0m                 \u001b[0;32mraise\u001b[0m \u001b[0mLightGBMError\u001b[0m\u001b[0;34m(\u001b[0m\u001b[0;34m'Cannot update due to null objective function.'\u001b[0m\u001b[0;34m)\u001b[0m\u001b[0;34m\u001b[0m\u001b[0;34m\u001b[0m\u001b[0m\n\u001b[0;32m-> 3021\u001b[0;31m             _safe_call(_LIB.LGBM_BoosterUpdateOneIter(\n\u001b[0m\u001b[1;32m   3022\u001b[0m                 \u001b[0mself\u001b[0m\u001b[0;34m.\u001b[0m\u001b[0mhandle\u001b[0m\u001b[0;34m,\u001b[0m\u001b[0;34m\u001b[0m\u001b[0;34m\u001b[0m\u001b[0m\n\u001b[1;32m   3023\u001b[0m                 ctypes.byref(is_finished)))\n",
      "\u001b[0;31mKeyboardInterrupt\u001b[0m: "
     ]
    }
   ],
   "source": [
    "from sklearn.model_selection import KFold, StratifiedKFold, train_test_split, cross_validate, cross_val_score\n",
    "\n",
    "ltb_model=ltb.LGBMClassifier(use_missing = False,\n",
    "                         learning_rate = 0.01, \n",
    "                         max_depth =4, random_state=0 )\n",
    "# adaboost.fit(X_train, Y_train)\n",
    "ltb_model = cross_val(ltb_model, 10)\n",
    "\n",
    "# pred=adaboost.predict(X_test)\n",
    "# pred_train=adaboost.predict(X_train)\n",
    "\n",
    "# find optimal threshold\n",
    "print(\"Train ROC\")\n",
    "optimal_threshold_train= optimal_thresh(ltb_model, X_train, Y_train)\n",
    "pred_train = (ltb_model.predict_proba(X_train)[:,1] >= optimal_threshold_train).astype(int)\n",
    "print(\"Test ROC\")\n",
    "optimal_threshold = optimal_thresh(ltb_model, X_test, Y_test)\n",
    "pred = (ltb_model.predict_proba(X_test)[:,1] >= optimal_threshold).astype(int)\n",
    "\n",
    "# test and train results\n",
    "train_results(ltb_model, X_train, Y_train, pred_train)\n",
    "test_results(ltb_model, X_test, Y_test, pred)\n",
    "\n",
    "# ROC\n",
    "ROC_results(ltb_model, X_test, Y_test)\n",
    "\n",
    "# class wise accuracy\n",
    "class_wise_test_accuracy(ltb_model, Y_test, pred)\n"
   ]
  },
  {
   "cell_type": "code",
   "execution_count": null,
   "metadata": {},
   "outputs": [],
   "source": [
    "feat_importances = pd.Series(ltb_model.feature_importances_, index=X_train.columns[0:feature])\n",
    "feat_importances.nlargest(20).plot(kind='barh')"
   ]
  },
  {
   "cell_type": "code",
   "execution_count": null,
   "metadata": {},
   "outputs": [],
   "source": [
    "def draw_boundary(model, X, Y, thresh1, thresh2):\n",
    "    \n",
    "    prediction = (model.predict_proba(X)[:,1])\n",
    "    \n",
    "    X_axis= np.linspace(start = 0, stop = 1, num = len(prediction))\n",
    "    d = pd.DataFrame(prediction, columns=['pre'])\n",
    "    X_axis = pd.DataFrame(X_axis, columns=['x_axis_vals'])\n",
    "    df = pd.concat([d.reset_index(drop=True), Y.reset_index(drop=True)], axis=1)\n",
    "    df = pd.concat([df.reset_index(drop=True), X_axis.reset_index(drop=True)], axis=1)\n",
    "    \n",
    "    \n",
    "    # plot histogram\n",
    "    plt.figure(figsize=(15,7))\n",
    "    plt.hist(prediction[Y==0], bins=50, label='Positive', alpha=1, color='b', density=True)\n",
    "    plt.hist(prediction[Y==1], bins=50, label='Negative', alpha=0.5, color='r', density=True)\n",
    "    plt.xlabel('Probability of being Positive Class', fontsize=10)\n",
    "    plt.ylabel('Number of records in each bucket', fontsize=10)\n",
    "    plt.legend(fontsize=10)\n",
    "    plt.tick_params(axis='both', labelsize=10, pad=5)\n",
    "    plt.show() \n",
    "    \n",
    "    # plot scatter\n",
    "    plt.figure(figsize=(16, 16))\n",
    "    colormap = np.array(['k', 'y'])\n",
    "    cs = df.SHSeizComaPast12mos.to_list()\n",
    "    categories = np.array(cs).astype(int)\n",
    "    plt.scatter(df.x_axis_vals, df.pre, s=100, c=colormap[categories], alpha=0.5)\n",
    "    plt.axhline(y=thresh1, color = 'r')\n",
    "    plt.axhline(y=thresh2, color = 'g')\n",
    "    plt.xlabel('sample', fontsize=10)\n",
    "    plt.ylabel('probability', fontsize=10)\n",
    "    plt.show()"
   ]
  },
  {
   "cell_type": "code",
   "execution_count": null,
   "metadata": {},
   "outputs": [],
   "source": [
    "patients_count = X_train.shape[0]\n",
    "\n",
    "def get_optimal_threshold(model, X, full_cost, single_cost):\n",
    "    threshold = 0.0\n",
    "    no_patients = int(full_cost / single_cost)\n",
    "    if no_patients > patients_count:\n",
    "        threshold = 0.85\n",
    "    else:\n",
    "        prediction = (model.predict_proba(X)[:,1])\n",
    "        prediction = -np.sort(-prediction) # sort decreasong order\n",
    "        threshold = np.round(prediction[no_patients-1],2)\n",
    "\n",
    "    return threshold\n",
    "    \n",
    "thresh1 = get_optimal_threshold(ltb_model, X_train, 8000, 200)\n",
    "thresh2 = 0.07\n",
    "draw_boundary(ltb_model, X_train, Y_train, thresh1, thresh2)"
   ]
  },
  {
   "cell_type": "code",
   "execution_count": null,
   "metadata": {},
   "outputs": [],
   "source": [
    "def get_decision_boundaries(prob, thresh1, thresh2):\n",
    "    label = ''\n",
    "    if(prob < thresh1):\n",
    "        label = 'high risk'\n",
    "    elif(prob < thresh2):\n",
    "        label = 'risk'\n",
    "    else:\n",
    "        label = 'low risk'\n",
    "    return label\n"
   ]
  },
  {
   "cell_type": "code",
   "execution_count": null,
   "metadata": {},
   "outputs": [],
   "source": [
    "\n",
    "row_to_show = 93\n",
    "data_for_prediction = X_test.iloc[row_to_show]  # use 1 row of data here. Could use multiple rows if desired\n",
    "data_for_prediction_array = data_for_prediction.values.reshape(1, -1)\n",
    "\n",
    "pred = (ltb_model.predict_proba(data_for_prediction_array)[:,1] >= optimal_threshold).astype(int)\n",
    "print('predictoin', pred)\n",
    "print('actial', Y_test.iloc[row_to_show])\n",
    "ltb_model.predict_proba(data_for_prediction_array)\n",
    "\n",
    "# Create object that can calculate shap values\n",
    "explainer = shap.TreeExplainer(ltb_model)\n",
    "# Calculate Shap values\n",
    "shap_values = explainer.shap_values(data_for_prediction_array)\n",
    "shap.initjs()\n",
    "# The shap_values object above is a list with two arrays.\n",
    "# The first array is the SHAP values for a negative outcome (have disease), \n",
    "# second array is the list of SHAP values for the positive outcome (don't have the disease).\n",
    "# SHAP values for positive outcomes (pulling out shap_values[1]).\n",
    "shap.force_plot(explainer.expected_value[0], shap_values[0], data_for_prediction, link='logit')"
   ]
  },
  {
   "cell_type": "code",
   "execution_count": null,
   "metadata": {},
   "outputs": [],
   "source": [
    "# compute SHAP values\n",
    "explainer = shap.Explainer(ltb_model, X_train)\n",
    "shap_values = explainer(X_train)\n",
    "\n",
    "import matplotlib.pyplot as pl\n",
    "shap.plots.beeswarm(shap_values, show=False)\n",
    "shap.plots.beeswarm(shap_values[-1:], show=False, color=\"black\")\n",
    "pl.show()"
   ]
  },
  {
   "cell_type": "code",
   "execution_count": null,
   "metadata": {},
   "outputs": [],
   "source": [
    "pred = ltb_model.predict_proba(X_train)[:,1] \n",
    "Y_train = pd.DataFrame(Y_train)\n",
    "X_beeswarm = X_train.copy()\n",
    "X_beeswarm['pred'] = pred\n",
    "# X_beeswarm['Y'] = Y_train\n",
    "X_beeswarm['Y'] = Y_train[y_label].to_list()"
   ]
  },
  {
   "cell_type": "code",
   "execution_count": null,
   "metadata": {},
   "outputs": [],
   "source": [
    "idx = np.where((X_beeswarm['pred']>thresh2) & (X_beeswarm['Y']== 0.0) )\n",
    "print(idx)\n",
    "\n",
    "idx2 = np.where((X_beeswarm['pred']<0.85) & (X_beeswarm['Y']== 0.0) )\n",
    "print(idx2)\n",
    "\n",
    "# negative case in positive side\n",
    "idx3 = np.where((X_beeswarm['pred']<0.85) & (X_beeswarm['Y']== 1.0) )\n",
    "print(idx3)\n",
    "\n",
    "X_beeswarm.drop(['pred'], axis = 1)\n",
    "X_beeswarm.drop(['Y'], axis = 1)\n",
    "\n",
    "explainer = shap.Explainer(ltb_model, X_beeswarm)\n",
    "shap_values = explainer(X_beeswarm)\n",
    "\n"
   ]
  },
  {
   "cell_type": "code",
   "execution_count": null,
   "metadata": {},
   "outputs": [],
   "source": [
    "\n",
    "shap.plots.beeswarm(shap_values, show=False, plot_size=[15,15], alpha = 1)\n",
    "shap.plots.beeswarm(shap_values[402:403:], show=False, color=\"black\", plot_size=[15,15])\n",
    "shap.plots.beeswarm(shap_values[760:761:], show=False, color=\"black\", plot_size=[15,15])\n",
    "shap.plots.beeswarm(shap_values[840:841:], show=False, color=\"black\", plot_size=[15,15])\n",
    "shap.plots.beeswarm(shap_values[1243:1244:], show=False, color=\"black\", plot_size=[15,15])\n",
    "shap.plots.beeswarm(shap_values[1395:1396:], show=False, color=\"black\", plot_size=[15,15])\n",
    "shap.plots.beeswarm(shap_values[1558:1559:], show=False, color=\"black\", plot_size=[15,15])\n",
    "\n",
    "\n",
    "shap.plots.beeswarm(shap_values[179:180:], show=False, color=\"yellow\", plot_size=[15,15])\n",
    "shap.plots.beeswarm(shap_values[192:193:], show=False, color=\"yellow\", plot_size=[15,15])\n",
    "shap.plots.beeswarm(shap_values[334:335:], show=False, color=\"yellow\", plot_size=[15,15])\n",
    "shap.plots.beeswarm(shap_values[348:349:], show=False, color=\"yellow\", plot_size=[15,15])\n",
    "shap.plots.beeswarm(shap_values[413:414:], show=False, color=\"yellow\", plot_size=[15,15])\n",
    "shap.plots.beeswarm(shap_values[425:426:], show=False, color=\"yellow\", plot_size=[15,15])\n",
    "\n",
    "shap.plots.beeswarm(shap_values[1427:1428:], show=False, color=\"green\", plot_size=[15,15])\n",
    "shap.plots.beeswarm(shap_values[2212:2213:], show=False, color=\"green\", plot_size=[15,15])\n",
    "\n",
    "\n",
    "plt.show()\n"
   ]
  },
  {
   "cell_type": "code",
   "execution_count": null,
   "metadata": {},
   "outputs": [],
   "source": []
  },
  {
   "cell_type": "markdown",
   "metadata": {},
   "source": [
    "### Adaboost model"
   ]
  },
  {
   "cell_type": "code",
   "execution_count": null,
   "metadata": {},
   "outputs": [],
   "source": [
    "from sklearn.model_selection import KFold, StratifiedKFold, train_test_split, cross_validate, cross_val_score\n",
    "\n",
    "adaboost = AdaBoostClassifier(random_state=0,\n",
    "                              learning_rate=0.008,\n",
    "                              n_estimators=1000,\n",
    "                              algorithm = \"SAMME.R\") #algorithm{‘SAMME’, ‘SAMME.R’}, default=’SAMME.R’\n",
    "\n",
    "# adaboost.fit(X_train, Y_train)\n",
    "adaboost = cross_val(adaboost, 10)\n",
    "\n",
    "# pred=adaboost.predict(X_test)\n",
    "# pred_train=adaboost.predict(X_train)\n",
    "\n",
    "# find optimal threshold\n",
    "print(\"Train ROC\")\n",
    "optimal_threshold_train= optimal_thresh(adaboost, X_train, Y_train)\n",
    "pred_train = (adaboost.predict_proba(X_train)[:,1] >= optimal_threshold_train).astype(int)\n",
    "print(\"Test ROC\")\n",
    "optimal_threshold = optimal_thresh(adaboost, X_test, Y_test)\n",
    "pred = (adaboost.predict_proba(X_test)[:,1] >= optimal_threshold).astype(int)\n",
    "\n",
    "# test and train results\n",
    "train_results(adaboost, X_train, Y_train, pred_train)\n",
    "test_results(adaboost, X_test, Y_test, pred)\n",
    "\n",
    "# ROC\n",
    "ROC_results(adaboost, X_test, Y_test)\n",
    "\n",
    "# class wise accuracy\n",
    "class_wise_test_accuracy(adaboost, Y_test, pred)\n"
   ]
  },
  {
   "cell_type": "code",
   "execution_count": null,
   "metadata": {},
   "outputs": [],
   "source": [
    "feat_importances = pd.Series(adaboost.feature_importances_, index=X_train.columns[0:feature])\n",
    "feat_importances.nlargest(20).plot(kind='barh')"
   ]
  },
  {
   "cell_type": "markdown",
   "metadata": {},
   "source": [
    "# Model - XGB"
   ]
  },
  {
   "cell_type": "code",
   "execution_count": null,
   "metadata": {},
   "outputs": [],
   "source": [
    "# xgboost - train with missing values\n",
    "\n",
    "\n",
    "xgb_impute=XGBClassifier(\n",
    "        use_label_encoder=False,\n",
    "        eta = 0.1,#eta between(0.01-0.2)\n",
    "        max_depth = 6, #values between(3-10)\n",
    "#         max_delta_step = 10,\n",
    "#         subsample = 0.5,#values between(0.5-1)\n",
    "#         colsample_bytree = 1,#values between(0.5-1)\n",
    "#         tree_method = \"auto\",\n",
    "#         process_type = \"default\",\n",
    "#         num_parallel_tree=7,\n",
    "        objective='multi:softmax',\n",
    "#         min_child_weight = 3,\n",
    "        booster='gbtree',\n",
    "        eval_metric = \"mlogloss\",\n",
    "        num_class = n_classes\n",
    "        )\n",
    "        \n",
    "# xgb_impute.fit(X_train,Y_train)\n",
    "xgb_impute = cross_val(xgb_impute,10)\n",
    "\n",
    "# xgb_pred=xgb_impute.predict(X_test)\n",
    "# xgb_pred_train=xgb_impute.predict(X_train)\n",
    "\n",
    "\n",
    "# find optimal threshold\n",
    "print(\"Train ROC\")\n",
    "optimal_threshold_train= optimal_thresh(xgb_impute, X_train, Y_train)\n",
    "print(\"Test ROC\")\n",
    "optimal_threshold = optimal_thresh(xgb_impute, X_test, Y_test)\n",
    "\n",
    "xgb_pred = (xgb_impute.predict_proba(X_test)[:,1] >= optimal_threshold).astype(int)\n",
    "xgb_pred_train = (xgb_impute.predict_proba(X_train)[:,1] >= optimal_threshold_train).astype(int)\n",
    "\n",
    "\n",
    "train_results(xgb_impute, X_train, Y_train, xgb_pred_train)\n",
    "test_results(xgb_impute, X_test, Y_test, xgb_pred)\n",
    "\n",
    "# ROC\n",
    "ROC_results(xgb_impute, X_test, Y_test)\n",
    "\n",
    "# class wise accuracy\n",
    "class_wise_test_accuracy(xgb_impute, Y_test, xgb_pred)\n",
    "\n"
   ]
  },
  {
   "cell_type": "code",
   "execution_count": null,
   "metadata": {
    "scrolled": true
   },
   "outputs": [],
   "source": [
    "# feature importance graph of XGB\n",
    "feat_importances = pd.Series(xgb_impute.feature_importances_, index=X_train.columns[0:feature])\n",
    "feat_importances.nlargest(20).plot(kind='barh')"
   ]
  },
  {
   "cell_type": "markdown",
   "metadata": {},
   "source": [
    "## Model 2 - Random forest"
   ]
  },
  {
   "cell_type": "code",
   "execution_count": null,
   "metadata": {},
   "outputs": [],
   "source": [
    "#  random forest classifier\n",
    "\n",
    "rf=RandomForestClassifier(max_depth=5,\n",
    "                             n_estimators = feature,\n",
    "                             criterion = 'entropy', # {“gini”, “entropy”}, default=”gini”\n",
    "                             class_weight = 'balanced_subsample', # {“balanced”, “balanced_subsample”}, dict or list of dicts, default=None\n",
    "                             ccp_alpha=0.01,\n",
    "                             random_state=0)\n",
    "\n",
    "# rf.fit(X_train,Y_train)\n",
    "rf = cross_val(rf,10)\n",
    "\n",
    "# find optimal threshold\n",
    "print(\"Train ROC\")\n",
    "optimal_threshold_train= optimal_thresh(rf, X_train, Y_train)\n",
    "print(\"Test ROC\")\n",
    "optimal_threshold = optimal_thresh(rf, X_test, Y_test)\n",
    "\n",
    "# pred=rf.predict(X_test)\n",
    "pred = (rf.predict_proba(X_test)[:,1] >= optimal_threshold).astype(int)\n",
    "\n",
    "# pred_train=rf.predict(X_train)\n",
    "pred_train = (rf.predict_proba(X_train)[:,1] >= optimal_threshold_train).astype(int)\n",
    "\n",
    "train_results(rf, X_train, Y_train, pred_train)\n",
    "test_results(rf, X_test, Y_test, pred)\n",
    "\n",
    "# ROC\n",
    "ROC_results(rf, X_test, Y_test)\n",
    "\n",
    "# class wise accuracy\n",
    "class_wise_test_accuracy(rf, Y_test, pred)"
   ]
  },
  {
   "cell_type": "code",
   "execution_count": null,
   "metadata": {
    "scrolled": true
   },
   "outputs": [],
   "source": [
    "feat_importances = pd.Series(rf.feature_importances_, index=X_train.columns[0:feature])\n",
    "feat_importances.nlargest(20).plot(kind='barh')"
   ]
  },
  {
   "cell_type": "code",
   "execution_count": null,
   "metadata": {},
   "outputs": [],
   "source": [
    "shap_values = shap.TreeExplainer(rf).shap_values(X_train)\n",
    "shap.summary_plot(shap_values, X_train)"
   ]
  },
  {
   "cell_type": "markdown",
   "metadata": {},
   "source": [
    "## Model 3 LogisticRegression"
   ]
  },
  {
   "cell_type": "code",
   "execution_count": null,
   "metadata": {
    "scrolled": false
   },
   "outputs": [],
   "source": [
    "#penalty{‘l1’, ‘l2’, ‘elasticnet’, ‘none’}, default=’l2’\n",
    "logreg = LogisticRegression(\n",
    "    penalty='l2',\n",
    "    tol = 5e-4,\n",
    "    C=1,\n",
    "    l1_ratio = 10,\n",
    "    class_weight='balanced',  # balanced\n",
    "    random_state=0,\n",
    "    solver = 'saga' # saga, sag\n",
    ")\n",
    "\n",
    "# logreg.fit(X_train, Y_train)\n",
    "logreg = cross_val(logreg,10)\n",
    "\n",
    "# pred=logreg.predict(X_test)\n",
    "# pred_train=logreg.predict(X_train)\n",
    "\n",
    "# find optimal threshold\n",
    "print(\"Train ROC\")\n",
    "optimal_threshold_train= optimal_thresh(logreg, X_train, Y_train)\n",
    "print(\"Test ROC\")\n",
    "optimal_threshold = optimal_thresh(logreg, X_test, Y_test)\n",
    "\n",
    "pred = (logreg.predict_proba(X_test)[:,1] >= optimal_threshold).astype(int)\n",
    "pred_train = (logreg.predict_proba(X_train)[:,1] >= optimal_threshold_train).astype(int)\n",
    "\n",
    "train_results(logreg, X_train, Y_train, pred_train)\n",
    "test_results(logreg, X_test, Y_test, pred)\n",
    "\n",
    "# ROC\n",
    "ROC_results(logreg, X_test, Y_test)\n",
    "\n",
    "# class wise accuracy\n",
    "class_wise_test_accuracy(logreg, Y_test, pred)"
   ]
  },
  {
   "cell_type": "code",
   "execution_count": null,
   "metadata": {
    "scrolled": true
   },
   "outputs": [],
   "source": [
    "\n",
    "feat_importances = pd.Series(logreg.coef_[0], index=X_train.columns[0:feature])\n",
    "feat_importances.nlargest(20).plot(kind='barh')"
   ]
  },
  {
   "cell_type": "code",
   "execution_count": null,
   "metadata": {
    "scrolled": true
   },
   "outputs": [],
   "source": []
  },
  {
   "cell_type": "markdown",
   "metadata": {},
   "source": [
    "## Model 6 - Linear Discriminant Analysis"
   ]
  },
  {
   "cell_type": "code",
   "execution_count": null,
   "metadata": {},
   "outputs": [],
   "source": [
    "\n",
    "lda = LinearDiscriminantAnalysis(\n",
    "    solver = 'eigen', # solver{‘svd’, ‘lsqr’, ‘eigen’}, default=’svd’\n",
    "    shrinkage= 'auto', #shrinkage‘auto’ or float, default=None\n",
    "    n_components = 1,\n",
    "    tol = 1e-3                       \n",
    ")\n",
    "# lda.fit(X_train, Y_train)\n",
    "lda = cross_val(lda)\n",
    "\n",
    "# pred=lda.predict(X_test)\n",
    "# pred_train=lda.predict(X_train)\n",
    "\n",
    "# find optimal threshold\n",
    "print(\"Train ROC\")\n",
    "optimal_threshold_train= optimal_thresh(lda, X_train, Y_train)\n",
    "print(\"Test ROC\")\n",
    "optimal_threshold = optimal_thresh(lda, X_test, Y_test)\n",
    "\n",
    "pred = (lda.predict_proba(X_test)[:,1] >= optimal_threshold).astype(int)\n",
    "pred_train = (lda.predict_proba(X_train)[:,1] >= optimal_threshold_train).astype(int)\n",
    "\n",
    "train_results(lda, X_train, Y_train, pred_train)\n",
    "test_results(lda, X_test, Y_test, pred)\n",
    "\n",
    "# ROC\n",
    "ROC_results(lda, X_test, Y_test)\n",
    "\n",
    "# class wise accuracy\n",
    "class_wise_test_accuracy(lda, Y_test, pred)\n"
   ]
  },
  {
   "cell_type": "code",
   "execution_count": null,
   "metadata": {
    "scrolled": true
   },
   "outputs": [],
   "source": [
    "\n",
    "\n",
    "feat_importances = pd.Series(lda.coef_[0], index=X_train.columns[0:feature])\n",
    "feat_importances.nlargest(20).plot(kind='barh')"
   ]
  },
  {
   "cell_type": "markdown",
   "metadata": {},
   "source": [
    "## Model 7- Gaussian Naive Bayes"
   ]
  },
  {
   "cell_type": "code",
   "execution_count": null,
   "metadata": {},
   "outputs": [],
   "source": [
    "gnb = GaussianNB(priors=None, var_smoothing=1)\n",
    "gnb = cross_val(gnb)\n",
    "# gnb.fit(X_train, Y_train)\n",
    "      \n",
    "# pred=gnb.predict(X_test)\n",
    "# pred_train=gnb.predict(X_train)\n",
    "\n",
    "# find optimal threshold\n",
    "print(\"Train ROC\")\n",
    "optimal_threshold_train= optimal_thresh(gnb, X_train, Y_train)\n",
    "print(\"Test ROC\")\n",
    "optimal_threshold = optimal_thresh(gnb, X_test, Y_test)\n",
    "\n",
    "pred = (gnb.predict_proba(X_test)[:,1] >= optimal_threshold).astype(int)\n",
    "pred_train = (gnb.predict_proba(X_train)[:,1] >= optimal_threshold_train).astype(int)\n",
    "\n",
    "\n",
    "train_results(gnb, X_train, Y_train, pred_train)\n",
    "test_results(gnb, X_test, Y_test, pred)\n",
    "\n",
    "# ROC\n",
    "ROC_results(gnb, X_test, Y_test)\n",
    "\n",
    "# class wise accuracy\n",
    "class_wise_test_accuracy(gnb, Y_test, pred)\n"
   ]
  },
  {
   "cell_type": "code",
   "execution_count": null,
   "metadata": {
    "scrolled": true
   },
   "outputs": [],
   "source": [
    "from sklearn.inspection import permutation_importance\n",
    "imps = permutation_importance(gnb, X_test, Y_test)\n",
    "\n",
    "feat_importances = pd.Series(imps.importances_mean, index=X_train.columns[0:feature])\n",
    "feat_importances.nlargest(20).plot(kind='barh')"
   ]
  },
  {
   "cell_type": "code",
   "execution_count": null,
   "metadata": {},
   "outputs": [],
   "source": []
  },
  {
   "cell_type": "code",
   "execution_count": null,
   "metadata": {},
   "outputs": [],
   "source": []
  }
 ],
 "metadata": {
  "kernelspec": {
   "display_name": "Python 3 (ipykernel)",
   "language": "python",
   "name": "python3"
  },
  "language_info": {
   "codemirror_mode": {
    "name": "ipython",
    "version": 3
   },
   "file_extension": ".py",
   "mimetype": "text/x-python",
   "name": "python",
   "nbconvert_exporter": "python",
   "pygments_lexer": "ipython3",
   "version": "3.9.2"
  }
 },
 "nbformat": 4,
 "nbformat_minor": 4
}
