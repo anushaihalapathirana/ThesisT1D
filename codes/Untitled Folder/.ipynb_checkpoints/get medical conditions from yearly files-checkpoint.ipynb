{
 "cells": [
  {
   "cell_type": "code",
   "execution_count": 1,
   "metadata": {},
   "outputs": [],
   "source": [
    "import pandas as pd  \n",
    "import matplotlib.pyplot as plt\n",
    "import seaborn as sns\n",
    "import numpy as np\n",
    "from functools import reduce"
   ]
  },
  {
   "cell_type": "code",
   "execution_count": null,
   "metadata": {},
   "outputs": [],
   "source": []
  },
  {
   "cell_type": "code",
   "execution_count": 60,
   "metadata": {},
   "outputs": [],
   "source": [
    "#read 2015-2016 data file\n",
    "df15 = pd.read_csv('../../data/2015-2016/PreprocessedMedCond15-16_new.csv')\n"
   ]
  },
  {
   "cell_type": "code",
   "execution_count": 61,
   "metadata": {},
   "outputs": [],
   "source": [
    "#read 2016-2017 data file\n",
    "df16 = pd.read_csv('../../data/2016-2017/PreprocessedMedCond16-17_new.csv')\n"
   ]
  },
  {
   "cell_type": "code",
   "execution_count": 62,
   "metadata": {},
   "outputs": [],
   "source": [
    "#read 2017-2018 data file\n",
    "df17 = pd.read_csv('../../data/2017-2018/PreprocessedMedCond17-18_new.csv')\n"
   ]
  },
  {
   "cell_type": "code",
   "execution_count": 63,
   "metadata": {},
   "outputs": [],
   "source": [
    "# combine df15, df16 and df17 together\n",
    "\n",
    "def combine_dfs(df1, df2, df3):\n",
    "    new = df1.append(df2)\n",
    "    final = new.append(df3)\n",
    "    return final\n",
    "\n",
    "combined_df = combine_dfs(df15, df16, df17)\n",
    "combined_df.drop(['MedCondDiagDtUnk', 'MedCondTrt', 'MCLLTReal', 'MCLLT', 'MCHLT', 'MCHLGT', 'MCSOC', 'MCLLTType', 'MCGroup', 'medConDiagAge'], inplace=True, axis=1)\n",
    "combined_df.to_csv(\"../../data/combinedMedicalData.csv\")"
   ]
  },
  {
   "cell_type": "code",
   "execution_count": 65,
   "metadata": {},
   "outputs": [],
   "source": [
    "# special case - inital dataset\n",
    "\n",
    "df10 = pd.read_csv(\"../../data/init_enrollment-2010-2012/PreprocessedMedical Conditions_new.csv\")\n"
   ]
  },
  {
   "cell_type": "code",
   "execution_count": 66,
   "metadata": {},
   "outputs": [],
   "source": [
    "# get list of id's of patients who have medical condition\n",
    "label = \"Anxiety\"\n",
    "def get_ids_of_condition(df, label):\n",
    "    df_a = df[df['MCPrefTerm'] == label]\n",
    "    df_a=df_a.drop_duplicates(subset=\"PtID\",keep=\"first\") \n",
    "    return df_a.PtID.tolist()\n",
    "    \n",
    "\n",
    "condition_list = get_ids_of_condition(combined_df, label)\n"
   ]
  },
  {
   "cell_type": "code",
   "execution_count": 67,
   "metadata": {},
   "outputs": [],
   "source": [
    "\n",
    "def get_ids_of_condition_initial(df, label):\n",
    "    df_a = df[df[label] == True]\n",
    "    df_a=df_a.drop_duplicates(subset=\"PtID\",keep=\"first\") \n",
    "    return df_a.PtID.tolist()\n",
    "    \n",
    "init_condition_list = get_ids_of_condition_initial(df10, label)"
   ]
  },
  {
   "cell_type": "code",
   "execution_count": 68,
   "metadata": {},
   "outputs": [
    {
     "name": "stdout",
     "output_type": "stream",
     "text": [
      "1914\n"
     ]
    }
   ],
   "source": [
    "\n",
    "# create full list\n",
    "full_id_list_of_medicalcond = init_condition_list + condition_list\n",
    "\n",
    "\n",
    "# remove duplicate ids \n",
    "final_list = list(dict.fromkeys(full_id_list_of_medicalcond))\n",
    "\n",
    "print(len(final_list))\n"
   ]
  },
  {
   "cell_type": "markdown",
   "metadata": {},
   "source": [
    "# Preprocessing "
   ]
  },
  {
   "cell_type": "code",
   "execution_count": null,
   "metadata": {},
   "outputs": [],
   "source": []
  },
  {
   "cell_type": "code",
   "execution_count": 57,
   "metadata": {},
   "outputs": [
    {
     "name": "stdout",
     "output_type": "stream",
     "text": [
      "Size of dataframe =  (96782, 12)\n"
     ]
    },
    {
     "data": {
      "text/html": [
       "<div>\n",
       "<style scoped>\n",
       "    .dataframe tbody tr th:only-of-type {\n",
       "        vertical-align: middle;\n",
       "    }\n",
       "\n",
       "    .dataframe tbody tr th {\n",
       "        vertical-align: top;\n",
       "    }\n",
       "\n",
       "    .dataframe thead th {\n",
       "        text-align: right;\n",
       "    }\n",
       "</style>\n",
       "<table border=\"1\" class=\"dataframe\">\n",
       "  <thead>\n",
       "    <tr style=\"text-align: right;\">\n",
       "      <th></th>\n",
       "      <th>PtID</th>\n",
       "      <th>MedCondDiagDtUnk</th>\n",
       "      <th>MedCondTrt</th>\n",
       "      <th>MCLLTReal</th>\n",
       "      <th>MCLLT</th>\n",
       "      <th>MCHLT</th>\n",
       "      <th>MCHLGT</th>\n",
       "      <th>MCPrefTerm</th>\n",
       "      <th>MCSOC</th>\n",
       "      <th>MCLLTType</th>\n",
       "      <th>MCGroup</th>\n",
       "      <th>medCondDiagAge</th>\n",
       "    </tr>\n",
       "  </thead>\n",
       "  <tbody>\n",
       "    <tr>\n",
       "      <th>0</th>\n",
       "      <td>1</td>\n",
       "      <td>NaN</td>\n",
       "      <td>NaN</td>\n",
       "      <td>Hypertension</td>\n",
       "      <td>Hypertension</td>\n",
       "      <td>Vascular hypertensive disorders NEC</td>\n",
       "      <td>Vascular hypertensive disorders</td>\n",
       "      <td>Hypertension</td>\n",
       "      <td>Vascular disorders</td>\n",
       "      <td>Cardiovascular - Hypertension</td>\n",
       "      <td>Cardiovascular</td>\n",
       "      <td>NaN</td>\n",
       "    </tr>\n",
       "  </tbody>\n",
       "</table>\n",
       "</div>"
      ],
      "text/plain": [
       "   PtID  MedCondDiagDtUnk MedCondTrt     MCLLTReal         MCLLT  \\\n",
       "0     1               NaN        NaN  Hypertension  Hypertension   \n",
       "\n",
       "                                 MCHLT                           MCHLGT  \\\n",
       "0  Vascular hypertensive disorders NEC  Vascular hypertensive disorders   \n",
       "\n",
       "     MCPrefTerm               MCSOC                      MCLLTType  \\\n",
       "0  Hypertension  Vascular disorders  Cardiovascular - Hypertension   \n",
       "\n",
       "          MCGroup  medCondDiagAge  \n",
       "0  Cardiovascular             NaN  "
      ]
     },
     "execution_count": 57,
     "metadata": {},
     "output_type": "execute_result"
    }
   ],
   "source": [
    "\n",
    "dflongMed = pd.read_csv('../../data/longitudinal/PreprocessedMedCondLong_new.csv')\n"
   ]
  },
  {
   "cell_type": "code",
   "execution_count": 58,
   "metadata": {},
   "outputs": [
    {
     "name": "stdout",
     "output_type": "stream",
     "text": [
      "2038\n"
     ]
    }
   ],
   "source": [
    "# dflongMed.drop(['MedCondDiagDtUnk', 'MedCondTrt', 'MCLLTReal', 'MCLLT', 'MCHLT', 'MCHLGT', 'MCSOC', 'MCLLTType', 'MCGroup', 'medConDiagAge'], inplace=True, axis=1)\n",
    "\n",
    "condition_long_list = get_ids_of_condition(dflongMed, label)\n",
    "print(len(condition_long_list))"
   ]
  },
  {
   "cell_type": "code",
   "execution_count": null,
   "metadata": {},
   "outputs": [],
   "source": []
  }
 ],
 "metadata": {
  "kernelspec": {
   "display_name": "Python 3 (ipykernel)",
   "language": "python",
   "name": "python3"
  },
  "language_info": {
   "codemirror_mode": {
    "name": "ipython",
    "version": 3
   },
   "file_extension": ".py",
   "mimetype": "text/x-python",
   "name": "python",
   "nbconvert_exporter": "python",
   "pygments_lexer": "ipython3",
   "version": "3.9.2"
  }
 },
 "nbformat": 4,
 "nbformat_minor": 4
}
