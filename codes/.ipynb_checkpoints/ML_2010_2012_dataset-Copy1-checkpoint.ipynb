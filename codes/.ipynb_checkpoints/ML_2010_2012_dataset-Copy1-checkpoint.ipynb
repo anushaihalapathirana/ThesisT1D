{
 "cells": [
  {
   "cell_type": "markdown",
   "metadata": {},
   "source": [
    "# Models"
   ]
  },
  {
   "cell_type": "code",
   "execution_count": 483,
   "metadata": {},
   "outputs": [],
   "source": [
    "import pandas as pd  \n",
    "import matplotlib.pyplot as plt\n",
    "import seaborn as sns\n",
    "import numpy as np\n",
    "from functools import reduce\n",
    "import sys\n",
    "import numpy\n",
    "numpy.set_printoptions(threshold=sys.maxsize)"
   ]
  },
  {
   "cell_type": "code",
   "execution_count": 484,
   "metadata": {},
   "outputs": [],
   "source": [
    "# load pre porcessed data\n",
    "df = pd.read_csv('../prepross_data/data.csv')\n"
   ]
  },
  {
   "cell_type": "markdown",
   "metadata": {},
   "source": [
    "#### Filterout the paper described patient set"
   ]
  },
  {
   "cell_type": "code",
   "execution_count": 485,
   "metadata": {},
   "outputs": [],
   "source": [
    "# filter dataset as describe in paper\n",
    "def get_filter_by_age_diabDur(df, age, diabDur):\n",
    "    filter_patients = df[(df[\"AgeAtConsent\"] >= age) & (df[\"diagDuration\"] > diabDur)] \n",
    "#     filter_patients=filter_patients.drop_duplicates(subset=\"PtID\",keep=\"first\") \n",
    "    print(f'Number of patients whos age is {age}+ and diabetics duration greater than {diabDur}  is -> {filter_patients.PtID.size}')\n",
    "    return filter_patients\n",
    "\n",
    "df = get_filter_by_age_diabDur(df, 26, 2)"
   ]
  },
  {
   "cell_type": "code",
   "execution_count": 486,
   "metadata": {},
   "outputs": [],
   "source": [
    "\n",
    "# def get_missing_row_val_percentage(df):\n",
    "#     df['new'] = df.isnull().sum(axis=1)\n",
    "#     return df\n",
    "\n",
    "\n",
    "# df = get_missing_row_val_percentage(df)\n",
    "\n",
    "# filter_patients = df[(df[\"new\"] >= 85)] \n",
    "# filter_patients.PtID.size"
   ]
  },
  {
   "cell_type": "markdown",
   "metadata": {},
   "source": [
    "### for SH events prediction pre processing\n"
   ]
  },
  {
   "cell_type": "code",
   "execution_count": 487,
   "metadata": {},
   "outputs": [],
   "source": [
    "y_label = 'SHSeizComaPast12mos' \n",
    "# possible labels Pt_SevHypoEver, SHSeizComaPast12mos, DKAPast12mos, Depression, DiabNeuro, DKADiag"
   ]
  },
  {
   "cell_type": "code",
   "execution_count": 488,
   "metadata": {},
   "outputs": [
    {
     "data": {
      "text/plain": [
       "array([ 1.,  2.,  0., nan])"
      ]
     },
     "execution_count": 488,
     "metadata": {},
     "output_type": "execute_result"
    }
   ],
   "source": [
    "df[y_label].unique()"
   ]
  },
  {
   "cell_type": "code",
   "execution_count": 489,
   "metadata": {},
   "outputs": [],
   "source": [
    "# get possible values in column including nan\n",
    "def get_possible_vals_with_nan(df, colName):\n",
    "    list_val =df[colName].unique().tolist()\n",
    "    return list_val\n",
    "\n",
    "\n",
    "# {'1.Yes': 0, '2.No': 1, \"3.Don't know\": 2}\n",
    "\n",
    "get_possible_vals_with_nan(df, y_label)\n",
    "\n",
    "if(y_label == 'SHSeizComaPast12mos' ):\n",
    "    df.drop(['NumSHSeizComaPast12mos','Pt_v3NumSHSeizComa','NumSHSeizComa', 'Pt_SevHypoEver'], inplace=True, axis=1) # add SHSeizComaPast12mos\n",
    "    df[y_label] = df[y_label].replace({2.0: 1.0})\n",
    "\n",
    "elif (y_label == 'DKADiag'):  # DKADiag {'1.Yes': 0, '2.Probably Yes': 1, '3.No': 2, '4.Unknown': 3}\n",
    "    df.drop(['Pt_NumHospDKA','Pt_HospDKASinceDiag','NumDKAOccur', 'DKAPast12mos'], inplace=True, axis=1)\n",
    "    df[y_label] = df[y_label].replace({1.0: 0, 2: 1, 3: 1 })\n",
    "    \n",
    "elif (y_label == 'Pt_SevHypoEver'):\n",
    "    df.drop(['NumSHSeizComaPast12mos','Pt_v3NumSHSeizComa','NumSHSeizComa', 'SHSeizComaPast12mos'], inplace=True, axis=1) # add SHSeizComaPast12mos\n",
    "    df[y_label] = df[y_label].replace({2.0: 1.0})\n",
    "\n",
    "elif (y_label == 'DKAPast12mos'):\n",
    "    df.drop(['Pt_NumHospDKA','Pt_HospDKASinceDiag','NumDKAOccur', 'DKADiag'], inplace=True, axis=1)\n",
    "    df[y_label] = df[y_label].replace({2.0: 1.0})\n",
    "\n",
    "# f_df = df[df['Pt_SevHypoEver'] == 0.0]\n",
    "# f_df.PtID.size\n",
    "\n",
    "# f2_df = df[df['Pt_SevHypoEver'] == 1.0]\n",
    "# f2_df.PtID.size"
   ]
  },
  {
   "cell_type": "code",
   "execution_count": 490,
   "metadata": {},
   "outputs": [
    {
     "data": {
      "text/plain": [
       "4989"
      ]
     },
     "execution_count": 490,
     "metadata": {},
     "output_type": "execute_result"
    }
   ],
   "source": [
    "# df.columns.to_numpy()\n",
    "\n",
    "df[y_label].isna().sum()"
   ]
  },
  {
   "cell_type": "markdown",
   "metadata": {},
   "source": [
    "# Divide Dataset"
   ]
  },
  {
   "cell_type": "code",
   "execution_count": 491,
   "metadata": {},
   "outputs": [],
   "source": [
    "# filter only the features used in paper diagDuration,\n",
    "\n",
    "selected_features = False\n",
    "\n",
    "if(selected_features):\n",
    "    df = df[['AgeAtConsent','diagDuration','HbA1c', 'Gender', 'Pt_RaceEth','Pt_AnnualInc', 'Pt_InsPriv', 'Pt_EduLevel',\n",
    "         'InsulinDeliv','Pt_InsCarbRat', 'relative_T1D', 'Pt_Smoke', y_label,\n",
    "         'MajorLifeStressEvent', 'Weight', 'Height']] # Pt_SevHypoEver ,SHSeizComaPast12mos, DKAPast12mos\n"
   ]
  },
  {
   "cell_type": "code",
   "execution_count": 492,
   "metadata": {},
   "outputs": [
    {
     "data": {
      "text/html": [
       "<div>\n",
       "<style scoped>\n",
       "    .dataframe tbody tr th:only-of-type {\n",
       "        vertical-align: middle;\n",
       "    }\n",
       "\n",
       "    .dataframe tbody tr th {\n",
       "        vertical-align: top;\n",
       "    }\n",
       "\n",
       "    .dataframe thead th {\n",
       "        text-align: right;\n",
       "    }\n",
       "</style>\n",
       "<table border=\"1\" class=\"dataframe\">\n",
       "  <thead>\n",
       "    <tr style=\"text-align: right;\">\n",
       "      <th></th>\n",
       "      <th>Pt_InitTrt</th>\n",
       "      <th>Pt_HospDKASinceDiag</th>\n",
       "      <th>Pt_NumHospDKA</th>\n",
       "      <th>Pt_InsulinRecMethod</th>\n",
       "      <th>Pt_InsHumalog</th>\n",
       "      <th>Pt_InsNovolog</th>\n",
       "      <th>Pt_MealBolusMethod</th>\n",
       "      <th>Pt_InsCarbRat</th>\n",
       "      <th>Pt_InsCarbRatBrkfst</th>\n",
       "      <th>Pt_InsCarbRatLunch</th>\n",
       "      <th>...</th>\n",
       "      <th>InsOther</th>\n",
       "      <th>InsNotTaking</th>\n",
       "      <th>AgeAtConsent</th>\n",
       "      <th>DiagAge</th>\n",
       "      <th>Pt_v3NumERVisOthReas</th>\n",
       "      <th>Pt_v3NumHospOthReas</th>\n",
       "      <th>MajorLifeStressEvent</th>\n",
       "      <th>HbA1c</th>\n",
       "      <th>relative_T1D</th>\n",
       "      <th>diagDuration</th>\n",
       "    </tr>\n",
       "  </thead>\n",
       "  <tbody>\n",
       "    <tr>\n",
       "      <th>0</th>\n",
       "      <td>1.0</td>\n",
       "      <td>1.0</td>\n",
       "      <td>0.0</td>\n",
       "      <td>0.0</td>\n",
       "      <td>NaN</td>\n",
       "      <td>1.0</td>\n",
       "      <td>2.0</td>\n",
       "      <td>0.0</td>\n",
       "      <td>15.0</td>\n",
       "      <td>15.0</td>\n",
       "      <td>...</td>\n",
       "      <td>0</td>\n",
       "      <td>0</td>\n",
       "      <td>36.0876</td>\n",
       "      <td>24</td>\n",
       "      <td>0.0</td>\n",
       "      <td>0.0</td>\n",
       "      <td>0</td>\n",
       "      <td>7.675000</td>\n",
       "      <td>1</td>\n",
       "      <td>12.0876</td>\n",
       "    </tr>\n",
       "    <tr>\n",
       "      <th>1</th>\n",
       "      <td>0.0</td>\n",
       "      <td>0.0</td>\n",
       "      <td>1.0</td>\n",
       "      <td>0.0</td>\n",
       "      <td>NaN</td>\n",
       "      <td>1.0</td>\n",
       "      <td>0.0</td>\n",
       "      <td>0.0</td>\n",
       "      <td>15.0</td>\n",
       "      <td>15.0</td>\n",
       "      <td>...</td>\n",
       "      <td>1</td>\n",
       "      <td>0</td>\n",
       "      <td>10.1465</td>\n",
       "      <td>4</td>\n",
       "      <td>0.0</td>\n",
       "      <td>0.0</td>\n",
       "      <td>0</td>\n",
       "      <td>6.750000</td>\n",
       "      <td>1</td>\n",
       "      <td>6.1465</td>\n",
       "    </tr>\n",
       "    <tr>\n",
       "      <th>2</th>\n",
       "      <td>0.0</td>\n",
       "      <td>0.0</td>\n",
       "      <td>0.0</td>\n",
       "      <td>0.0</td>\n",
       "      <td>NaN</td>\n",
       "      <td>1.0</td>\n",
       "      <td>0.0</td>\n",
       "      <td>0.0</td>\n",
       "      <td>16.0</td>\n",
       "      <td>14.0</td>\n",
       "      <td>...</td>\n",
       "      <td>1</td>\n",
       "      <td>0</td>\n",
       "      <td>10.1465</td>\n",
       "      <td>2</td>\n",
       "      <td>0.0</td>\n",
       "      <td>0.0</td>\n",
       "      <td>0</td>\n",
       "      <td>7.807692</td>\n",
       "      <td>1</td>\n",
       "      <td>8.1465</td>\n",
       "    </tr>\n",
       "    <tr>\n",
       "      <th>3</th>\n",
       "      <td>0.0</td>\n",
       "      <td>1.0</td>\n",
       "      <td>0.0</td>\n",
       "      <td>0.0</td>\n",
       "      <td>NaN</td>\n",
       "      <td>1.0</td>\n",
       "      <td>0.0</td>\n",
       "      <td>0.0</td>\n",
       "      <td>16.0</td>\n",
       "      <td>20.0</td>\n",
       "      <td>...</td>\n",
       "      <td>1</td>\n",
       "      <td>0</td>\n",
       "      <td>9.1745</td>\n",
       "      <td>4</td>\n",
       "      <td>0.0</td>\n",
       "      <td>0.0</td>\n",
       "      <td>0</td>\n",
       "      <td>7.535714</td>\n",
       "      <td>1</td>\n",
       "      <td>5.1745</td>\n",
       "    </tr>\n",
       "    <tr>\n",
       "      <th>4</th>\n",
       "      <td>0.0</td>\n",
       "      <td>1.0</td>\n",
       "      <td>0.0</td>\n",
       "      <td>0.0</td>\n",
       "      <td>1.0</td>\n",
       "      <td>NaN</td>\n",
       "      <td>5.0</td>\n",
       "      <td>0.0</td>\n",
       "      <td>7.0</td>\n",
       "      <td>7.0</td>\n",
       "      <td>...</td>\n",
       "      <td>0</td>\n",
       "      <td>0</td>\n",
       "      <td>58.1684</td>\n",
       "      <td>24</td>\n",
       "      <td>0.0</td>\n",
       "      <td>0.0</td>\n",
       "      <td>1</td>\n",
       "      <td>7.633333</td>\n",
       "      <td>0</td>\n",
       "      <td>34.1684</td>\n",
       "    </tr>\n",
       "    <tr>\n",
       "      <th>...</th>\n",
       "      <td>...</td>\n",
       "      <td>...</td>\n",
       "      <td>...</td>\n",
       "      <td>...</td>\n",
       "      <td>...</td>\n",
       "      <td>...</td>\n",
       "      <td>...</td>\n",
       "      <td>...</td>\n",
       "      <td>...</td>\n",
       "      <td>...</td>\n",
       "      <td>...</td>\n",
       "      <td>...</td>\n",
       "      <td>...</td>\n",
       "      <td>...</td>\n",
       "      <td>...</td>\n",
       "      <td>...</td>\n",
       "      <td>...</td>\n",
       "      <td>...</td>\n",
       "      <td>...</td>\n",
       "      <td>...</td>\n",
       "      <td>...</td>\n",
       "    </tr>\n",
       "    <tr>\n",
       "      <th>25754</th>\n",
       "      <td>0.0</td>\n",
       "      <td>1.0</td>\n",
       "      <td>0.0</td>\n",
       "      <td>1.0</td>\n",
       "      <td>1.0</td>\n",
       "      <td>NaN</td>\n",
       "      <td>0.0</td>\n",
       "      <td>0.0</td>\n",
       "      <td>35.0</td>\n",
       "      <td>40.0</td>\n",
       "      <td>...</td>\n",
       "      <td>0</td>\n",
       "      <td>0</td>\n",
       "      <td>8.2820</td>\n",
       "      <td>7</td>\n",
       "      <td>0.0</td>\n",
       "      <td>0.0</td>\n",
       "      <td>0</td>\n",
       "      <td>NaN</td>\n",
       "      <td>0</td>\n",
       "      <td>1.2820</td>\n",
       "    </tr>\n",
       "    <tr>\n",
       "      <th>25755</th>\n",
       "      <td>0.0</td>\n",
       "      <td>1.0</td>\n",
       "      <td>0.0</td>\n",
       "      <td>0.0</td>\n",
       "      <td>1.0</td>\n",
       "      <td>NaN</td>\n",
       "      <td>0.0</td>\n",
       "      <td>0.0</td>\n",
       "      <td>12.0</td>\n",
       "      <td>12.0</td>\n",
       "      <td>...</td>\n",
       "      <td>0</td>\n",
       "      <td>0</td>\n",
       "      <td>42.2669</td>\n",
       "      <td>8</td>\n",
       "      <td>1.0</td>\n",
       "      <td>1.0</td>\n",
       "      <td>0</td>\n",
       "      <td>NaN</td>\n",
       "      <td>1</td>\n",
       "      <td>34.2669</td>\n",
       "    </tr>\n",
       "    <tr>\n",
       "      <th>25756</th>\n",
       "      <td>0.0</td>\n",
       "      <td>1.0</td>\n",
       "      <td>0.0</td>\n",
       "      <td>1.0</td>\n",
       "      <td>NaN</td>\n",
       "      <td>1.0</td>\n",
       "      <td>0.0</td>\n",
       "      <td>0.0</td>\n",
       "      <td>15.0</td>\n",
       "      <td>15.0</td>\n",
       "      <td>...</td>\n",
       "      <td>0</td>\n",
       "      <td>0</td>\n",
       "      <td>8.8925</td>\n",
       "      <td>8</td>\n",
       "      <td>0.0</td>\n",
       "      <td>0.0</td>\n",
       "      <td>0</td>\n",
       "      <td>NaN</td>\n",
       "      <td>0</td>\n",
       "      <td>0.8925</td>\n",
       "    </tr>\n",
       "    <tr>\n",
       "      <th>25757</th>\n",
       "      <td>0.0</td>\n",
       "      <td>0.0</td>\n",
       "      <td>0.0</td>\n",
       "      <td>1.0</td>\n",
       "      <td>NaN</td>\n",
       "      <td>1.0</td>\n",
       "      <td>3.0</td>\n",
       "      <td>0.0</td>\n",
       "      <td>20.0</td>\n",
       "      <td>20.0</td>\n",
       "      <td>...</td>\n",
       "      <td>0</td>\n",
       "      <td>0</td>\n",
       "      <td>31.2416</td>\n",
       "      <td>29</td>\n",
       "      <td>0.0</td>\n",
       "      <td>0.0</td>\n",
       "      <td>1</td>\n",
       "      <td>NaN</td>\n",
       "      <td>0</td>\n",
       "      <td>2.2416</td>\n",
       "    </tr>\n",
       "    <tr>\n",
       "      <th>25758</th>\n",
       "      <td>0.0</td>\n",
       "      <td>1.0</td>\n",
       "      <td>0.0</td>\n",
       "      <td>0.0</td>\n",
       "      <td>1.0</td>\n",
       "      <td>NaN</td>\n",
       "      <td>5.0</td>\n",
       "      <td>0.0</td>\n",
       "      <td>6.0</td>\n",
       "      <td>10.0</td>\n",
       "      <td>...</td>\n",
       "      <td>0</td>\n",
       "      <td>0</td>\n",
       "      <td>34.2286</td>\n",
       "      <td>20</td>\n",
       "      <td>0.0</td>\n",
       "      <td>0.0</td>\n",
       "      <td>0</td>\n",
       "      <td>NaN</td>\n",
       "      <td>0</td>\n",
       "      <td>14.2286</td>\n",
       "    </tr>\n",
       "  </tbody>\n",
       "</table>\n",
       "<p>25759 rows × 132 columns</p>\n",
       "</div>"
      ],
      "text/plain": [
       "       Pt_InitTrt  Pt_HospDKASinceDiag  Pt_NumHospDKA  Pt_InsulinRecMethod  \\\n",
       "0             1.0                  1.0            0.0                  0.0   \n",
       "1             0.0                  0.0            1.0                  0.0   \n",
       "2             0.0                  0.0            0.0                  0.0   \n",
       "3             0.0                  1.0            0.0                  0.0   \n",
       "4             0.0                  1.0            0.0                  0.0   \n",
       "...           ...                  ...            ...                  ...   \n",
       "25754         0.0                  1.0            0.0                  1.0   \n",
       "25755         0.0                  1.0            0.0                  0.0   \n",
       "25756         0.0                  1.0            0.0                  1.0   \n",
       "25757         0.0                  0.0            0.0                  1.0   \n",
       "25758         0.0                  1.0            0.0                  0.0   \n",
       "\n",
       "       Pt_InsHumalog  Pt_InsNovolog  Pt_MealBolusMethod  Pt_InsCarbRat  \\\n",
       "0                NaN            1.0                 2.0            0.0   \n",
       "1                NaN            1.0                 0.0            0.0   \n",
       "2                NaN            1.0                 0.0            0.0   \n",
       "3                NaN            1.0                 0.0            0.0   \n",
       "4                1.0            NaN                 5.0            0.0   \n",
       "...              ...            ...                 ...            ...   \n",
       "25754            1.0            NaN                 0.0            0.0   \n",
       "25755            1.0            NaN                 0.0            0.0   \n",
       "25756            NaN            1.0                 0.0            0.0   \n",
       "25757            NaN            1.0                 3.0            0.0   \n",
       "25758            1.0            NaN                 5.0            0.0   \n",
       "\n",
       "       Pt_InsCarbRatBrkfst  Pt_InsCarbRatLunch  ...  InsOther  InsNotTaking  \\\n",
       "0                     15.0                15.0  ...         0             0   \n",
       "1                     15.0                15.0  ...         1             0   \n",
       "2                     16.0                14.0  ...         1             0   \n",
       "3                     16.0                20.0  ...         1             0   \n",
       "4                      7.0                 7.0  ...         0             0   \n",
       "...                    ...                 ...  ...       ...           ...   \n",
       "25754                 35.0                40.0  ...         0             0   \n",
       "25755                 12.0                12.0  ...         0             0   \n",
       "25756                 15.0                15.0  ...         0             0   \n",
       "25757                 20.0                20.0  ...         0             0   \n",
       "25758                  6.0                10.0  ...         0             0   \n",
       "\n",
       "       AgeAtConsent  DiagAge  Pt_v3NumERVisOthReas  Pt_v3NumHospOthReas  \\\n",
       "0           36.0876       24                   0.0                  0.0   \n",
       "1           10.1465        4                   0.0                  0.0   \n",
       "2           10.1465        2                   0.0                  0.0   \n",
       "3            9.1745        4                   0.0                  0.0   \n",
       "4           58.1684       24                   0.0                  0.0   \n",
       "...             ...      ...                   ...                  ...   \n",
       "25754        8.2820        7                   0.0                  0.0   \n",
       "25755       42.2669        8                   1.0                  1.0   \n",
       "25756        8.8925        8                   0.0                  0.0   \n",
       "25757       31.2416       29                   0.0                  0.0   \n",
       "25758       34.2286       20                   0.0                  0.0   \n",
       "\n",
       "       MajorLifeStressEvent     HbA1c  relative_T1D  diagDuration  \n",
       "0                         0  7.675000             1       12.0876  \n",
       "1                         0  6.750000             1        6.1465  \n",
       "2                         0  7.807692             1        8.1465  \n",
       "3                         0  7.535714             1        5.1745  \n",
       "4                         1  7.633333             0       34.1684  \n",
       "...                     ...       ...           ...           ...  \n",
       "25754                     0       NaN             0        1.2820  \n",
       "25755                     0       NaN             1       34.2669  \n",
       "25756                     0       NaN             0        0.8925  \n",
       "25757                     1       NaN             0        2.2416  \n",
       "25758                     0       NaN             0       14.2286  \n",
       "\n",
       "[25759 rows x 132 columns]"
      ]
     },
     "execution_count": 492,
     "metadata": {},
     "output_type": "execute_result"
    }
   ],
   "source": [
    "df.drop('PtID', axis = 1)"
   ]
  },
  {
   "cell_type": "code",
   "execution_count": 493,
   "metadata": {},
   "outputs": [],
   "source": [
    "\n",
    "def divide_data(df,label):\n",
    "    Y = df[label]\n",
    "    X = df.drop(label, axis=1)\n",
    "    return X, Y\n",
    "\n",
    "\n",
    "X, Y = divide_data(df, y_label)\n"
   ]
  },
  {
   "cell_type": "markdown",
   "metadata": {},
   "source": [
    "# Correlation"
   ]
  },
  {
   "cell_type": "code",
   "execution_count": 494,
   "metadata": {},
   "outputs": [],
   "source": [
    "# # Correlation\n",
    "# X = pd.DataFrame(X)\n",
    "# corr = X.corr(method ='pearson')\n",
    "\n",
    "# corr = X.corr(method ='pearson').abs()\n",
    "# # avg_corr = corr.mean(axis = 1)\n"
   ]
  },
  {
   "cell_type": "code",
   "execution_count": 495,
   "metadata": {},
   "outputs": [],
   "source": [
    "# import seaborn as sn\n",
    "# plt.figure(figsize=(20,20))\n",
    "\n",
    "# sn.heatmap(corr,annot=True)\n",
    "# plt.title('Correlation Matrix', fontsize=16)\n",
    "# plt.show()"
   ]
  },
  {
   "cell_type": "code",
   "execution_count": null,
   "metadata": {},
   "outputs": [],
   "source": []
  },
  {
   "cell_type": "markdown",
   "metadata": {},
   "source": [
    "# Feature Selection"
   ]
  },
  {
   "cell_type": "code",
   "execution_count": 496,
   "metadata": {},
   "outputs": [],
   "source": [
    "from sklearn.preprocessing import OneHotEncoder, StandardScaler, MinMaxScaler\n",
    "from sklearn.feature_selection import SelectKBest, mutual_info_classif, SelectPercentile\n",
    "from sklearn.metrics import confusion_matrix, classification_report, f1_score, auc, roc_curve, roc_auc_score, precision_score, recall_score, balanced_accuracy_score\n",
    "from numpy.random import seed\n",
    "from sklearn.model_selection import GridSearchCV, train_test_split, cross_val_score\n",
    "seed(42)\n",
    "import tensorflow as tf\n",
    "tf.random.set_seed(38)\n",
    "from sklearn.impute import SimpleImputer, KNNImputer\n",
    "from sklearn.experimental import enable_iterative_imputer\n",
    "from sklearn.impute import IterativeImputer\n",
    "from sklearn.discriminant_analysis import LinearDiscriminantAnalysis\n",
    "\n",
    "\n",
    "from keras.callbacks import TensorBoard\n",
    "from keras.models import Sequential\n",
    "from keras.layers import Dense"
   ]
  },
  {
   "cell_type": "code",
   "execution_count": 497,
   "metadata": {},
   "outputs": [
    {
     "data": {
      "text/plain": [
       "132"
      ]
     },
     "execution_count": 497,
     "metadata": {},
     "output_type": "execute_result"
    }
   ],
   "source": [
    "shape = np.shape(X) \n",
    "feature = shape[1] \n",
    "n_classes = 2\n",
    "\n",
    "feature"
   ]
  },
  {
   "cell_type": "code",
   "execution_count": 498,
   "metadata": {},
   "outputs": [],
   "source": [
    "\n",
    "# fill with 0 - if data not available probably patient has not that medical condition\n",
    "if(y_label == 'SHSeizComaPast12mos' or y_label == 'DKADiag' or y_label == 'Pt_SevHypoEver' or y_label == 'DKAPast12mos'):\n",
    "    Y = Y.fillna(1)\n",
    "else:\n",
    "    Y = Y.fillna(0)\n"
   ]
  },
  {
   "cell_type": "code",
   "execution_count": 499,
   "metadata": {},
   "outputs": [],
   "source": [
    "\n",
    "seed(42)\n",
    "tf.random.set_seed(38)\n",
    "# Save original data set\n",
    "original_X = X\n",
    "\n",
    "# Split into training and testing sets\n",
    "X_train, X_test, Y_train, Y_test = train_test_split(X, Y, test_size=0.25, stratify=Y, random_state=123)\n",
    "# if variable y is a binary categorical variable with values 0 and 1 and there are 25% of zeros and 75% of ones, stratify=y will make sure that your random split has 25% of 0's and 75% of 1's.\n",
    "# X_train, X_test, Y_train, Y_test = train_test_split(X, Y, test_size=0.25)\n"
   ]
  },
  {
   "cell_type": "code",
   "execution_count": 500,
   "metadata": {},
   "outputs": [
    {
     "name": "stdout",
     "output_type": "stream",
     "text": [
      "[0. 1.] [  389 18930]\n",
      "[0. 1.] [ 130 6310]\n"
     ]
    }
   ],
   "source": [
    "len(Y_train == 0.0)\n",
    "unique, counts = numpy.unique(Y_train.to_numpy(), return_counts=True)\n",
    "print(unique, counts)\n",
    "\n",
    "\n",
    "unique_test, counts_test = numpy.unique(Y_test.to_numpy(), return_counts=True)\n",
    "print(unique_test, counts_test)\n"
   ]
  },
  {
   "cell_type": "markdown",
   "metadata": {},
   "source": [
    "## Model 1 - XGB - With missing data"
   ]
  },
  {
   "cell_type": "code",
   "execution_count": 501,
   "metadata": {
    "scrolled": false
   },
   "outputs": [
    {
     "name": "stdout",
     "output_type": "stream",
     "text": [
      "97.98136645962732\n",
      "              precision    recall  f1-score   support\n",
      "\n",
      "         0.0       0.00      0.00      0.00       130\n",
      "         1.0       0.98      1.00      0.99      6310\n",
      "\n",
      "    accuracy                           0.98      6440\n",
      "   macro avg       0.49      0.50      0.49      6440\n",
      "weighted avg       0.96      0.98      0.97      6440\n",
      "\n"
     ]
    },
    {
     "name": "stderr",
     "output_type": "stream",
     "text": [
      "/home/kali/.local/lib/python3.9/site-packages/sklearn/metrics/_classification.py:1248: UndefinedMetricWarning: Precision and F-score are ill-defined and being set to 0.0 in labels with no predicted samples. Use `zero_division` parameter to control this behavior.\n",
      "  _warn_prf(average, modifier, msg_start, len(result))\n",
      "/home/kali/.local/lib/python3.9/site-packages/sklearn/metrics/_classification.py:1248: UndefinedMetricWarning: Precision and F-score are ill-defined and being set to 0.0 in labels with no predicted samples. Use `zero_division` parameter to control this behavior.\n",
      "  _warn_prf(average, modifier, msg_start, len(result))\n",
      "/home/kali/.local/lib/python3.9/site-packages/sklearn/metrics/_classification.py:1248: UndefinedMetricWarning: Precision and F-score are ill-defined and being set to 0.0 in labels with no predicted samples. Use `zero_division` parameter to control this behavior.\n",
      "  _warn_prf(average, modifier, msg_start, len(result))\n"
     ]
    },
    {
     "data": {
      "image/png": "[encoded data removed]",
      "text/plain": [
       "<Figure size 432x288 with 2 Axes>"
      ]
     },
     "metadata": {
      "needs_background": "light"
     },
     "output_type": "display_data"
    }
   ],
   "source": [
    "# xgboost - train with missing values\n",
    "from xgboost import XGBClassifier\n",
    "from sklearn.metrics import accuracy_score\n",
    "\n",
    "model=XGBClassifier(use_label_encoder=False, eta = 0.1,#eta between(0.01-0.2)\n",
    "        max_depth = 3, #values between(3-10)\n",
    "        max_delta_step = 1,\n",
    "        subsample = 0.5,#values between(0.5-1)\n",
    "        colsample_bytree = 0.7,#values between(0.5-1)\n",
    "        tree_method = \"auto\",\n",
    "        process_type = \"default\",\n",
    "        num_parallel_tree=7,\n",
    "        objective='multi:softmax',\n",
    "        min_child_weight = 3,\n",
    "        booster='gbtree',\n",
    "        eval_metric = \"mlogloss\",\n",
    "        num_class = n_classes)\n",
    "model.fit(X_train,Y_train)\n",
    "\n",
    "\n",
    "\n",
    "xgb_pred=model.predict(X_test)\n",
    "print(accuracy_score(Y_test, xgb_pred)*100)\n",
    "\n",
    "confusion_matrix_xgb = pd.DataFrame(confusion_matrix(Y_test, xgb_pred))\n",
    "sns.heatmap(confusion_matrix_xgb, annot=True)\n",
    "print(classification_report(Y_test, xgb_pred))"
   ]
  },
  {
   "cell_type": "code",
   "execution_count": null,
   "metadata": {},
   "outputs": [],
   "source": []
  },
  {
   "cell_type": "markdown",
   "metadata": {},
   "source": [
    "# Imputations"
   ]
  },
  {
   "cell_type": "code",
   "execution_count": 502,
   "metadata": {},
   "outputs": [],
   "source": [
    "# fill nan values in categorical dataset with frequent value\n",
    "\n",
    "# tested wuth mean and median - results is lower than most_frequent\n",
    "imputeX = SimpleImputer(missing_values=np.nan, strategy = \"most_frequent\")\n",
    "# imputeX = KNNImputer(missing_values=np.nan, n_neighbors = 3, weights='distance')\n",
    "# imputeX = IterativeImputer(max_iter=5, random_state=0)\n",
    "\n",
    "X_train = imputeX.fit_transform(X_train)\n"
   ]
  },
  {
   "cell_type": "code",
   "execution_count": 503,
   "metadata": {},
   "outputs": [],
   "source": [
    "# test data imputation\n",
    "\n",
    "Test = X_test.copy()\n",
    "Test.loc[:,y_label] = Y_test\n",
    "\n",
    "X_test = imputeX.transform(X_test)\n"
   ]
  },
  {
   "cell_type": "markdown",
   "metadata": {},
   "source": [
    "# Scale data"
   ]
  },
  {
   "cell_type": "code",
   "execution_count": 504,
   "metadata": {},
   "outputs": [],
   "source": [
    "# Normalize numeric features\n",
    "scaler = StandardScaler()\n",
    "# scaler = MinMaxScaler()\n",
    "select = {}\n",
    "select[0] = pd.DataFrame(scaler.fit_transform(X_train))\n",
    "select[1] = Y_train\n",
    "select[2] = pd.DataFrame(scaler.transform(X_test))"
   ]
  },
  {
   "cell_type": "code",
   "execution_count": null,
   "metadata": {},
   "outputs": [],
   "source": []
  },
  {
   "cell_type": "markdown",
   "metadata": {},
   "source": [
    "# Feature selection"
   ]
  },
  {
   "cell_type": "code",
   "execution_count": 505,
   "metadata": {},
   "outputs": [],
   "source": [
    "# TODO\n",
    "\n",
    "def select_features(select, feature):\n",
    "    selected = {}\n",
    "    fs = SelectKBest(score_func=mutual_info_classif, k=feature) # k=feature score_func SelectPercentile\n",
    "    selected[0] = fs.fit_transform(select[0], select[1])\n",
    "    selected[1] = fs.transform(select[2])\n",
    "        \n",
    "    idx = fs.get_support(indices=True)\n",
    "    \n",
    "    return selected, fs, idx\n",
    "\n"
   ]
  },
  {
   "cell_type": "code",
   "execution_count": 506,
   "metadata": {},
   "outputs": [],
   "source": [
    "from sklearn.feature_selection import RFE\n",
    "from sklearn.linear_model import LogisticRegression\n",
    "\n",
    "#Selecting the Best important features according to Logistic Regression\n",
    "# Give better performance than selectKBest \n",
    "# def select_features(select, feature):\n",
    "#     selected = {}\n",
    "#     fs = RFE(estimator=LogisticRegression(), n_features_to_select=feature, step = 10) #  step (the number of features eliminated each iteration) \n",
    "#     selected[0] = fs.fit_transform(select[0], select[1])\n",
    "#     selected[1] = fs.transform(select[2])\n",
    "        \n",
    "#     idx = fs.get_support(indices=True)\n",
    "    \n",
    "#     return selected, fs, idx\n"
   ]
  },
  {
   "cell_type": "code",
   "execution_count": 507,
   "metadata": {},
   "outputs": [],
   "source": [
    "# Feature selection\n",
    "selected, fs, idx = select_features(select, feature)\n",
    "X_train = pd.DataFrame(selected[0])\n",
    "X_test = pd.DataFrame(selected[1])"
   ]
  },
  {
   "cell_type": "code",
   "execution_count": 508,
   "metadata": {},
   "outputs": [
    {
     "name": "stdout",
     "output_type": "stream",
     "text": [
      "Index(['PtID', 'Pt_InitTrt', 'Pt_HospDKASinceDiag', 'Pt_NumHospDKA',\n",
      "       'Pt_InsulinRecMethod', 'Pt_InsHumalog', 'Pt_InsNovolog',\n",
      "       'Pt_MealBolusMethod', 'Pt_InsCarbRat', 'Pt_InsCarbRatBrkfst',\n",
      "       ...\n",
      "       'InsOther', 'InsNotTaking', 'AgeAtConsent', 'DiagAge',\n",
      "       'Pt_v3NumERVisOthReas', 'Pt_v3NumHospOthReas', 'MajorLifeStressEvent',\n",
      "       'HbA1c', 'relative_T1D', 'diagDuration'],\n",
      "      dtype='object', length=132)\n",
      "(25759, 132)\n"
     ]
    }
   ],
   "source": [
    "# Get columns to keep and create new dataframe with those only\n",
    "from pprint import pprint\n",
    "cols = fs.get_support(indices=True)\n",
    "features_df_new = original_X.iloc[:,cols]\n",
    "pprint(features_df_new.columns)\n",
    "print(features_df_new.shape)"
   ]
  },
  {
   "cell_type": "markdown",
   "metadata": {},
   "source": []
  },
  {
   "cell_type": "code",
   "execution_count": null,
   "metadata": {},
   "outputs": [],
   "source": []
  },
  {
   "cell_type": "code",
   "execution_count": null,
   "metadata": {},
   "outputs": [],
   "source": []
  },
  {
   "cell_type": "markdown",
   "metadata": {},
   "source": [
    "# Model - XGB"
   ]
  },
  {
   "cell_type": "code",
   "execution_count": 509,
   "metadata": {},
   "outputs": [
    {
     "name": "stdout",
     "output_type": "stream",
     "text": [
      "97.98136645962732\n",
      "              precision    recall  f1-score   support\n",
      "\n",
      "         0.0       0.00      0.00      0.00       130\n",
      "         1.0       0.98      1.00      0.99      6310\n",
      "\n",
      "    accuracy                           0.98      6440\n",
      "   macro avg       0.49      0.50      0.49      6440\n",
      "weighted avg       0.96      0.98      0.97      6440\n",
      "\n"
     ]
    },
    {
     "name": "stderr",
     "output_type": "stream",
     "text": [
      "/home/kali/.local/lib/python3.9/site-packages/sklearn/metrics/_classification.py:1248: UndefinedMetricWarning: Precision and F-score are ill-defined and being set to 0.0 in labels with no predicted samples. Use `zero_division` parameter to control this behavior.\n",
      "  _warn_prf(average, modifier, msg_start, len(result))\n",
      "/home/kali/.local/lib/python3.9/site-packages/sklearn/metrics/_classification.py:1248: UndefinedMetricWarning: Precision and F-score are ill-defined and being set to 0.0 in labels with no predicted samples. Use `zero_division` parameter to control this behavior.\n",
      "  _warn_prf(average, modifier, msg_start, len(result))\n",
      "/home/kali/.local/lib/python3.9/site-packages/sklearn/metrics/_classification.py:1248: UndefinedMetricWarning: Precision and F-score are ill-defined and being set to 0.0 in labels with no predicted samples. Use `zero_division` parameter to control this behavior.\n",
      "  _warn_prf(average, modifier, msg_start, len(result))\n"
     ]
    },
    {
     "data": {
      "image/png": "[encoded data removed]",
      "text/plain": [
       "<Figure size 432x288 with 2 Axes>"
      ]
     },
     "metadata": {
      "needs_background": "light"
     },
     "output_type": "display_data"
    }
   ],
   "source": [
    "# xgboost - train with missing values\n",
    "from xgboost import XGBClassifier\n",
    "from sklearn.metrics import accuracy_score\n",
    "\n",
    "model=XGBClassifier(use_label_encoder=False, eta = 0.1,#eta between(0.01-0.2)\n",
    "        max_depth = 9, #values between(3-10)\n",
    "        max_delta_step = 3,\n",
    "        subsample = 0.9,#values between(0.5-1)\n",
    "        colsample_bytree = 0.7,#values between(0.5-1)\n",
    "        tree_method = \"auto\",\n",
    "        process_type = \"default\",\n",
    "        num_parallel_tree=7,\n",
    "        objective='multi:softmax',\n",
    "        min_child_weight = 3,\n",
    "        booster='gbtree',\n",
    "        eval_metric = \"mlogloss\",\n",
    "        num_class = n_classes)\n",
    "model.fit(X_train,Y_train)\n",
    "\n",
    "\n",
    "\n",
    "xgb_pred=model.predict(X_test)\n",
    "print(accuracy_score(Y_test, xgb_pred)*100)\n",
    "\n",
    "confusion_matrix_xgb = pd.DataFrame(confusion_matrix(Y_test, xgb_pred))\n",
    "sns.heatmap(confusion_matrix_xgb, annot=True)\n",
    "print(classification_report(Y_test, xgb_pred))"
   ]
  },
  {
   "cell_type": "code",
   "execution_count": 510,
   "metadata": {},
   "outputs": [
    {
     "data": {
      "text/plain": [
       "<AxesSubplot:>"
      ]
     },
     "execution_count": 510,
     "metadata": {},
     "output_type": "execute_result"
    },
    {
     "data": {
      "image/png": "[encoded data removed]",
      "text/plain": [
       "<Figure size 432x288 with 1 Axes>"
      ]
     },
     "metadata": {
      "needs_background": "light"
     },
     "output_type": "display_data"
    }
   ],
   "source": [
    "# feature importance graph of XGB\n",
    "feat_importances = pd.Series(model.feature_importances_, index=X.columns)\n",
    "feat_importances.nlargest(20).plot(kind='barh')"
   ]
  },
  {
   "cell_type": "markdown",
   "metadata": {},
   "source": [
    "## Model 2 - Random forest"
   ]
  },
  {
   "cell_type": "code",
   "execution_count": 511,
   "metadata": {},
   "outputs": [
    {
     "name": "stdout",
     "output_type": "stream",
     "text": [
      "97.98136645962732\n",
      "              precision    recall  f1-score   support\n",
      "\n",
      "         0.0       0.00      0.00      0.00       130\n",
      "         1.0       0.98      1.00      0.99      6310\n",
      "\n",
      "    accuracy                           0.98      6440\n",
      "   macro avg       0.49      0.50      0.49      6440\n",
      "weighted avg       0.96      0.98      0.97      6440\n",
      "\n",
      "Accuracy of random forest classifier on training set: 0.98\n",
      "Accuracy of random forest classifier classifier on test set: 0.98\n"
     ]
    },
    {
     "name": "stderr",
     "output_type": "stream",
     "text": [
      "/home/kali/.local/lib/python3.9/site-packages/sklearn/metrics/_classification.py:1248: UndefinedMetricWarning: Precision and F-score are ill-defined and being set to 0.0 in labels with no predicted samples. Use `zero_division` parameter to control this behavior.\n",
      "  _warn_prf(average, modifier, msg_start, len(result))\n",
      "/home/kali/.local/lib/python3.9/site-packages/sklearn/metrics/_classification.py:1248: UndefinedMetricWarning: Precision and F-score are ill-defined and being set to 0.0 in labels with no predicted samples. Use `zero_division` parameter to control this behavior.\n",
      "  _warn_prf(average, modifier, msg_start, len(result))\n",
      "/home/kali/.local/lib/python3.9/site-packages/sklearn/metrics/_classification.py:1248: UndefinedMetricWarning: Precision and F-score are ill-defined and being set to 0.0 in labels with no predicted samples. Use `zero_division` parameter to control this behavior.\n",
      "  _warn_prf(average, modifier, msg_start, len(result))\n"
     ]
    },
    {
     "data": {
      "image/png": "[encoded data removed]",
      "text/plain": [
       "<Figure size 432x288 with 2 Axes>"
      ]
     },
     "metadata": {
      "needs_background": "light"
     },
     "output_type": "display_data"
    }
   ],
   "source": [
    "#  random forest classifier\n",
    "from sklearn.metrics import accuracy_score\n",
    "from sklearn.ensemble import RandomForestClassifier\n",
    "\n",
    "\n",
    "model=RandomForestClassifier(max_depth=5, random_state=0)\n",
    "\n",
    "\n",
    "model.fit(X_train,Y_train)\n",
    "\n",
    "\n",
    "pred=model.predict(X_test)\n",
    "print(accuracy_score(Y_test, pred)*100)\n",
    "\n",
    "confusion_matrix_rf = pd.DataFrame(confusion_matrix(Y_test, pred))\n",
    "sns.heatmap(confusion_matrix_rf, annot=True)\n",
    "print(classification_report(Y_test, pred))\n",
    "\n",
    "print('Accuracy of random forest classifier on training set: {:.2f}'\n",
    "     .format(model.score(X_train, Y_train)))\n",
    "print('Accuracy of random forest classifier classifier on test set: {:.2f}'\n",
    "     .format(model.score(X_test, Y_test)))"
   ]
  },
  {
   "cell_type": "code",
   "execution_count": 512,
   "metadata": {},
   "outputs": [
    {
     "data": {
      "text/plain": [
       "<AxesSubplot:>"
      ]
     },
     "execution_count": 512,
     "metadata": {},
     "output_type": "execute_result"
    },
    {
     "data": {
      "image/png": "[encoded data removed]",
      "text/plain": [
       "<Figure size 432x288 with 1 Axes>"
      ]
     },
     "metadata": {
      "needs_background": "light"
     },
     "output_type": "display_data"
    }
   ],
   "source": [
    "feat_importances = pd.Series(model.feature_importances_, index=X.columns)\n",
    "feat_importances.nlargest(20).plot(kind='barh')"
   ]
  },
  {
   "cell_type": "markdown",
   "metadata": {},
   "source": [
    "## Model 3 LogisticRegression"
   ]
  },
  {
   "cell_type": "code",
   "execution_count": 513,
   "metadata": {},
   "outputs": [
    {
     "name": "stdout",
     "output_type": "stream",
     "text": [
      "72.06521739130434\n",
      "              precision    recall  f1-score   support\n",
      "\n",
      "         0.0       0.04      0.58      0.08       130\n",
      "         1.0       0.99      0.72      0.84      6310\n",
      "\n",
      "    accuracy                           0.72      6440\n",
      "   macro avg       0.52      0.65      0.46      6440\n",
      "weighted avg       0.97      0.72      0.82      6440\n",
      "\n",
      "Accuracy of logistic regression on training set: 0.72\n",
      "Accuracy of logistic regression on test set: 0.72\n"
     ]
    },
    {
     "name": "stderr",
     "output_type": "stream",
     "text": [
      "/home/kali/.local/lib/python3.9/site-packages/sklearn/linear_model/_sag.py:328: ConvergenceWarning: The max_iter was reached which means the coef_ did not converge\n",
      "  warnings.warn(\"The max_iter was reached which means \"\n"
     ]
    },
    {
     "data": {
      "image/png": "[encoded data removed]",
      "text/plain": [
       "<Figure size 432x288 with 2 Axes>"
      ]
     },
     "metadata": {
      "needs_background": "light"
     },
     "output_type": "display_data"
    }
   ],
   "source": [
    "from sklearn.linear_model import LogisticRegression\n",
    "\n",
    "#penalty{‘l1’, ‘l2’, ‘elasticnet’, ‘none’}, default=’l2’\n",
    "logreg = LogisticRegression(\n",
    "    penalty='l2',\n",
    "    tol = 0.5e-3,\n",
    "    C=2,\n",
    "    class_weight='balanced',  # balanced\n",
    "    random_state=0,\n",
    "    solver = 'saga' # saga, sag\n",
    ")\n",
    "logreg.fit(X_train, Y_train)\n",
    "\n",
    "\n",
    "pred=logreg.predict(X_test)\n",
    "print(accuracy_score(Y_test, pred)*100)\n",
    "\n",
    "confusion_matrix_lr = pd.DataFrame(confusion_matrix(Y_test, pred))\n",
    "sns.heatmap(confusion_matrix_lr, annot=True)\n",
    "print(classification_report(Y_test, pred))\n",
    "\n",
    "\n",
    "print('Accuracy of logistic regression on training set: {:.2f}'\n",
    "     .format(logreg.score(X_train, Y_train)))\n",
    "print('Accuracy of logistic regression on test set: {:.2f}'\n",
    "     .format(logreg.score(X_test, Y_test)))\n",
    "\n"
   ]
  },
  {
   "cell_type": "code",
   "execution_count": 514,
   "metadata": {},
   "outputs": [
    {
     "data": {
      "text/plain": [
       "<AxesSubplot:>"
      ]
     },
     "execution_count": 514,
     "metadata": {},
     "output_type": "execute_result"
    },
    {
     "data": {
      "image/png": "[encoded data removed]",
      "text/plain": [
       "<Figure size 432x288 with 1 Axes>"
      ]
     },
     "metadata": {
      "needs_background": "light"
     },
     "output_type": "display_data"
    }
   ],
   "source": [
    "\n",
    "feat_importances = pd.Series(logreg.coef_[0], index=X.columns)\n",
    "feat_importances.nlargest(20).plot(kind='barh')"
   ]
  },
  {
   "cell_type": "code",
   "execution_count": null,
   "metadata": {},
   "outputs": [],
   "source": []
  },
  {
   "cell_type": "markdown",
   "metadata": {},
   "source": [
    "## Model 4 - Decision tree"
   ]
  },
  {
   "cell_type": "code",
   "execution_count": 515,
   "metadata": {},
   "outputs": [
    {
     "name": "stdout",
     "output_type": "stream",
     "text": [
      "97.63975155279503\n",
      "              precision    recall  f1-score   support\n",
      "\n",
      "         0.0       0.08      0.02      0.03       130\n",
      "         1.0       0.98      1.00      0.99      6310\n",
      "\n",
      "    accuracy                           0.98      6440\n",
      "   macro avg       0.53      0.51      0.51      6440\n",
      "weighted avg       0.96      0.98      0.97      6440\n",
      "\n",
      "Accuracy of DT on training set: 0.98\n",
      "Accuracy of DT on test set: 0.98\n"
     ]
    },
    {
     "data": {
      "image/png": "[encoded data removed]",
      "text/plain": [
       "<Figure size 432x288 with 2 Axes>"
      ]
     },
     "metadata": {
      "needs_background": "light"
     },
     "output_type": "display_data"
    }
   ],
   "source": [
    "from sklearn.tree import DecisionTreeClassifier\n",
    "clf = DecisionTreeClassifier(\n",
    "                        random_state=42,\n",
    "                        criterion='entropy',\n",
    "                        splitter = 'best',\n",
    "                        max_depth = 10,\n",
    "                        max_features = 15).fit(X_train, Y_train)\n",
    "\n",
    "\n",
    "pred=clf.predict(X_test)\n",
    "print(accuracy_score(Y_test, pred)*100)\n",
    "\n",
    "confusion_matrix_dt = pd.DataFrame(confusion_matrix(Y_test, pred))\n",
    "sns.heatmap(confusion_matrix_dt, annot=True)\n",
    "print(classification_report(Y_test, pred))\n",
    "\n",
    "print('Accuracy of DT on training set: {:.2f}'\n",
    "     .format(clf.score(X_train, Y_train)))\n",
    "print('Accuracy of DT on test set: {:.2f}'\n",
    "     .format(clf.score(X_test, Y_test)))\n",
    "\n"
   ]
  },
  {
   "cell_type": "code",
   "execution_count": 516,
   "metadata": {},
   "outputs": [
    {
     "data": {
      "text/plain": [
       "<AxesSubplot:>"
      ]
     },
     "execution_count": 516,
     "metadata": {},
     "output_type": "execute_result"
    },
    {
     "data": {
      "image/png": "[encoded data removed]",
      "text/plain": [
       "<Figure size 432x288 with 1 Axes>"
      ]
     },
     "metadata": {
      "needs_background": "light"
     },
     "output_type": "display_data"
    }
   ],
   "source": [
    "\n",
    "feat_importances = pd.Series(clf.feature_importances_, index=X.columns)\n",
    "feat_importances.nlargest(20).plot(kind='barh')"
   ]
  },
  {
   "cell_type": "code",
   "execution_count": null,
   "metadata": {},
   "outputs": [],
   "source": []
  },
  {
   "cell_type": "markdown",
   "metadata": {},
   "source": [
    "## Model 5 - K-Nearest Neighbors"
   ]
  },
  {
   "cell_type": "code",
   "execution_count": null,
   "metadata": {},
   "outputs": [
    {
     "name": "stdout",
     "output_type": "stream",
     "text": [
      "96.59937888198758\n",
      "              precision    recall  f1-score   support\n",
      "\n",
      "         0.0       0.03      0.02      0.03       130\n",
      "         1.0       0.98      0.99      0.98      6310\n",
      "\n",
      "    accuracy                           0.97      6440\n",
      "   macro avg       0.51      0.50      0.50      6440\n",
      "weighted avg       0.96      0.97      0.96      6440\n",
      "\n"
     ]
    }
   ],
   "source": [
    "from sklearn.neighbors import KNeighborsClassifier\n",
    "knn = KNeighborsClassifier(\n",
    "    n_neighbors =1,\n",
    "    weights = \"distance\", # uniform, distance\n",
    "    algorithm =  'kd_tree', # {‘auto’, ‘ball_tree’, ‘kd_tree’, ‘brute’}, default=’auto’\n",
    ")\n",
    "knn.fit(X_train, Y_train)\n",
    "\n",
    "\n",
    "pred=knn.predict(X_test)\n",
    "print(accuracy_score(Y_test, pred)*100)\n",
    "\n",
    "confusion_matrix_knn = pd.DataFrame(confusion_matrix(Y_test, pred))\n",
    "sns.heatmap(confusion_matrix_knn, annot=True)\n",
    "print(classification_report(Y_test, pred))\n",
    "\n",
    "print('Accuracy of KNN on training set: {:.2f}'\n",
    "     .format(knn.score(X_train, Y_train)))\n",
    "print('Accuracy of KNN on test set: {:.2f}'\n",
    "     .format(knn.score(X_test, Y_test)))"
   ]
  },
  {
   "cell_type": "code",
   "execution_count": null,
   "metadata": {},
   "outputs": [],
   "source": []
  },
  {
   "cell_type": "markdown",
   "metadata": {},
   "source": [
    "## Model 6 - Linear Discriminant Analysis"
   ]
  },
  {
   "cell_type": "code",
   "execution_count": null,
   "metadata": {},
   "outputs": [],
   "source": [
    "from sklearn.discriminant_analysis import LinearDiscriminantAnalysis\n",
    "lda = LinearDiscriminantAnalysis(\n",
    "    solver = 'eigen', # solver{‘svd’, ‘lsqr’, ‘eigen’}, default=’svd’\n",
    "    shrinkage= 0.3, #shrinkage‘auto’ or float, default=None\n",
    "    n_components = 1,\n",
    "    tol = 1e-1                            \n",
    ")\n",
    "lda.fit(X_train, Y_train)\n",
    "\n",
    "\n",
    "pred=lda.predict(X_test)\n",
    "print(accuracy_score(Y_test, pred)*100)\n",
    "\n",
    "confusion_matrix_lda = pd.DataFrame(confusion_matrix(Y_test, pred))\n",
    "sns.heatmap(confusion_matrix_lda, annot=True)\n",
    "print(classification_report(Y_test, pred))\n",
    "\n",
    "print('Accuracy of LDA on training set: {:.2f}'\n",
    "     .format(lda.score(X_train, Y_train)))\n",
    "print('Accuracy of LDA on test set: {:.2f}'\n",
    "     .format(lda.score(X_test, Y_test)))"
   ]
  },
  {
   "cell_type": "code",
   "execution_count": null,
   "metadata": {},
   "outputs": [],
   "source": [
    "\n"
   ]
  },
  {
   "cell_type": "markdown",
   "metadata": {},
   "source": [
    "## Model 7- Gaussian Naive Bayes"
   ]
  },
  {
   "cell_type": "code",
   "execution_count": null,
   "metadata": {},
   "outputs": [],
   "source": [
    "from sklearn.naive_bayes import GaussianNB\n",
    "gnb = GaussianNB()\n",
    "gnb.fit(X_train, Y_train)\n",
    "\n",
    "\n",
    "pred=gnb.predict(X_test)\n",
    "print(accuracy_score(Y_test, pred)*100)\n",
    "\n",
    "confusion_matrix_gnb = pd.DataFrame(confusion_matrix(Y_test, pred))\n",
    "sns.heatmap(confusion_matrix_gnb, annot=True)\n",
    "print(classification_report(Y_test, pred))\n",
    "\n",
    "print('Accuracy of gaussian naive bayes on training set: {:.2f}'\n",
    "     .format(gnb.score(X_train, Y_train)))\n",
    "print('Accuracy of gaussian naive bayes on test set: {:.2f}'\n",
    "     .format(gnb.score(X_test, Y_test)))"
   ]
  },
  {
   "cell_type": "code",
   "execution_count": null,
   "metadata": {},
   "outputs": [],
   "source": []
  },
  {
   "cell_type": "markdown",
   "metadata": {},
   "source": [
    "## Model 8 - SVM"
   ]
  },
  {
   "cell_type": "code",
   "execution_count": null,
   "metadata": {},
   "outputs": [],
   "source": [
    "from sklearn.svm import SVC\n",
    "svm = SVC(\n",
    "    C = 1, # Cfloat, default=1.0\n",
    "    kernel = 'linear', #kernel{‘linear’, ‘poly’, ‘rbf’, ‘sigmoid’, ‘precomputed’}, default=’rbf’\n",
    "    degree = 3, #degree, default=3\n",
    "    gamma = 'auto', #gamma{‘scale’, ‘auto’} or float, default=’scale’\n",
    "    class_weight = None, # ‘balanced’, default=None\n",
    "    max_iter = 8,\n",
    "    decision_function_shape = 'ovo' # {‘ovo’, ‘ovr’}, default=’ovr’\n",
    ")\n",
    "\n",
    "svm.fit(X_train, Y_train)\n",
    "\n",
    "pred=svm.predict(X_test)\n",
    "print(accuracy_score(Y_test, pred)*100)\n",
    "\n",
    "confusion_matrix_svm = pd.DataFrame(confusion_matrix(Y_test, pred))\n",
    "sns.heatmap(confusion_matrix_svm, annot=True)\n",
    "print(classification_report(Y_test, pred))\n",
    "\n",
    "\n",
    "print('Accuracy ofsvm on training set: {:.2f}'\n",
    "     .format(svm.score(X_train, Y_train)))\n",
    "print('Accuracy of svm on test set: {:.2f}'\n",
    "     .format(svm.score(X_test, Y_test)))"
   ]
  },
  {
   "cell_type": "code",
   "execution_count": null,
   "metadata": {},
   "outputs": [],
   "source": []
  },
  {
   "cell_type": "code",
   "execution_count": null,
   "metadata": {},
   "outputs": [],
   "source": []
  },
  {
   "cell_type": "code",
   "execution_count": null,
   "metadata": {},
   "outputs": [],
   "source": [
    "# layer_1_1 = 1\n",
    "# layer_1_2 = 2\n",
    "# epochs = 100\n",
    "# nodes = 100 #1024/4 #128 final\n",
    "# n_classes = 2\n",
    "# bs = 8"
   ]
  },
  {
   "cell_type": "code",
   "execution_count": null,
   "metadata": {},
   "outputs": [],
   "source": [
    "# def create_custom_model(input_dim, output_dim, nodes, n=1, name='model'):\n",
    "#     def create_model():\n",
    "#         # Create model\n",
    "#         model = Sequential(name=name)\n",
    "#         for i in range(n):\n",
    "#             model.add(Dense(nodes, input_dim=input_dim, activation='sigmoid'))\n",
    "#         model.add(Dense(output_dim, activation='sigmoid'))\n",
    "\n",
    "#         # Compile model\n",
    "#         model.compile(loss=loss_fn, \n",
    "#                       optimizer= 'SGD', #'SGD', # 'RMSprop', #'adam', \n",
    "#                       metrics=['accuracy'])\n",
    "#         return model\n",
    "#     return create_model"
   ]
  },
  {
   "cell_type": "code",
   "execution_count": null,
   "metadata": {},
   "outputs": [],
   "source": [
    "# enc = OneHotEncoder()\n",
    "# y_train = enc.fit_transform(Y_train[:, np.newaxis]).toarray()\n",
    "# y_test = enc.transform(Y_test[:, np.newaxis]).toarray()\n",
    "\n",
    "# loss_fn = tf.keras.losses.BinaryCrossentropy()\n",
    "\n",
    "# n_features = X_train.shape[1]\n",
    "\n",
    "# # Create model\n",
    "# models = [create_custom_model(n_features, n_classes, nodes, n, 'model_{}'.format(n)) \n",
    "#           for n in range(layer_1_1, layer_1_2)]\n",
    "\n",
    "# # for create_model in models:\n",
    "# #     create_model().summary()\n",
    "\n",
    "\n",
    "# # Train and save\n",
    "# history_dict = {}\n",
    "\n",
    "# # TensorBoard Callback\n",
    "# cb = TensorBoard()\n",
    "\n",
    "# for create_model in models:\n",
    "#     model = create_model()\n",
    "#     history_callback = model.fit(X_train, y_train,\n",
    "#                                  batch_size=bs,\n",
    "#                                  epochs=epochs,\n",
    "#                                  verbose=0,\n",
    "#                                  callbacks=[cb])\n",
    "#     score = model.evaluate(X_test, y_test, verbose=2)\n",
    "\n",
    "#     history_dict[model.name] = [history_callback, model]"
   ]
  },
  {
   "cell_type": "code",
   "execution_count": null,
   "metadata": {},
   "outputs": [],
   "source": [
    "# def classification_repo(true, pred):\n",
    "#     for i in range(layer_1_2-layer_1_1):\n",
    "#         print(\"Classification report for model with {} hidden layers\".format(i+layer_1_1))\n",
    "#         print(classification_report(true, pred[i]))\n",
    "        \n",
    "# #confusion matrix\n",
    "# def conf_mat(true,pred):\n",
    "#     for i in range(layer_1_2-layer_1_1):\n",
    "#         print(\"Confussion matrix for model with {} hidden layers\".format(i+layer_1_1))\n",
    "#         confusion_matrix_df = pd.DataFrame(confusion_matrix(true, pred[i]))\n",
    "#         plt.figure()\n",
    "#         sns.heatmap(confusion_matrix_df, annot=True)\n",
    "#         plt.show()\n",
    "#         # print(confusion_matrix_df)"
   ]
  },
  {
   "cell_type": "code",
   "execution_count": null,
   "metadata": {},
   "outputs": [],
   "source": [
    "# pred = []\n",
    "\n",
    "# for model_name in history_dict:\n",
    "#     model = history_dict[model_name][1]\n",
    "#     Y_pred = model.predict(X_test)\n",
    "#     fpr, tpr, threshold = roc_curve(y_test.ravel(), Y_pred.ravel())\n",
    "\n",
    "#     pred.append(Y_pred)\n",
    "\n",
    "# x = []\n",
    "# for o in range(layer_1_2-layer_1_1):\n",
    "#     x.append(pred[o].argmax(axis=-1))\n",
    "\n",
    "# true = enc.inverse_transform(y_test)\n",
    "\n",
    "# classification_repo(true, x)\n",
    "\n",
    "# conf_mat(true, x)\n",
    "\n",
    "# # confusion_mat = pd.DataFrame(confusion_matrix(true, x[0]))\n",
    "# # print(confusion_mat)"
   ]
  },
  {
   "cell_type": "code",
   "execution_count": null,
   "metadata": {},
   "outputs": [],
   "source": [
    "# plt.figure(figsize=(10, 10))\n",
    "# plt.plot([0, 1], [0, 1], 'k--')\n",
    "\n",
    "# pred = []\n",
    "\n",
    "# for model_name in history_dict:\n",
    "#     model = history_dict[model_name][1]\n",
    "#     Y_pred = model.predict(X_test)\n",
    "#     fpr, tpr, threshold = roc_curve(y_test.ravel(), Y_pred.ravel())\n",
    "    \n",
    "#     pred.append(Y_pred)\n",
    "    \n",
    "#     plt.plot(fpr, tpr, label='{}, AUC = {:.3f}'.format(model_name, auc(fpr, tpr)))\n",
    "# plt.xlabel('False positive rate')\n",
    "# plt.ylabel('True positive rate')\n",
    "# plt.title('ROC curve')\n",
    "# plt.legend();\n",
    "\n",
    "# # pred = np.array(pred)\n",
    "# # print(pred[0].shape)"
   ]
  },
  {
   "cell_type": "code",
   "execution_count": null,
   "metadata": {},
   "outputs": [],
   "source": [
    "# classify = 'LDA' # 'KNN' or 'LDA'\n",
    "# scorings = ['balanced_accuracy', 'roc_auc_ovr', 'roc_auc_ovo', 'accuracy', 'recall']\n",
    "# scoring = scorings[0]"
   ]
  },
  {
   "cell_type": "code",
   "execution_count": null,
   "metadata": {},
   "outputs": [],
   "source": [
    "# # select classifier\n",
    "# if classify == 'KNN':\n",
    "#     clf = KNeighborsClassifier()\n",
    "# else:\n",
    "#     clf = LinearDiscriminantAnalysis()"
   ]
  },
  {
   "cell_type": "code",
   "execution_count": null,
   "metadata": {},
   "outputs": [],
   "source": [
    "# # X_train, X_test, Y_train, Y_test = train_test_split(X, Y, test_size=0.25, stratify=Y)\n",
    "\n",
    "# # X_test_full = X_test\n",
    "\n",
    "# # # Remove index\n",
    "# # X_train = X_train.drop('index', axis=1)\n",
    "# # X_test = X_test.drop('index', axis=1)\n",
    "\n",
    "# # # Normalize numeric features\n",
    "# # scaler = StandardScaler()\n",
    "# # # scaler = MinMaxScaler()\n",
    "# # select = {}\n",
    "# # select[0] = pd.DataFrame(scaler.fit_transform(X_train))\n",
    "# # select[1] = pd.DataFrame(scaler.transform(X_test))\n",
    "# # select[2] = Y_train\n",
    "\n",
    "# # # Feature selection\n",
    "# # select, fs, idx = select_features(select, feature, NN = False)\n",
    "# # X_train = select[0]\n",
    "# # X_test = select[1]\n",
    "\n",
    "\n",
    "# # KNN\n",
    "# if classify == 'KNN':\n",
    "#     k_range = list(range(1,feature))\n",
    "#     weight_options = [\"uniform\", \"distance\"]\n",
    "#     grid_params = dict(n_neighbors = k_range, weights = weight_options)\n",
    "#     cv = 5\n",
    "\n",
    "# # LDA\n",
    "# else:\n",
    "# #     cv = RepeatedStratifiedKFold(n_splits=10, n_repeats=3, random_state=1)\n",
    "#     cv = 5\n",
    "#     grid_params = dict()\n",
    "#     grid_params['solver'] = ['svd', 'lsqr', 'eigen']\n",
    "\n",
    "# grid = GridSearchCV(clf, grid_params, cv = cv, scoring = scoring, verbose = 1, n_jobs = -1)\n",
    "# grid_results = grid.fit(X_train, Y_train)\n",
    "# cv_scores = cross_val_score(grid_results.best_estimator_, X_train, Y_train, cv=5)\n",
    "\n",
    "# clf = grid_results.best_estimator_\n",
    "# clf = clf.fit(X_train, Y_train)\n",
    "# probs = clf.predict(X_test)\n",
    "\n",
    "# print(classification_report(Y_test, probs, zero_division = 0))\n",
    "# cnf_matrix = pd.DataFrame(confusion_matrix(Y_test, probs))\n",
    "# sns.heatmap(cnf_matrix, annot=True)\n",
    "# plt.show()\n",
    "# print(cnf_matrix)"
   ]
  },
  {
   "cell_type": "code",
   "execution_count": null,
   "metadata": {},
   "outputs": [],
   "source": []
  },
  {
   "cell_type": "code",
   "execution_count": null,
   "metadata": {},
   "outputs": [],
   "source": []
  },
  {
   "cell_type": "code",
   "execution_count": null,
   "metadata": {},
   "outputs": [],
   "source": []
  }
 ],
 "metadata": {
  "kernelspec": {
   "display_name": "Python 3 (ipykernel)",
   "language": "python",
   "name": "python3"
  },
  "language_info": {
   "codemirror_mode": {
    "name": "ipython",
    "version": 3
   },
   "file_extension": ".py",
   "mimetype": "text/x-python",
   "name": "python",
   "nbconvert_exporter": "python",
   "pygments_lexer": "ipython3",
   "version": "3.9.2"
  }
 },
 "nbformat": 4,
 "nbformat_minor": 4
}
