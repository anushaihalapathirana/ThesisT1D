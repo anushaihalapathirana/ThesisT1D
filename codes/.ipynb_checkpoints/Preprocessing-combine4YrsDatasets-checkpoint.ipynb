{
 "cells": [
  {
   "cell_type": "code",
   "execution_count": 64,
   "metadata": {},
   "outputs": [],
   "source": [
    "import pandas as pd  \n",
    "import matplotlib.pyplot as plt\n",
    "import seaborn as sns\n",
    "import numpy as np\n",
    "from functools import reduce\n",
    "import sys\n",
    "np.set_printoptions(threshold=sys.maxsize)"
   ]
  },
  {
   "cell_type": "code",
   "execution_count": 65,
   "metadata": {},
   "outputs": [
    {
     "name": "stdout",
     "output_type": "stream",
     "text": [
      "Size of dataframe =  (25759, 366)\n",
      "Size of dataframe =  (20842, 154)\n",
      "Size of dataframe =  (18752, 149)\n",
      "Size of dataframe =  (22890, 149)\n",
      "Size of dataframe =  (25762, 47)\n"
     ]
    }
   ],
   "source": [
    "#read data file\n",
    "data10 = \"../data/init_enrollment-2010-2012/PreprocessedSubjects_new.csv\"\n",
    "data15 = '../data/2015-2016/PreprocessedSubjects15-16_new.csv'\n",
    "data16 = '../data/2016-2017/PreprocessedSubject16-17_new.csv'\n",
    "data17 = '../data/2017-2018/PreprocessedSubject17-18_new.csv'\n",
    "\n",
    "labInitial = \"../data/init_enrollment-2010-2012/PreprocessedLabs_new.csv\"\n",
    "\n",
    "df10 = pd.read_csv(data10)\n",
    "df15 = pd.read_csv(data15)\n",
    "df16 = pd.read_csv(data16)\n",
    "df17 = pd.read_csv(data17)\n",
    "\n",
    "df_lab = pd.read_csv(labInitial)\n",
    "\n",
    "\n",
    "print('Size of dataframe = ', df10.shape)\n",
    "print('Size of dataframe = ', df15.shape)\n",
    "print('Size of dataframe = ', df16.shape)\n",
    "print('Size of dataframe = ', df17.shape)\n",
    "\n",
    "print('Size of dataframe = ', df_lab.shape)\n",
    "\n",
    "# df.head(10)"
   ]
  },
  {
   "cell_type": "code",
   "execution_count": 66,
   "metadata": {},
   "outputs": [
    {
     "name": "stdout",
     "output_type": "stream",
     "text": [
      "Size of dataframe =  (25759, 412)\n"
     ]
    }
   ],
   "source": [
    "# merge initial dataset with initial lab data\n",
    "\n",
    "df10 = pd.merge(df10, df_lab, left_on='PtID', right_on='ID', how='left').drop('ID', axis=1)\n",
    "  \n",
    "print('Size of dataframe = ', df10.shape)\n",
    "    "
   ]
  },
  {
   "cell_type": "code",
   "execution_count": 67,
   "metadata": {},
   "outputs": [],
   "source": [
    "a = np.intersect1d(df17.columns, df16.columns)\n"
   ]
  },
  {
   "cell_type": "code",
   "execution_count": 68,
   "metadata": {},
   "outputs": [],
   "source": [
    "df15Cols = df15.columns\n",
    "df16Cols = df16.columns\n"
   ]
  },
  {
   "cell_type": "code",
   "execution_count": 69,
   "metadata": {},
   "outputs": [
    {
     "name": "stdout",
     "output_type": "stream",
     "text": [
      "['PancreasYearImpDtMnC', 'examAge', 'PancreasOrIslet', 'AlbCreatRatUnitsNew', 'IsletCellDtUnk', 'InsOtherDs', 'PancreasDtUnk', 'albCreatRatNumNew', 'InsOther', 'IsletCellYearImpDtMnC']\n",
      "['PancreasDtUnkNew', 'IsletCellYearNewImpDtMnC', 'URINALYSISLESSMINDETNEW', 'PancreasYearNewImpDtMnC', 'IsletCellDtUnkNew']\n"
     ]
    }
   ],
   "source": [
    "# column name difference in 2015/16 and 2016/17 dataset\n",
    "\n",
    "diff15 = set(df15Cols.tolist()) - set(df16Cols.tolist())\n",
    "diff15 = list(diff15)\n",
    "\n",
    "print(diff15)\n",
    "\n",
    "\n",
    "diff16 = set(df16Cols.tolist()) - set(df15Cols.tolist())\n",
    "diff16 = list(diff16)\n",
    "\n",
    "print(diff16)\n"
   ]
  },
  {
   "cell_type": "code",
   "execution_count": 70,
   "metadata": {},
   "outputs": [],
   "source": [
    "# rename columns in 2015/2016 dataset - \n",
    "df15.rename(columns={'PancreasYearImpDtMnC':'PancreasYearNewImpDtMnC', 'IsletCellDtUnk':'IsletCellDtUnkNew', 'IsletCellYearImpDtMnC':'IsletCellYearNewImpDtMnC', 'PancreasDtUnk':'PancreasDtUnkNew'}, inplace=True)\n",
    "\n",
    "df15 = df15.drop(['examAge', 'PancreasOrIslet', 'AlbCreatRatUnitsNew', 'InsOtherDs', 'albCreatRatNumNew', 'InsOther'], 1)\n",
    "df16 = df16.drop(['URINALYSISLESSMINDETNEW'], 1)\n",
    "df17 = df17.drop(['URINALYSISLESSMINDETNEW'], 1)\n"
   ]
  },
  {
   "cell_type": "code",
   "execution_count": 71,
   "metadata": {},
   "outputs": [
    {
     "name": "stdout",
     "output_type": "stream",
     "text": [
      "['WeightDiagUnk', 'Pt_ImmBioAlopecia', 'NumHospOthReas', 'Lipoatrophy', 'Pt_StressDiab', 'Pt_ImmBioPsoriasis', 'InsNPH', 'Pt_GrandchildT1D', 'Pt_BedtimeSnack', 'Pt_MajLifeStressOth', 'PumpTotBolusUnk', 'HGMDloadPers', 'InsApidra', 'Pt_CGMStopExpensive', 'Pt_InsMilitary', 'Pt_EduLevelNoAns', 'HyperglyCritFastGluc', 'AntiIA2EarlTestMonthsFromConsent', 'WeightDiag', 'Pt_CGMUseLength', 'Pt_PumpStopInsuffSupp', 'LipidsNotAvail', 'Pt_PumpStopPreg', 'Lypohyper', 'Pt_LastEyeExamPart', 'IAAEarl', 'Pt_BolusDecUseCorrDoses', 'InsRegular', 'InsPremix7525', 'Pt_CGMUseNumDaysUnk', 'Pt_ChkKetones', 'Pt_InsPumpStartAgeUnk', 'Pt_MenarcheNoAns', 'Pt_InsPumpStartAge', 'Pt_BolusDecNotMeal', 'Pt_NewSchool', 'Pt_Twin', 'Pt_InsCarbRatDinnNotUsed', 'Pt_ImmBioMS', 'Pt_ImmBioGravesDis', 'Pt_PumpCurrDur', 'Pt_ImmBioHypothyroid', 'Pt_InsCarbRat', 'Pt_EduLevelFatherNoAns', 'Pt_CGMStopAlarms', 'Pt_HealthProfMedSoc', 'InsPremix5050', 'Pt_UnitsInsBasalUnk', 'InsCarbRatDinnUnk', 'NumDKAOccurUnk', 'InsulinDeliv', 'Pt_InsCarbRatLunchUnk', 'AlbuminStatus', 'Pt_InitTrt', 'Pt_SiblingT1D', 'Pt_InsPremix5050', 'Pt_CGMStopOther', 'Pt_BirthRelMoveIn', 'Pt_InjPremixDay', 'RenalFailDial', 'WeightDiagUnits', 'Pt_InsMediGap', 'Pt_MenarcheNever', 'Pt_NewHome', 'MedBGContOther', 'Pt_FinProb', 'MedBGContDPP4Inhib', 'PulseRateUnk', 'Pt_CGMStopInsurance', 'ACEARBHyperten', 'OralAgnTrt', 'DiagAge', 'Pt_ReturnPump', 'Pt_PumpStopHypo', 'Pt_InsNoAns', 'Pt_VitaminD', 'NumSHSeizComaPast12mos', 'Pt_InsApidra', 'AntiGADEarl', 'HeightDiagUnk', 'Pt_BolusDecCntExchg', 'AgeAtConsent', 'Pt_RegMenstCyc', 'HeightUnits', 'Pt_BolusDaySnackFreq', 'InsLevemir', 'Pt_SmokeAmt', 'Pt_CGMStopPreg', 'HGMNumDays', 'InsCarbRatBrkfstNotUsed', 'Pt_InsCarbRatBrkfstUnk', 'Pt_CGMStopUse', 'Pt_InsUnknown', 'NumDKAOccur', 'HbA1cFructoAvail', 'Pt_LongActInsDayNotUsed', 'InsCarbRatBrkfstUnk', 'Pt_CGMStopDrRec', 'Pt_CGMStopInsuffHCP', 'Pt_GlaucTrt', 'InsCarbRatLunchUnk', 'Pt_SevHypoEver', 'InsOther', 'AntiIA2MosRecTestMonthsFromConsent', 'Pt_CGMStopHypo', 'Pt_Smoke', 'CeliacTestMonthsFromConsent', 'CGMGlucStd', 'Pt_LongActInsDayUnk', 'ICAEarlTestMonthsFromConsent', 'Pt_LegBlind', 'IAAMosRecTestMonthsFromConsent', 'ReqInsulinCrit', 'Pt_InsCarbRatLunch', 'Pt_ImmBioLupus', 'Pt_ExtBioFamT1D', 'Pt_TwinT1D', 'Pt_PumpStopInsurance', 'AntiThyroidPerox', 'AcanNigrPres', 'TannerPubicH', 'Pt_v3NumERVisOthReas', 'Pt_CGMDurPreg', 'Pt_MajLifeStress', 'Pt_MaritalStatusNoAns', 'Pt_FishOil', 'Pt_InjMethod', 'Pt_DiabRetTrtPart', 'Pt_MenarcheUnk', 'Pt_HighBldPrTrtDurUnk', 'Height', 'Pt_PumpStopDrRec', 'Pt_CGMStopAnxiety', 'Pt_InsCarbRatBrkfstNotUsed', 'Gender', 'Pt_CGMStopMeds', 'Pt_EduLevelUnk', 'Pt_ImmBioPernAnemia', 'Pt_NumBolusDay', 'Pt_InsCarbRatDinnUnk', 'AllMetersAvail', 'Pt_InsLev1PerDay', 'Pt_ImmBioVitiligo', 'PostKidneyTrans', 'LastEyeExam', 'TannerBreGen', 'InsCarbRatLunch', 'Pt_InjLongActDayNotUsed', 'Pt_StillBirthNoAns', 'Pt_EduLevelMotherNoAns', 'InsPremix7030', 'ICAMosRec', 'DiabRetTrt', 'AntiGADEarlTestMonthsFromConsent', 'Pt_CGMStopComplicated', 'Pt_MealBolusMethod', 'InsCarbRatDinn', 'HGMStDev', 'ZincTransMosRecTestMonthsFromConsent', 'Pt_InsOtherGov', 'AntiIA2Earl', 'DKADiag', 'Pt_MotherT1D', 'AntiIA2MosRec', 'HyperglyCritConvincingHx', 'Pt_EduLevelFather', 'Pt_SerIllnessInjFam', 'FootUlcerPres', 'Pt_CGMStopAccuracy', 'ACEARBDiabRetinop', 'HyperglyCritTwoHourOGTT', 'CeliacSmBowBiopYearsFromConsent', 'ZincTransEarlTestMonthsFromConsent', 'WeightUnits', 'Pt_BolusDecUnk', 'HeightDiagUnits', 'Pt_DaysWkExUnk', 'NumOfficeVisitsUnk', 'Pt_InsPremix7030', 'Pt_MaritalStatus', 'Pt_ChkBldSugPriBolus', 'GFRBelow60', 'InsHumalog', 'Pt_CeliacDrAge', 'NumHypoEventUnk', 'ACEARBOth', 'Pt_LogBook', 'Pt_HighBldPrTrtDur', 'Pt_DaysWkExDNA', 'ZincTransEarl', 'Pt_HealthProfDiabEdu', 'AntiGADMosRec', 'Pt_SerArguments', 'IAAEarlTestMonthsFromConsent', 'ExamDaysFromConsent', 'Pt_MiscarriageNum', 'Pt_InsSCHIP', 'HGMDloadAvail', 'Pt_CGMUse', 'TannerNotDone', 'Pt_HouseholdCnt', 'Pt_DaysLeavePumpInsUnk', 'Pt_HospDKASinceDiag', 'Pt_ShortActInsDay', 'T1DAANotAvail', 'Pt_PumpStopOther', 'Pt_LevLantTaken', 'Pt_InsCarbRatBrkfst', 'Pt_PumpStopProblems', 'Pt_v3NumHospOthReas', 'Pt_InsLev2PerDay', 'HeightDiag', 'Pt_BolusDecChart', 'Pt_InsSingleService', 'PumpTotBasInsUnk', 'Pt_BolusDecCntCarb', 'Pt_CGMDeviceType', 'MedBGContGLP1An', 'Pt_NumMeterCheckDay', 'Pt_LongActInsDay', 'HGMTestCntAvg', 'Pt_InjLongActDay', 'Pt_MenarcheAge', 'Pt_LogBookAdjFut', 'Pt_InsNPH', 'Pt_DLoadHGMFreq', 'ICAMosRecTestMonthsFromConsent', 'Pt_SepDivorce', 'ICAEarl', 'Pt_RaceEth', 'Pt_StillBirthNum', 'Pt_EduLevelMotherUnk', 'Pt_InsState', 'Pt_InsMedicaid', 'Pt_InsLantus', 'ACEARBProphyl', 'Pt_NumMeterCheckDayUnk', 'Pt_ChildT1D', 'CeliacTest', 'Pt_ImmBioRheumArth', 'Pt_InsCarbRatDinn', 'Pt_PumpStopDKA', 'Pt_SchoolWorkPersProb', 'Pt_PumpStopAnxiety', 'Pt_PriorPregNoAns', 'Pt_HospFamMember', 'Pt_EmployStatus', 'Pt_InsLant2PerDay', 'ACEARBHeartFail', 'Pt_CGMUseNumDays', 'Pt_InsNoCoverage', 'Pt_ImmBioCeliac', 'Pt_LiveBirthNum', 'Pt_BasInsRateChgDayUnk', 'Pt_InsulinRecMethod', 'Pt_JobLoss', 'Pt_BolusBedtimeSnackFreq', 'Pt_DaysLeavePumpIns', 'Pt_DeathFriend', 'FructoAlt', 'CGMPctBelow55', 'Pt_UnitsInsBolus', 'CGMGlucMeanUnits', 'Pt_UnitsInsBolusUnk', 'ACEARBDiabNephrop', 'Pt_CGMStopNotHelpful', 'PumpTotBolus', 'InsCarbRatLunchNotUsed', 'Pt_AnnualIncUnk', 'HyperglyCritHbA1c', 'Pt_InsNovolog', 'ACEARBUnk', 'Pt_GenHealth', 'CGMGlucPctBelow60', 'Pt_InsPriv', 'Pt_PumpStopNotHelpful', 'CGMPctBelow80', 'TannerEither', 'IAAMosRec', 'Pt_OthVitMin', 'CGMGlucMean', 'PumpTotBasIns', 'Pt_CGMStopReschStdy', 'Pt_v3NumSHSeizComa', 'Pt_EduLevelFatherUnk', 'Pt_CeliacDr', 'Pt_NumHospDKA', 'Pt_InsCarbRatLunchNotUsed', 'Pt_BolusDecExp', 'Pt_CGMStopProblems', 'Pt_GlutFreeDiet', 'Pt_DLoadCGMFreq', 'Pt_PumpManuf', 'Pt_ImmBioT2D', 'HyperglyCritRandGluc', 'MedBGContMetformin', 'ShortTermCGMHx', 'Pt_PremixInsDayUnk', 'Pt_CGMReturnManuf', 'Pt_InsOther', 'Pt_InsPremix7525', 'ZincTransMosRec', 'Pt_Calcium', 'Pt_PumpStopInsuffHCP', 'InsNovolog', 'Pt_AnnualIncNoAns', 'HGMGlucMean', 'Pt_CurrPreg', 'AcanNigrDiag', 'Pt_PumpStopComplicated', 'InsCarbRatDinnNotUsed', 'Pt_DeathFam', 'Pt_HealthProfMental', 'Weight', 'ThyroidAntibodyTest', 'CGMDloadAvail', 'Pt_PumpStopWear', 'NumOfficeVisits', 'CGMGlucPctBelow70', 'Pt_MiscarriageNoAns', 'Pt_CeliacSympPri', 'Pt_PumpStopUse', 'Pt_PumpModel', 'NumERVisOthReas', 'Pt_BasInsRateChgDay', 'Pt_CatSurg', 'Pt_InsIndian', 'Pt_PriorPregNum', 'Pt_PumpStopReschStdy', 'Pt_EduLevelMother', 'Pt_InsPremixSplitUnk', 'Pt_BolusDecCalcPump', 'DKAPast12mos', 'Pt_InsMedicare', 'Pt_InjShortActDayNotUsed', 'Pt_IrregMenstCycReas', 'Pt_NumBolusDayUnk', 'Pt_Aspirin', 'Pt_EmployStatusNoAns', 'Pt_MissInsDoseFreq', 'HGMGlucMeanUnits', 'Pt_EduLevel', 'MedBGContPramlin', 'Pt_SerIllnessInj', 'Pt_CGMStopInsuffSupp', 'Pt_CGMStopDKA', 'Pt_HighBldPrTrt', 'Pt_HealthProfDiet', 'Pt_PumpStopExpensive', 'Pt_InjShortActDay', 'Pt_ShortActInsDayUnk', 'Pt_LiveBirthNoAns', 'Pt_InsLevemir', 'Pt_InsHumalog', 'Pt_CGMStopWear', 'CGMNumDays', 'Pt_InsRegular', 'ThyroidAntibodyTestMonthsFromConsent', 'LipidsTestMonthsFromConsent', 'SHSeizComaPast12mos', 'Pt_LegalProbl', 'AntiGADMosRecTestMonthsFromConsent', 'Pt_PremixInsDay', 'Pt_ImmBioAddison', 'InsLantus', 'Pt_TwinType', 'Pt_UnitsInsBasal', 'Pt_InsLant1PerDay', 'NumSHSeizComa', 'Pt_FatherT1D', 'Pt_AcademicProb', 'Pt_InsUnk', 'Pt_ShortActInsDayNotUsed', 'InsCarbRatBrkfst', 'ParticipantFormType', 'CGMPctAbove180', 'PulseRate', 'Pt_ImmBioFamT1D', 'Pt_GrandparentT1D', 'Pt_ParCloseFriendMove', 'Pt_BolusDecFixed', 'NephropOthCause', 'Pt_InsPremix', 'PrevMicroalbuminCurrNone', 'Pt_PumpDurPreg', 'AntiThyroGlob', 'Pt_DaysWkEx']\n",
      "\n",
      "['EyeTrtLaser', 'RenDisNotDiab', 'CGMUsedNumDaysUnk', 'EyeExamYrMonImpDtMnC', 'PancreasYearNewImpDtMnC', 'SerCreat', 'SMBGperDayPtMeterComboCat', 'EyeExamProlifRetin', 'NoExam', 'RenDisNotDiabNoHx', 'EyeExam', 'BGTestMetDatNotAvail', 'NumPumpBolusOrShortActUnk', 'CeliacTestYrMonImpDtMnC', 'bmiZscore', 'T4Units', 'LipidsTestYrMonImpDtMnC', 'HematocritTestYrMonImpDtMnC', 'InsUnknown', 'KidTransYearImpDtMnC', 'HCT', 'PancreasDtUnkNew', 'Gastropar', 'InsGov', 'RenalFailHx', 'InsNoCoverage', 'Pt_raceEthNew', 'shFlg', 'EyeTrtNone', 'EyeExamDiabMacEd', 'SMBGperDayPtMeterCombo', 'InjMethod', 'RenFailStatPostFailKidTrans', 'DialPreKidTransDtUnk', 'AutonomicNeuroCl', 'EyeTrtIntraInj', 'SerCreatTestYrMonImpDtMnC', 'BGTestAvgNumMeter', 'RenFailStatNoTrans', 'UrinAlbNew', 'bmiPerc', 'DialPostFailKidTransDtUnk', 'UnitsInsBasalOrLongAct', 'HeightCm', 'TSH', 'EyeTrtOther', 'UnitsInsBasalOrLongActUnk', 'BGTestAvgNumPtRep', 'IsletCellYearNewImpDtMnC', 'ageConsent', 'Method', 'diabDur', 'EyeTrtUnk', 'BGTestPtRepDatNotAvail', 'BUNUnits', 'PumpManuf', 'bmi', 'age', 'CollectionTypeNew', 'TotalDailyInsPerKg', 'NonInsMed', 'AlbCreatRat_mggNew', 'PregAtVisit', 'dkaFlg', 'UrinCreatNew', 'InsulinUsed4', 'GFR', 'AlbuminuriaStatus', 'BUNTestYrMonImpDtMnC', 'GFRTestYrMonImpDtMnC', 'DialPostFailKidTransYearImpDtMnC', 'EyeExamVitrHem', 'UrinalysisDtImputeNewMnC', 'UnitsInsTotal', 'InsPriv', 'GFRAbove60', 'KidTreasDtUnk', 'InsulinUsed1', 'HbA1cImputeDtMnC', 'RenFailStatPostKidTrans', 'IsletCellDtUnkNew', 'DiagAgeCombo', 'EyeTrtVitr', 'BloodTstNotAvail', 'EyeExamNoRetin', 'CGMModel', 'InsulinUsed5', 'InsulinUsed2', 'Pt_Gender', 'NumPumpBolusOrShortAct', 'SerCreatUnits', 'FreeT4', 'CGMManuf', 'EyeCareProvType', 'ThyrFuncTestYrMonImpDtMnC', 'BUN', 'DialPreKidTransYearImpDtMnC', 'WeightKg', 'CGMUsedDevRschStudy', 'CGMUsedNumDays', 'UrinCreatUnitsNew', 'CeliacSmBowBiopYearImpDtMnC', 'Pancreas', 'UrinAlbUnitsNew', 'EyeExamLegBlind', 'FreeT4Units', 'HbA1c', 'PregInPastYear', 'InsulinUsed3', 'GFRIsBelow60', 'RenFailStatNoTrt', 'SmokeCurr', 'UnitsInsUnk', 'InsulinDelivMeth', 'MaritalStat', 'educatNew', 'EyeExamNonProlifRetin', 'IsletCell', 'T4', 'PumpModel', 'InsSingleService', 'DiabPeriNeuro', 'CeliacDGP']\n"
     ]
    }
   ],
   "source": [
    "\n",
    "df10Cols = df10.columns\n",
    "df16Cols = df16.columns\n",
    "\n",
    "diff10 = set(df10Cols.tolist()) - set(df16Cols.tolist())\n",
    "diff10 = list(diff10)\n",
    "\n",
    "print(diff10)\n",
    "print()\n",
    "\n",
    "diff16 = set(df16Cols.tolist()) - set(df10Cols.tolist())\n",
    "diff16 = list(diff16)\n",
    "\n",
    "print(diff16)"
   ]
  },
  {
   "cell_type": "code",
   "execution_count": null,
   "metadata": {},
   "outputs": [],
   "source": [
    "\n"
   ]
  },
  {
   "cell_type": "code",
   "execution_count": null,
   "metadata": {},
   "outputs": [],
   "source": []
  }
 ],
 "metadata": {
  "kernelspec": {
   "display_name": "Python 3 (ipykernel)",
   "language": "python",
   "name": "python3"
  },
  "language_info": {
   "codemirror_mode": {
    "name": "ipython",
    "version": 3
   },
   "file_extension": ".py",
   "mimetype": "text/x-python",
   "name": "python",
   "nbconvert_exporter": "python",
   "pygments_lexer": "ipython3",
   "version": "3.9.2"
  }
 },
 "nbformat": 4,
 "nbformat_minor": 4
}
